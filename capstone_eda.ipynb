{
 "cells": [
  {
   "cell_type": "markdown",
   "id": "ce09a634-29c2-45a9-8493-3f03dc46cc7a",
   "metadata": {},
   "source": [
    "# Exploratory Data Analysis\n",
    "\n",
    "Now that I have created my initial dataset, it is time to do some data exploration.\n",
    "\n",
    "The questions I want explore for this project are:\n",
    "1. **What is the age that a person is at their physical peak?**\n",
    "    - I will explore the data and create visualisations to use in my presentation.\n",
    "2. **What sport would a person be best at based on their natural attributes?**\n",
    "    - I will create a model (in another file) to answer this question based on the athletes' attributes.\n",
    "    - I will make changes to the dataset so that there are more features for my model (currently there is only age, height, weight)."
   ]
  },
  {
   "cell_type": "markdown",
   "id": "0311493e-ebf4-41b9-ab57-f05ab2ff2715",
   "metadata": {},
   "source": [
    "## Initial Exploration"
   ]
  },
  {
   "cell_type": "code",
   "execution_count": 12,
   "id": "03ea41a7-5a0a-4f6c-88f2-fbd8c81d4cf1",
   "metadata": {},
   "outputs": [],
   "source": [
    "## Firstly import relevant libraries for exploring data\n",
    "# For data usage\n",
    "import pandas as pd\n",
    "import numpy as np\n",
    "\n",
    "# For visualisations\n",
    "import seaborn as sns\n",
    "import matplotlib.pyplot as plt"
   ]
  },
  {
   "cell_type": "code",
   "execution_count": 14,
   "id": "52e142e7-6f51-4a29-af88-142a99373940",
   "metadata": {},
   "outputs": [],
   "source": [
    "# Import the initial dataset we created before\n",
    "df = pd.read_csv('Olympic Athlete Complete Data.csv')"
   ]
  },
  {
   "cell_type": "code",
   "execution_count": 18,
   "id": "445d90bc-9257-4a7c-a889-1c8c9cf0fb53",
   "metadata": {},
   "outputs": [],
   "source": [
    "# For some reason there is now an extra index column, so remove this\n",
    "df = df.drop(columns = ['Unnamed: 0'])"
   ]
  },
  {
   "cell_type": "code",
   "execution_count": 22,
   "id": "17d654c9-f7c3-426d-81c7-5940d00afcf2",
   "metadata": {},
   "outputs": [
    {
     "data": {
      "text/html": [
       "<div>\n",
       "<style scoped>\n",
       "    .dataframe tbody tr th:only-of-type {\n",
       "        vertical-align: middle;\n",
       "    }\n",
       "\n",
       "    .dataframe tbody tr th {\n",
       "        vertical-align: top;\n",
       "    }\n",
       "\n",
       "    .dataframe thead th {\n",
       "        text-align: right;\n",
       "    }\n",
       "</style>\n",
       "<table border=\"1\" class=\"dataframe\">\n",
       "  <thead>\n",
       "    <tr style=\"text-align: right;\">\n",
       "      <th></th>\n",
       "      <th>athlete_id</th>\n",
       "      <th>height_cm</th>\n",
       "      <th>weight_kg</th>\n",
       "      <th>age</th>\n",
       "      <th>year</th>\n",
       "      <th>position</th>\n",
       "    </tr>\n",
       "  </thead>\n",
       "  <tbody>\n",
       "    <tr>\n",
       "      <th>count</th>\n",
       "      <td>237781.000000</td>\n",
       "      <td>184509.000000</td>\n",
       "      <td>177203.000000</td>\n",
       "      <td>237781.000000</td>\n",
       "      <td>237781.000000</td>\n",
       "      <td>220096.000000</td>\n",
       "    </tr>\n",
       "    <tr>\n",
       "      <th>mean</th>\n",
       "      <td>63792.221620</td>\n",
       "      <td>175.573457</td>\n",
       "      <td>70.582851</td>\n",
       "      <td>25.996027</td>\n",
       "      <td>1979.226616</td>\n",
       "      <td>15.410666</td>\n",
       "    </tr>\n",
       "    <tr>\n",
       "      <th>std</th>\n",
       "      <td>41002.059643</td>\n",
       "      <td>10.873707</td>\n",
       "      <td>14.649773</td>\n",
       "      <td>6.097541</td>\n",
       "      <td>31.401223</td>\n",
       "      <td>19.676994</td>\n",
       "    </tr>\n",
       "    <tr>\n",
       "      <th>min</th>\n",
       "      <td>1.000000</td>\n",
       "      <td>127.000000</td>\n",
       "      <td>25.000000</td>\n",
       "      <td>10.581793</td>\n",
       "      <td>1896.000000</td>\n",
       "      <td>1.000000</td>\n",
       "    </tr>\n",
       "    <tr>\n",
       "      <th>25%</th>\n",
       "      <td>29757.000000</td>\n",
       "      <td>168.000000</td>\n",
       "      <td>60.000000</td>\n",
       "      <td>21.924709</td>\n",
       "      <td>1960.000000</td>\n",
       "      <td>4.000000</td>\n",
       "    </tr>\n",
       "    <tr>\n",
       "      <th>50%</th>\n",
       "      <td>55629.000000</td>\n",
       "      <td>175.000000</td>\n",
       "      <td>70.000000</td>\n",
       "      <td>25.015743</td>\n",
       "      <td>1988.000000</td>\n",
       "      <td>8.000000</td>\n",
       "    </tr>\n",
       "    <tr>\n",
       "      <th>75%</th>\n",
       "      <td>102829.000000</td>\n",
       "      <td>183.000000</td>\n",
       "      <td>79.000000</td>\n",
       "      <td>28.892539</td>\n",
       "      <td>2004.000000</td>\n",
       "      <td>17.000000</td>\n",
       "    </tr>\n",
       "    <tr>\n",
       "      <th>max</th>\n",
       "      <td>147804.000000</td>\n",
       "      <td>226.000000</td>\n",
       "      <td>198.000000</td>\n",
       "      <td>72.815880</td>\n",
       "      <td>2020.000000</td>\n",
       "      <td>185.000000</td>\n",
       "    </tr>\n",
       "  </tbody>\n",
       "</table>\n",
       "</div>"
      ],
      "text/plain": [
       "          athlete_id      height_cm      weight_kg            age  \\\n",
       "count  237781.000000  184509.000000  177203.000000  237781.000000   \n",
       "mean    63792.221620     175.573457      70.582851      25.996027   \n",
       "std     41002.059643      10.873707      14.649773       6.097541   \n",
       "min         1.000000     127.000000      25.000000      10.581793   \n",
       "25%     29757.000000     168.000000      60.000000      21.924709   \n",
       "50%     55629.000000     175.000000      70.000000      25.015743   \n",
       "75%    102829.000000     183.000000      79.000000      28.892539   \n",
       "max    147804.000000     226.000000     198.000000      72.815880   \n",
       "\n",
       "                year       position  \n",
       "count  237781.000000  220096.000000  \n",
       "mean     1979.226616      15.410666  \n",
       "std        31.401223      19.676994  \n",
       "min      1896.000000       1.000000  \n",
       "25%      1960.000000       4.000000  \n",
       "50%      1988.000000       8.000000  \n",
       "75%      2004.000000      17.000000  \n",
       "max      2020.000000     185.000000  "
      ]
     },
     "execution_count": 22,
     "metadata": {},
     "output_type": "execute_result"
    }
   ],
   "source": [
    "# Let's look at the statistics of the numerical columns\n",
    "df.describe()"
   ]
  },
  {
   "cell_type": "markdown",
   "id": "e2775986-2316-458e-a84b-a4bf94b27a40",
   "metadata": {},
   "source": [
    "#### Initial information from df.describe()\n",
    "\n",
    "|       | **mean** | **sd** | **max** | **min** |\n",
    "|-------|----------|--------|---------|---------|\n",
    "|**height**| 175.57cm | 10.87cm | 226cm | 127cm |\n",
    "|**weight**| 70.58kg  | 14.65kg | 198kg | 25kg  |\n",
    "|**age**   | 26 years | 6.09 years | 72.82 years | 10.58 years |\n",
    "\n",
    "\n",
    "Average age is 26 years with standard deviation of 6.09 years. So is this the best answer for the physical peak?\n",
    "\n",
    "No:\n",
    "- This considers every sport equally which may skew the data (e.g. sports like golf don't require peak physique)\n",
    "- This dataset goes back the 1896. Sports science has developed since then meaning that the age of physical peak has likely changed.\n",
    "- Perhaps a human's physical peak also depends on their height?\n",
    "- Even though athletes represent humans at their physical peak, they'll have their own phyical peak at a certain age.\n",
    "    - It may be useful to look into the finishing positions of the athletes to see how old the best ones are.\n",
    "- Also the gender of the athlete may also be a factor. We need to create a new column with the gender of the athlete (use the event column)\n",
    "\n",
    "Now for some further data exploration."
   ]
  },
  {
   "cell_type": "markdown",
   "id": "047ba0fe-8122-4127-8b14-1c5791bbb044",
   "metadata": {},
   "source": [
    "## Average Age through the years"
   ]
  },
  {
   "cell_type": "markdown",
   "id": "5e80b97b-a2e5-46ca-bb0d-e6ea19aaf658",
   "metadata": {},
   "source": [
    "First let's look at a table containing the average age at each Olympic games"
   ]
  },
  {
   "cell_type": "code",
   "execution_count": 28,
   "id": "30d55ef2-1273-466b-8115-960e37e2bfb4",
   "metadata": {
    "scrolled": true
   },
   "outputs": [
    {
     "data": {
      "text/html": [
       "<div>\n",
       "<style scoped>\n",
       "    .dataframe tbody tr th:only-of-type {\n",
       "        vertical-align: middle;\n",
       "    }\n",
       "\n",
       "    .dataframe tbody tr th {\n",
       "        vertical-align: top;\n",
       "    }\n",
       "\n",
       "    .dataframe thead th {\n",
       "        text-align: right;\n",
       "    }\n",
       "</style>\n",
       "<table border=\"1\" class=\"dataframe\">\n",
       "  <thead>\n",
       "    <tr style=\"text-align: right;\">\n",
       "      <th></th>\n",
       "      <th>age</th>\n",
       "    </tr>\n",
       "    <tr>\n",
       "      <th>year</th>\n",
       "      <th></th>\n",
       "    </tr>\n",
       "  </thead>\n",
       "  <tbody>\n",
       "    <tr>\n",
       "      <th>1896.0</th>\n",
       "      <td>24.053110</td>\n",
       "    </tr>\n",
       "    <tr>\n",
       "      <th>1900.0</th>\n",
       "      <td>28.668393</td>\n",
       "    </tr>\n",
       "    <tr>\n",
       "      <th>1904.0</th>\n",
       "      <td>26.878010</td>\n",
       "    </tr>\n",
       "    <tr>\n",
       "      <th>1908.0</th>\n",
       "      <td>27.203501</td>\n",
       "    </tr>\n",
       "    <tr>\n",
       "      <th>1912.0</th>\n",
       "      <td>27.710894</td>\n",
       "    </tr>\n",
       "    <tr>\n",
       "      <th>1920.0</th>\n",
       "      <td>30.075132</td>\n",
       "    </tr>\n",
       "    <tr>\n",
       "      <th>1924.0</th>\n",
       "      <td>28.187449</td>\n",
       "    </tr>\n",
       "    <tr>\n",
       "      <th>1928.0</th>\n",
       "      <td>26.493334</td>\n",
       "    </tr>\n",
       "    <tr>\n",
       "      <th>1932.0</th>\n",
       "      <td>26.024897</td>\n",
       "    </tr>\n",
       "    <tr>\n",
       "      <th>1936.0</th>\n",
       "      <td>26.465487</td>\n",
       "    </tr>\n",
       "    <tr>\n",
       "      <th>1948.0</th>\n",
       "      <td>28.024692</td>\n",
       "    </tr>\n",
       "    <tr>\n",
       "      <th>1952.0</th>\n",
       "      <td>26.709218</td>\n",
       "    </tr>\n",
       "    <tr>\n",
       "      <th>1956.0</th>\n",
       "      <td>26.007067</td>\n",
       "    </tr>\n",
       "    <tr>\n",
       "      <th>1960.0</th>\n",
       "      <td>25.795441</td>\n",
       "    </tr>\n",
       "    <tr>\n",
       "      <th>1964.0</th>\n",
       "      <td>25.536129</td>\n",
       "    </tr>\n",
       "    <tr>\n",
       "      <th>1968.0</th>\n",
       "      <td>24.726903</td>\n",
       "    </tr>\n",
       "    <tr>\n",
       "      <th>1972.0</th>\n",
       "      <td>24.798104</td>\n",
       "    </tr>\n",
       "    <tr>\n",
       "      <th>1976.0</th>\n",
       "      <td>24.321418</td>\n",
       "    </tr>\n",
       "    <tr>\n",
       "      <th>1980.0</th>\n",
       "      <td>24.143932</td>\n",
       "    </tr>\n",
       "    <tr>\n",
       "      <th>1984.0</th>\n",
       "      <td>24.456911</td>\n",
       "    </tr>\n",
       "    <tr>\n",
       "      <th>1988.0</th>\n",
       "      <td>24.626215</td>\n",
       "    </tr>\n",
       "    <tr>\n",
       "      <th>1992.0</th>\n",
       "      <td>24.883141</td>\n",
       "    </tr>\n",
       "    <tr>\n",
       "      <th>1996.0</th>\n",
       "      <td>25.407284</td>\n",
       "    </tr>\n",
       "    <tr>\n",
       "      <th>2000.0</th>\n",
       "      <td>25.928932</td>\n",
       "    </tr>\n",
       "    <tr>\n",
       "      <th>2004.0</th>\n",
       "      <td>26.137397</td>\n",
       "    </tr>\n",
       "    <tr>\n",
       "      <th>2008.0</th>\n",
       "      <td>26.223872</td>\n",
       "    </tr>\n",
       "    <tr>\n",
       "      <th>2012.0</th>\n",
       "      <td>26.469038</td>\n",
       "    </tr>\n",
       "    <tr>\n",
       "      <th>2016.0</th>\n",
       "      <td>26.706941</td>\n",
       "    </tr>\n",
       "    <tr>\n",
       "      <th>2020.0</th>\n",
       "      <td>27.496262</td>\n",
       "    </tr>\n",
       "  </tbody>\n",
       "</table>\n",
       "</div>"
      ],
      "text/plain": [
       "              age\n",
       "year             \n",
       "1896.0  24.053110\n",
       "1900.0  28.668393\n",
       "1904.0  26.878010\n",
       "1908.0  27.203501\n",
       "1912.0  27.710894\n",
       "1920.0  30.075132\n",
       "1924.0  28.187449\n",
       "1928.0  26.493334\n",
       "1932.0  26.024897\n",
       "1936.0  26.465487\n",
       "1948.0  28.024692\n",
       "1952.0  26.709218\n",
       "1956.0  26.007067\n",
       "1960.0  25.795441\n",
       "1964.0  25.536129\n",
       "1968.0  24.726903\n",
       "1972.0  24.798104\n",
       "1976.0  24.321418\n",
       "1980.0  24.143932\n",
       "1984.0  24.456911\n",
       "1988.0  24.626215\n",
       "1992.0  24.883141\n",
       "1996.0  25.407284\n",
       "2000.0  25.928932\n",
       "2004.0  26.137397\n",
       "2008.0  26.223872\n",
       "2012.0  26.469038\n",
       "2016.0  26.706941\n",
       "2020.0  27.496262"
      ]
     },
     "execution_count": 28,
     "metadata": {},
     "output_type": "execute_result"
    }
   ],
   "source": [
    "# The overall average age each year overall Olympics\n",
    "df.groupby('year')[['age']].mean()"
   ]
  },
  {
   "cell_type": "markdown",
   "id": "a4b5f927-9c4e-4174-95f7-988cd15edefa",
   "metadata": {},
   "source": [
    "Different Olympic games have different sports so the above table isn't fair. We need to look at sports individually. Let's look at the disciplines that require the most athleticism.\n",
    "\n",
    "According to ChatGPT, five of the top Olympic sports in terms of athleticism and physicality required are:\n",
    "- Athletics\n",
    "- Swimming (Aquatics)\n",
    "- Gymnastics (Artistic)\n",
    "- Weightlifting\n",
    "- Boxing\n",
    "\n",
    "So let's create the table above but separated into these five disciplines."
   ]
  },
  {
   "cell_type": "markdown",
   "id": "dc89e711-451a-4980-bcd2-f430091d7741",
   "metadata": {
    "jp-MarkdownHeadingCollapsed": true
   },
   "source": [
    "### Creating a Visualisation for the Average Age of 5 Physical Sports each year\n",
    "\n",
    "- First put the information into a dataframe by creating a column for each sport.\n",
    "- Second use seaborn to display the information on a lineplot."
   ]
  },
  {
   "cell_type": "code",
   "execution_count": 37,
   "id": "c6ed497f-b752-4059-88a5-e626e90b6eeb",
   "metadata": {},
   "outputs": [],
   "source": [
    "# Average age by year for athletics\n",
    "athletics = df[df.discipline == 'Athletics'].groupby('year')['age'].mean()"
   ]
  },
  {
   "cell_type": "code",
   "execution_count": 39,
   "id": "6a88ad99-531f-40c6-8647-b6ed497b21d2",
   "metadata": {},
   "outputs": [],
   "source": [
    "# Average age by year for Swimming (Aquatics)\n",
    "swimming = df[df.discipline == 'Swimming (Aquatics)'].groupby('year')['age'].mean()"
   ]
  },
  {
   "cell_type": "code",
   "execution_count": 41,
   "id": "504f7c51-5d24-462b-9727-df2d789ab14b",
   "metadata": {},
   "outputs": [],
   "source": [
    "# Average age by year for Artistic Gymnastics (Gymnastics)\n",
    "gymnastics = df[df.discipline == 'Artistic Gymnastics (Gymnastics)'].groupby('year')['age'].mean()"
   ]
  },
  {
   "cell_type": "code",
   "execution_count": 43,
   "id": "c3295fb1-9f5c-4611-8c4e-5065e6ad9b12",
   "metadata": {},
   "outputs": [],
   "source": [
    "# Average age by year for Weightlifting\n",
    "weightlifting = df[df.discipline == 'Weightlifting'].groupby('year')['age'].mean()"
   ]
  },
  {
   "cell_type": "code",
   "execution_count": 45,
   "id": "16a50e20-5ee5-4cea-9e5b-5f4cf21092c0",
   "metadata": {},
   "outputs": [],
   "source": [
    "# Average age by year for Boxing\n",
    "boxing = df[df.discipline == 'Boxing'].groupby('year')['age'].mean()"
   ]
  },
  {
   "cell_type": "code",
   "execution_count": 51,
   "id": "f792269b-7234-40da-afad-0971f8401f71",
   "metadata": {},
   "outputs": [],
   "source": [
    "# Combining each of the new columns above into a dataframe\n",
    "df_age = pd.DataFrame(data = {'athletics': athletics,\n",
    "                              'swimming' : swimming, \n",
    "                              'gymnastics' : gymnastics,\n",
    "                              'weightlifting' : weightlifting,\n",
    "                              'boxing' : boxing})"
   ]
  },
  {
   "cell_type": "code",
   "execution_count": 53,
   "id": "344b6c46-be20-45e7-881f-1ce9a57fcfd8",
   "metadata": {},
   "outputs": [],
   "source": [
    "## Creating an Olympic Colour Palette (these are the exact olympic colour codes)\n",
    "# Also create a palette without black because black doesn't work in boxplots (which I will use later)\n",
    "olympic_palette = sns.color_palette(['#0081C8', '#FCB131', '#000000', '#00A651', '#EE334E'])\n",
    "no_black_palette = sns.color_palette(['#0081C8', '#FCB131', '#00A651', '#EE334E'])"
   ]
  },
  {
   "cell_type": "code",
   "execution_count": 55,
   "id": "071bf9aa-a65d-4b77-85dd-52b5794ba385",
   "metadata": {},
   "outputs": [
    {
     "data": {
      "image/png": "[encoded data removed]",
      "text/plain": [
       "<Figure size 1000x600 with 1 Axes>"
      ]
     },
     "metadata": {},
     "output_type": "display_data"
    }
   ],
   "source": [
    "# Plot the average age of the five sports by year of Olympics\n",
    "plt.figure(figsize = (10,6))        # Figure size\n",
    "sns.set_style(style = 'whitegrid')  # Background grid makes it look more clear\n",
    "sns.lineplot(data = df_age,                # The dataset I have just created\n",
    "             palette = olympic_palette)    # Use the Olympic colour palette\n",
    "\n",
    "# Axis labels\n",
    "plt.xlabel('Year')\n",
    "plt.ylabel('Average Age')\n",
    "\n",
    "plt.savefig('Average age through the years')   # Save the visualisation to use in my presentation.\n",
    "plt.show()"
   ]
  },
  {
   "cell_type": "markdown",
   "id": "dd8e21a5-0cb2-4b14-91e2-228074bdefbb",
   "metadata": {},
   "source": [
    "**Notes:**\n",
    "\n",
    "Overall the average age fluctuates massively between 1896 and 2020 in every discipline.\n",
    "\n",
    "Notice that since around 1980s, the general trend is an upward trajectory in average age for every sport.\n",
    "- I think this may be to do with the developments in technology and data analytics in recent history, meaning that new research in sports science has gradually made the peak physical age increase.\n",
    "- This also means that we should focus on the most recent Olympic games and ignore data from a long time ago.\n",
    "\n",
    "Also notice that the average age differs between disciplines, this is important to note."
   ]
  },
  {
   "cell_type": "markdown",
   "id": "2807aab1-0867-4973-a79a-204efe0c43ac",
   "metadata": {},
   "source": [
    "## Making changes to the dataframe\n",
    "\n",
    "I want the updated dataframe to contain:\n",
    "\n",
    "1. Only the events and disciplines that were in the 2020 Olympics.\n",
    "2. A gender column (I will need to use the event names to create this column).\n",
    "3. A new 'age_rounded' column that rounds the athletes age down to the whole year (this will be useful for visualisations).\n",
    "4. Creating a column that separates Olympic sports into physical and non-physical sports.\n",
    "5. Creating a column that separates Olympic sports into team and individual sports.\n",
    "\n",
    "The updated dataframe containing this information will be ```df2```."
   ]
  },
  {
   "cell_type": "markdown",
   "id": "a228fa86-4d09-426e-836e-1309aa1d48c2",
   "metadata": {
    "jp-MarkdownHeadingCollapsed": true
   },
   "source": [
    "### 1. 2020 Events and Disciplines only"
   ]
  },
  {
   "cell_type": "code",
   "execution_count": 64,
   "id": "42bacce1-7134-4b00-81de-98b9b2945055",
   "metadata": {},
   "outputs": [],
   "source": [
    "# I want to narrow the dataframe down to only disciplines and events from 2020 Olympics\n",
    "events_2020 = df[df.year == 2020].event.unique().tolist()\n",
    "disciplines_2020 = df[df.year == 2020].discipline.unique().tolist()"
   ]
  },
  {
   "cell_type": "code",
   "execution_count": 66,
   "id": "235eb169-838a-4311-9972-1d32e46c15ff",
   "metadata": {},
   "outputs": [],
   "source": [
    "# Creating a new dataframe that only contains disciplines and events from 2020\n",
    "# (note that this does NOT mean that the data in this dataframe is only about athletes from 2020)\n",
    "df2 = df[(df.event.isin(events_2020)) & (df.discipline.isin(disciplines_2020))]"
   ]
  },
  {
   "cell_type": "markdown",
   "id": "a5a576bf-2b13-49dd-8c66-6d130da00680",
   "metadata": {
    "jp-MarkdownHeadingCollapsed": true
   },
   "source": [
    "### 2. Creating a Gender column\n",
    "\n",
    "The majority of the event names contain either the word 'Men' or 'Women' to distinguish who is participating. I will use this information to create the new gender column."
   ]
  },
  {
   "cell_type": "code",
   "execution_count": 77,
   "id": "a02c71eb-ff73-4733-afb7-e77bfb2fc304",
   "metadata": {},
   "outputs": [
    {
     "data": {
      "text/plain": [
       "292"
      ]
     },
     "execution_count": 77,
     "metadata": {},
     "output_type": "execute_result"
    }
   ],
   "source": [
    "# Number of Events Total 2020\n",
    "len(df2.event.unique())"
   ]
  },
  {
   "cell_type": "code",
   "execution_count": 79,
   "id": "9691ebdb-04c2-418d-a539-7106b0584188",
   "metadata": {},
   "outputs": [
    {
     "data": {
      "text/plain": [
       "135"
      ]
     },
     "execution_count": 79,
     "metadata": {},
     "output_type": "execute_result"
    }
   ],
   "source": [
    "# Number of Female Events 2020\n",
    "len(df2[df2.event.str.contains('Women')].event.unique())"
   ]
  },
  {
   "cell_type": "code",
   "execution_count": 81,
   "id": "845b230d-f0e3-4cbc-b945-af8e2ba9a224",
   "metadata": {},
   "outputs": [
    {
     "data": {
      "text/plain": [
       "144"
      ]
     },
     "execution_count": 81,
     "metadata": {},
     "output_type": "execute_result"
    }
   ],
   "source": [
    "# Number of Male Events 2020\n",
    "len(df2[df2.event.str.contains('Men')].event.unique())"
   ]
  },
  {
   "cell_type": "code",
   "execution_count": 83,
   "id": "0f0553bb-5a80-45e7-9ade-b599b1e66bea",
   "metadata": {},
   "outputs": [
    {
     "data": {
      "text/plain": [
       "9"
      ]
     },
     "execution_count": 83,
     "metadata": {},
     "output_type": "execute_result"
    }
   ],
   "source": [
    "# Number of Mixed Events 2020\n",
    "len(df2[df2.event.str.contains('Mixed')].event.unique())"
   ]
  },
  {
   "cell_type": "code",
   "execution_count": 85,
   "id": "701fbb38-155b-4bf5-ae5c-4bb13d880744",
   "metadata": {},
   "outputs": [
    {
     "data": {
      "text/plain": [
       "['Individual, Open (Olympic)',\n",
       " 'Team, Open (Olympic)',\n",
       " 'Cycling Road (Cycling)',\n",
       " 'Marathon Swimming (Aquatics)']"
      ]
     },
     "execution_count": 85,
     "metadata": {},
     "output_type": "execute_result"
    }
   ],
   "source": [
    "# Events that don't specify 'Men', 'Women', or 'Mixed' 2020\n",
    "df2[(df2.event.str.contains('Men') == False) & \n",
    "    (df2.event.str.contains('Women') == False) &\n",
    "    (df2.event.str.contains('Mixed') == False)]['event'].unique().tolist()"
   ]
  },
  {
   "cell_type": "markdown",
   "id": "5a5e18b3-c686-4f50-bd2a-5163e969fde4",
   "metadata": {},
   "source": [
    "There are 292 unique events:\n",
    "- 135 contain the word 'Women'\n",
    "- 144 contain the word 'Men'\n",
    "- 9 contain the word 'Mixed'\n",
    "- 4 others.\n",
    "\n",
    "So there are 13 events to remove before adding the gender column."
   ]
  },
  {
   "cell_type": "code",
   "execution_count": 87,
   "id": "71e9427d-1ffe-474b-8734-58f2294a313f",
   "metadata": {},
   "outputs": [],
   "source": [
    "# Remove events that don't specify 'Men' or 'Women'\n",
    "df2 = df2[(df2.event.str.contains('Men')) | (df2.event.str.contains('Women'))].reset_index(drop = True)"
   ]
  },
  {
   "cell_type": "code",
   "execution_count": 89,
   "id": "bf0f1473-c059-403c-84fe-d95729b0c4c9",
   "metadata": {},
   "outputs": [
    {
     "data": {
      "text/plain": [
       "0"
      ]
     },
     "execution_count": 89,
     "metadata": {},
     "output_type": "execute_result"
    }
   ],
   "source": [
    "# Check to make sure no event contains both the words Men and Women\n",
    "len(df2[(df2.event.str.contains('Men')) & (df2.event.str.contains('Women'))])"
   ]
  },
  {
   "cell_type": "code",
   "execution_count": 91,
   "id": "7759425f-6eb4-47b6-b867-23ad958c14d8",
   "metadata": {},
   "outputs": [
    {
     "data": {
      "text/plain": [
       "0"
      ]
     },
     "execution_count": 91,
     "metadata": {},
     "output_type": "execute_result"
    }
   ],
   "source": [
    "# Check to make sure all the events left in df2 contain either the word 'Men' or 'Women'\n",
    "len(df2) - len(df2[df2.event.str.contains('Men')]) - len(df2[df2.event.str.contains('Women')])"
   ]
  },
  {
   "cell_type": "markdown",
   "id": "859bf709-19bb-4f72-906c-7229abeafd95",
   "metadata": {},
   "source": [
    "The gender column will be called ```male``` have boolean data type:\n",
    "\n",
    "- ```True``` for male athletes,\n",
    "- ```False``` for female athletes."
   ]
  },
  {
   "cell_type": "code",
   "execution_count": 93,
   "id": "5c264563-15df-4f8a-958e-7a0a1d36d7ee",
   "metadata": {},
   "outputs": [],
   "source": [
    "# Now that all events either contain 'Men' or 'Women' we can add a boolean column to df2 for this information\n",
    "df2['male'] = df2.event.str.contains('Men')"
   ]
  },
  {
   "cell_type": "code",
   "execution_count": 95,
   "id": "54e960fb-dfe8-4a86-a0f7-6e95d83a4b60",
   "metadata": {},
   "outputs": [
    {
     "data": {
      "text/html": [
       "<div>\n",
       "<style scoped>\n",
       "    .dataframe tbody tr th:only-of-type {\n",
       "        vertical-align: middle;\n",
       "    }\n",
       "\n",
       "    .dataframe tbody tr th {\n",
       "        vertical-align: top;\n",
       "    }\n",
       "\n",
       "    .dataframe thead th {\n",
       "        text-align: right;\n",
       "    }\n",
       "</style>\n",
       "<table border=\"1\" class=\"dataframe\">\n",
       "  <thead>\n",
       "    <tr style=\"text-align: right;\">\n",
       "      <th></th>\n",
       "      <th>athlete_id</th>\n",
       "      <th>name</th>\n",
       "      <th>height_cm</th>\n",
       "      <th>weight_kg</th>\n",
       "      <th>born_date</th>\n",
       "      <th>age</th>\n",
       "      <th>country_name</th>\n",
       "      <th>country_code</th>\n",
       "      <th>born_city</th>\n",
       "      <th>born_region</th>\n",
       "      <th>born_country</th>\n",
       "      <th>year</th>\n",
       "      <th>olympics_date</th>\n",
       "      <th>discipline</th>\n",
       "      <th>event</th>\n",
       "      <th>position</th>\n",
       "      <th>tied</th>\n",
       "      <th>medal</th>\n",
       "      <th>male</th>\n",
       "    </tr>\n",
       "  </thead>\n",
       "  <tbody>\n",
       "    <tr>\n",
       "      <th>0</th>\n",
       "      <td>1</td>\n",
       "      <td>Jean-François Blanchy</td>\n",
       "      <td>NaN</td>\n",
       "      <td>NaN</td>\n",
       "      <td>1886-12-12</td>\n",
       "      <td>25.563313</td>\n",
       "      <td>France</td>\n",
       "      <td>FRA</td>\n",
       "      <td>Bordeaux</td>\n",
       "      <td>Gironde</td>\n",
       "      <td>FRA</td>\n",
       "      <td>1912.0</td>\n",
       "      <td>1912-07-06</td>\n",
       "      <td>Tennis</td>\n",
       "      <td>Singles, Men (Olympic)</td>\n",
       "      <td>17.0</td>\n",
       "      <td>True</td>\n",
       "      <td>NaN</td>\n",
       "      <td>True</td>\n",
       "    </tr>\n",
       "    <tr>\n",
       "      <th>1</th>\n",
       "      <td>1</td>\n",
       "      <td>Jean-François Blanchy</td>\n",
       "      <td>NaN</td>\n",
       "      <td>NaN</td>\n",
       "      <td>1886-12-12</td>\n",
       "      <td>25.563313</td>\n",
       "      <td>France</td>\n",
       "      <td>FRA</td>\n",
       "      <td>Bordeaux</td>\n",
       "      <td>Gironde</td>\n",
       "      <td>FRA</td>\n",
       "      <td>1912.0</td>\n",
       "      <td>1912-07-06</td>\n",
       "      <td>Tennis</td>\n",
       "      <td>Doubles, Men (Olympic)</td>\n",
       "      <td>NaN</td>\n",
       "      <td>False</td>\n",
       "      <td>NaN</td>\n",
       "      <td>True</td>\n",
       "    </tr>\n",
       "    <tr>\n",
       "      <th>2</th>\n",
       "      <td>1</td>\n",
       "      <td>Jean-François Blanchy</td>\n",
       "      <td>NaN</td>\n",
       "      <td>NaN</td>\n",
       "      <td>1886-12-12</td>\n",
       "      <td>33.670089</td>\n",
       "      <td>France</td>\n",
       "      <td>FRA</td>\n",
       "      <td>Bordeaux</td>\n",
       "      <td>Gironde</td>\n",
       "      <td>FRA</td>\n",
       "      <td>1920.0</td>\n",
       "      <td>1920-08-14</td>\n",
       "      <td>Tennis</td>\n",
       "      <td>Singles, Men (Olympic)</td>\n",
       "      <td>32.0</td>\n",
       "      <td>True</td>\n",
       "      <td>NaN</td>\n",
       "      <td>True</td>\n",
       "    </tr>\n",
       "    <tr>\n",
       "      <th>3</th>\n",
       "      <td>1</td>\n",
       "      <td>Jean-François Blanchy</td>\n",
       "      <td>NaN</td>\n",
       "      <td>NaN</td>\n",
       "      <td>1886-12-12</td>\n",
       "      <td>33.670089</td>\n",
       "      <td>France</td>\n",
       "      <td>FRA</td>\n",
       "      <td>Bordeaux</td>\n",
       "      <td>Gironde</td>\n",
       "      <td>FRA</td>\n",
       "      <td>1920.0</td>\n",
       "      <td>1920-08-14</td>\n",
       "      <td>Tennis</td>\n",
       "      <td>Doubles, Men (Olympic)</td>\n",
       "      <td>4.0</td>\n",
       "      <td>False</td>\n",
       "      <td>NaN</td>\n",
       "      <td>True</td>\n",
       "    </tr>\n",
       "    <tr>\n",
       "      <th>4</th>\n",
       "      <td>2</td>\n",
       "      <td>Arnaud Boetsch</td>\n",
       "      <td>183.0</td>\n",
       "      <td>76.0</td>\n",
       "      <td>1969-04-01</td>\n",
       "      <td>27.299110</td>\n",
       "      <td>France</td>\n",
       "      <td>FRA</td>\n",
       "      <td>Meulan</td>\n",
       "      <td>Yvelines</td>\n",
       "      <td>FRA</td>\n",
       "      <td>1996.0</td>\n",
       "      <td>1996-07-19</td>\n",
       "      <td>Tennis</td>\n",
       "      <td>Singles, Men (Olympic)</td>\n",
       "      <td>17.0</td>\n",
       "      <td>True</td>\n",
       "      <td>NaN</td>\n",
       "      <td>True</td>\n",
       "    </tr>\n",
       "  </tbody>\n",
       "</table>\n",
       "</div>"
      ],
      "text/plain": [
       "   athlete_id                   name  height_cm  weight_kg   born_date  \\\n",
       "0           1  Jean-François Blanchy        NaN        NaN  1886-12-12   \n",
       "1           1  Jean-François Blanchy        NaN        NaN  1886-12-12   \n",
       "2           1  Jean-François Blanchy        NaN        NaN  1886-12-12   \n",
       "3           1  Jean-François Blanchy        NaN        NaN  1886-12-12   \n",
       "4           2         Arnaud Boetsch      183.0       76.0  1969-04-01   \n",
       "\n",
       "         age country_name country_code born_city born_region born_country  \\\n",
       "0  25.563313       France          FRA  Bordeaux     Gironde          FRA   \n",
       "1  25.563313       France          FRA  Bordeaux     Gironde          FRA   \n",
       "2  33.670089       France          FRA  Bordeaux     Gironde          FRA   \n",
       "3  33.670089       France          FRA  Bordeaux     Gironde          FRA   \n",
       "4  27.299110       France          FRA    Meulan    Yvelines          FRA   \n",
       "\n",
       "     year olympics_date discipline                   event  position   tied  \\\n",
       "0  1912.0    1912-07-06     Tennis  Singles, Men (Olympic)      17.0   True   \n",
       "1  1912.0    1912-07-06     Tennis  Doubles, Men (Olympic)       NaN  False   \n",
       "2  1920.0    1920-08-14     Tennis  Singles, Men (Olympic)      32.0   True   \n",
       "3  1920.0    1920-08-14     Tennis  Doubles, Men (Olympic)       4.0  False   \n",
       "4  1996.0    1996-07-19     Tennis  Singles, Men (Olympic)      17.0   True   \n",
       "\n",
       "  medal  male  \n",
       "0   NaN  True  \n",
       "1   NaN  True  \n",
       "2   NaN  True  \n",
       "3   NaN  True  \n",
       "4   NaN  True  "
      ]
     },
     "execution_count": 95,
     "metadata": {},
     "output_type": "execute_result"
    }
   ],
   "source": [
    "# New column created that shows whether or not an athlete is male\n",
    "df2.head()"
   ]
  },
  {
   "cell_type": "code",
   "execution_count": 97,
   "id": "3a35d52a-6bcb-43a4-95ff-872481193f26",
   "metadata": {},
   "outputs": [
    {
     "data": {
      "text/plain": [
       "male\n",
       "False     63161\n",
       "True     138059\n",
       "Name: male, dtype: int64"
      ]
     },
     "execution_count": 97,
     "metadata": {},
     "output_type": "execute_result"
    }
   ],
   "source": [
    "# Proportion of male to female overall\n",
    "df2.groupby('male')['male'].count()"
   ]
  },
  {
   "cell_type": "code",
   "execution_count": 99,
   "id": "6bdcaf3f-d758-4354-a989-c6ee2010874c",
   "metadata": {},
   "outputs": [
    {
     "data": {
      "text/plain": [
       "male\n",
       "False    34196\n",
       "True     41217\n",
       "Name: male, dtype: int64"
      ]
     },
     "execution_count": 99,
     "metadata": {},
     "output_type": "execute_result"
    }
   ],
   "source": [
    "# Proportion of male to female 2020\n",
    "df2[df2.year >= 2000].groupby('male')['male'].count()"
   ]
  },
  {
   "cell_type": "markdown",
   "id": "926c1905-32b7-49e7-bd8e-99958821f0f3",
   "metadata": {
    "jp-MarkdownHeadingCollapsed": true
   },
   "source": [
    "### 3. Age_rounded column\n",
    "Create a new 'age_rounded' column that rounds every age DOWN to the nearest year."
   ]
  },
  {
   "cell_type": "code",
   "execution_count": 103,
   "id": "c09fdb7c-b608-4f15-ae56-1a842b6a5a95",
   "metadata": {},
   "outputs": [],
   "source": [
    "# Create a new column with the ages ROUNDED DOWN to the whole year, (i.e. the normal way of defining age)\n",
    "df2['age_rounded'] = df2.age//1"
   ]
  },
  {
   "cell_type": "markdown",
   "id": "a5cf20e2-a75a-419e-839c-b5071635ea2e",
   "metadata": {
    "jp-MarkdownHeadingCollapsed": true
   },
   "source": [
    "### 4. Adding a column to tell whether a discipline is 'physical'\n",
    "\n",
    "With the help of chatgpt I sorted the disciplines that require more of a specialised skill and don't require as much athleticism and physicality with the disciplines that do require more athleticism and physicality."
   ]
  },
  {
   "cell_type": "code",
   "execution_count": 78,
   "id": "d7b3953c-3058-45df-a911-04c19d7ffa42",
   "metadata": {},
   "outputs": [],
   "source": [
    "# Initial list with all the 2020 disciplines\n",
    "array = df2.discipline.unique().tolist()"
   ]
  },
  {
   "cell_type": "code",
   "execution_count": 1047,
   "id": "40bd633d-b142-49df-97ec-33d24b511df0",
   "metadata": {
    "collapsed": true,
    "jupyter": {
     "outputs_hidden": true
    }
   },
   "outputs": [
    {
     "name": "stdout",
     "output_type": "stream",
     "text": [
      "K = Keep, R = Remove\n"
     ]
    },
    {
     "name": "stdin",
     "output_type": "stream",
     "text": [
      "Tennis:  k\n",
      "Table Tennis:  r\n",
      "Fencing:  r\n",
      "Badminton:  k\n",
      "Hockey:  k\n",
      "Athletics:  k\n",
      "Modern Pentathlon:  k\n",
      "Archery:  r\n",
      "Boxing:  k\n",
      "Softball (Baseball/Softball):  r\n",
      "Baseball (Baseball/Softball):  r\n",
      "Sailing:  r\n",
      "Golf:  r\n",
      "Basketball (Basketball):  k\n",
      "Cycling Road (Cycling):  k\n",
      "Handball:  k\n",
      "Canoe Sprint (Canoeing):  k\n",
      "Canoe Slalom (Canoeing):  k\n",
      "Rowing:  k\n",
      "Cycling Track (Cycling):  k\n",
      "Diving (Aquatics):  r\n",
      "Equestrian Jumping (Equestrian):  r\n",
      "Equestrian Eventing (Equestrian):  r\n",
      "Equestrian Dressage (Equestrian):  r\n",
      "Cycling Mountain Bike (Cycling):  k\n",
      "Football (Football):  k\n",
      "Swimming (Aquatics):  k\n",
      "Artistic Gymnastics (Gymnastics):  k\n",
      "Rhythmic Gymnastics (Gymnastics):  r\n",
      "Weightlifting:  k\n",
      "Judo:  k\n",
      "Wrestling:  k\n",
      "Shooting:  r\n",
      "Water Polo (Aquatics):  k\n",
      "Artistic Swimming (Aquatics):  r\n",
      "Triathlon:  k\n",
      "Beach Volleyball (Volleyball):  k\n",
      "Volleyball (Volleyball):  r\n",
      "Cycling BMX Racing (Cycling):  k\n",
      "Trampolining (Gymnastics):  r\n",
      "Marathon Swimming (Aquatics):  k\n",
      "Taekwondo:  k\n",
      "Skateboarding (Roller Sports):  r\n",
      "Rugby Sevens (Rugby):  k\n",
      "Karate:  k\n",
      "Surfing:  r\n",
      "Cycling BMX Freestyle (Cycling):  r\n",
      "Sport Climbing:  k\n",
      "3x3 Basketball (Basketball):  k\n"
     ]
    }
   ],
   "source": [
    "# A loop that lets me split the disciplines into ones to keep and ones to remove.\n",
    "keep = []\n",
    "remove = []\n",
    "other = []\n",
    "print('K = Keep, R = Remove')\n",
    "for i in array:\n",
    "    a = input(f'{i}: ')\n",
    "    if a.lower() == 'k':\n",
    "        keep.append(i)\n",
    "    elif a.lower() == 'r':\n",
    "        remove.append(i)\n",
    "    else:\n",
    "        other.append(i)"
   ]
  },
  {
   "cell_type": "code",
   "execution_count": 109,
   "id": "c88e4f2f-4cc5-4ab1-b207-7ffc7e6f2b25",
   "metadata": {},
   "outputs": [],
   "source": [
    "# The keep disciplines from the loop above\n",
    "keep = ['Tennis', 'Badminton', 'Hockey', 'Athletics', 'Modern Pentathlon', 'Boxing', 'Basketball (Basketball)',\n",
    "         'Cycling Road (Cycling)', 'Handball', 'Canoe Sprint (Canoeing)', 'Canoe Slalom (Canoeing)', 'Rowing',\n",
    "         'Cycling Track (Cycling)', 'Cycling Mountain Bike (Cycling)', 'Football (Football)', 'Swimming (Aquatics)',\n",
    "         'Artistic Gymnastics (Gymnastics)', 'Weightlifting', 'Judo', 'Wrestling', 'Water Polo (Aquatics)', 'Triathlon',\n",
    "         'Beach Volleyball (Volleyball)', 'Cycling BMX Racing (Cycling)', 'Marathon Swimming (Aquatics)', 'Taekwondo',\n",
    "         'Rugby Sevens (Rugby)', 'Karate', 'Sport Climbing', '3x3 Basketball (Basketball)']"
   ]
  },
  {
   "cell_type": "code",
   "execution_count": 111,
   "id": "bc6f98a1-8ed9-4bdc-b924-d87bf94accff",
   "metadata": {},
   "outputs": [],
   "source": [
    "# The remove disciplines from the loop above\n",
    "remove = ['Table Tennis', 'Fencing', 'Archery', 'Softball (Baseball/Softball)', 'Baseball (Baseball/Softball)',\n",
    "         'Sailing', 'Golf', 'Diving (Aquatics)', 'Equestrian Jumping (Equestrian)', 'Equestrian Eventing (Equestrian)',\n",
    "         'Equestrian Dressage (Equestrian)', 'Rhythmic Gymnastics (Gymnastics)', 'Shooting', 'Artistic Swimming (Aquatics)',\n",
    "         'Volleyball (Volleyball)', 'Trampolining (Gymnastics)', 'Skateboarding (Roller Sports)', 'Surfing',\n",
    "         'Cycling BMX Freestyle (Cycling)']"
   ]
  },
  {
   "cell_type": "code",
   "execution_count": 117,
   "id": "279ca68f-34a9-4298-b746-b358451ee758",
   "metadata": {},
   "outputs": [],
   "source": [
    "# Create a new boolean column in df2 to split sports between physical and not physical\n",
    "df2['physical'] = df2.discipline.isin(keep)"
   ]
  },
  {
   "cell_type": "markdown",
   "id": "dc3976a1-80bb-427d-a602-350988a7507a",
   "metadata": {
    "jp-MarkdownHeadingCollapsed": true
   },
   "source": [
    "### 5. New column to show if an event is in a team or not\n",
    "\n",
    "- First split the disciplines into those that are only team and those that aren't only team.\n",
    "- Then for the disciplines that aren't only team, extract the specific events that are team."
   ]
  },
  {
   "cell_type": "code",
   "execution_count": 92,
   "id": "edbcc476-87c6-4f9e-953e-34fee0a614a6",
   "metadata": {},
   "outputs": [],
   "source": [
    "# Initial list with all the disciplines in df_2020\n",
    "array2 = df_2020.discipline.unique().tolist()"
   ]
  },
  {
   "cell_type": "code",
   "execution_count": null,
   "id": "90113d55-6488-4ec4-ba4e-246cd660799a",
   "metadata": {},
   "outputs": [
    {
     "name": "stdout",
     "output_type": "stream",
     "text": [
      "K = Keep, R = Remove\n"
     ]
    }
   ],
   "source": [
    "# A loop that lets me split the disciplines into ones to keep and ones to remove.\n",
    "keep2 = []\n",
    "remove2 = []\n",
    "other2 = []\n",
    "print('K = Keep, R = Remove')\n",
    "for i in array2:\n",
    "    a = input(f'{i}: ')\n",
    "    if a.lower() == 'k':\n",
    "        keep2.append(i)\n",
    "    elif a.lower() == 'r':\n",
    "        remove2.append(i)\n",
    "    else:\n",
    "        other.append(i)"
   ]
  },
  {
   "cell_type": "code",
   "execution_count": 133,
   "id": "4ec740a2-0919-4a40-9fdb-4076a0990200",
   "metadata": {},
   "outputs": [],
   "source": [
    "# Disciplines that are not team only\n",
    "keep2 = ['Table Tennis', 'Archery', 'Fencing', 'Artistic Gymnastics (Gymnastics)', 'Rowing', 'Shooting',\n",
    "         'Diving (Aquatics)', 'Sailing', 'Athletics', 'Canoe Sprint (Canoeing)', 'Marathon Swimming (Aquatics)',\n",
    "         'Weightlifting', 'Swimming (Aquatics)', 'Cycling Road (Cycling)', 'Triathlon', 'Judo', 'Cycling Track (Cycling)',\n",
    "         'Tennis', 'Wrestling', 'Cycling Mountain Bike (Cycling)', 'Boxing', 'Badminton', 'Modern Pentathlon',\n",
    "         'Canoe Slalom (Canoeing)', 'Trampolining (Gymnastics)', 'Taekwondo', 'Rhythmic Gymnastics (Gymnastics)',\n",
    "         'Cycling BMX Racing (Cycling)', 'Skateboarding (Roller Sports)', 'Golf', 'Karate', 'Surfing',\n",
    "         'Cycling BMX Freestyle (Cycling)', 'Sport Climbing']"
   ]
  },
  {
   "cell_type": "code",
   "execution_count": 135,
   "id": "d8afe96c-ff9e-43f4-8e58-16d76ef315d2",
   "metadata": {},
   "outputs": [],
   "source": [
    "# Disciplines that ARE team only\n",
    "remove2 = ['Football (Football)', 'Basketball (Basketball)', 'Beach Volleyball (Volleyball)', 'Handball',\n",
    "         'Hockey', 'Softball (Baseball/Softball)', 'Volleyball (Volleyball)', 'Water Polo (Aquatics)',\n",
    "         'Baseball (Baseball/Softball)', 'Artistic Swimming (Aquatics)', 'Rugby Sevens (Rugby)', '3x3 Basketball (Basketball)']"
   ]
  },
  {
   "cell_type": "code",
   "execution_count": 137,
   "id": "4e1a6d0a-3365-4ab1-9f6c-ce2cfb7beb51",
   "metadata": {},
   "outputs": [],
   "source": [
    "# Dataframe containing all unique events from disciplines that are not team only\n",
    "extra_df = df2[df2.discipline.isin(keep2)][['discipline',\n",
    "                                                    'event']].drop_duplicates().sort_values(by='discipline').reset_index(drop = True)"
   ]
  },
  {
   "cell_type": "code",
   "execution_count": 139,
   "id": "2faa5e66-9c74-4873-92bc-694d1c545ca6",
   "metadata": {},
   "outputs": [
    {
     "data": {
      "text/html": [
       "<div>\n",
       "<style scoped>\n",
       "    .dataframe tbody tr th:only-of-type {\n",
       "        vertical-align: middle;\n",
       "    }\n",
       "\n",
       "    .dataframe tbody tr th {\n",
       "        vertical-align: top;\n",
       "    }\n",
       "\n",
       "    .dataframe thead th {\n",
       "        text-align: right;\n",
       "    }\n",
       "</style>\n",
       "<table border=\"1\" class=\"dataframe\">\n",
       "  <thead>\n",
       "    <tr style=\"text-align: right;\">\n",
       "      <th></th>\n",
       "      <th>discipline</th>\n",
       "      <th>event</th>\n",
       "    </tr>\n",
       "  </thead>\n",
       "  <tbody>\n",
       "    <tr>\n",
       "      <th>0</th>\n",
       "      <td>Archery</td>\n",
       "      <td>Individual, Men (Olympic)</td>\n",
       "    </tr>\n",
       "    <tr>\n",
       "      <th>1</th>\n",
       "      <td>Archery</td>\n",
       "      <td>Individual, Women (Olympic)</td>\n",
       "    </tr>\n",
       "    <tr>\n",
       "      <th>2</th>\n",
       "      <td>Archery</td>\n",
       "      <td>Team, Women (Olympic)</td>\n",
       "    </tr>\n",
       "    <tr>\n",
       "      <th>3</th>\n",
       "      <td>Archery</td>\n",
       "      <td>Team, Men (Olympic)</td>\n",
       "    </tr>\n",
       "    <tr>\n",
       "      <th>4</th>\n",
       "      <td>Artistic Gymnastics (Gymnastics)</td>\n",
       "      <td>400 metres, Men (Olympic)</td>\n",
       "    </tr>\n",
       "    <tr>\n",
       "      <th>...</th>\n",
       "      <td>...</td>\n",
       "      <td>...</td>\n",
       "    </tr>\n",
       "    <tr>\n",
       "      <th>419</th>\n",
       "      <td>Wrestling</td>\n",
       "      <td>Light-Heavyweight, Freestyle, Women (Olympic)</td>\n",
       "    </tr>\n",
       "    <tr>\n",
       "      <th>420</th>\n",
       "      <td>Wrestling</td>\n",
       "      <td>Light-Heavyweight, Greco-Roman, Men (Olympic)</td>\n",
       "    </tr>\n",
       "    <tr>\n",
       "      <th>421</th>\n",
       "      <td>Wrestling</td>\n",
       "      <td>Lightweight, Freestyle, Women (Olympic)</td>\n",
       "    </tr>\n",
       "    <tr>\n",
       "      <th>422</th>\n",
       "      <td>Wrestling</td>\n",
       "      <td>Light-Heavyweight, Freestyle, Men (Olympic)</td>\n",
       "    </tr>\n",
       "    <tr>\n",
       "      <th>423</th>\n",
       "      <td>Wrestling</td>\n",
       "      <td>Heavyweight, Greco-Roman, Men (Olympic)</td>\n",
       "    </tr>\n",
       "  </tbody>\n",
       "</table>\n",
       "<p>424 rows × 2 columns</p>\n",
       "</div>"
      ],
      "text/plain": [
       "                           discipline  \\\n",
       "0                             Archery   \n",
       "1                             Archery   \n",
       "2                             Archery   \n",
       "3                             Archery   \n",
       "4    Artistic Gymnastics (Gymnastics)   \n",
       "..                                ...   \n",
       "419                         Wrestling   \n",
       "420                         Wrestling   \n",
       "421                         Wrestling   \n",
       "422                         Wrestling   \n",
       "423                         Wrestling   \n",
       "\n",
       "                                             event  \n",
       "0                        Individual, Men (Olympic)  \n",
       "1                      Individual, Women (Olympic)  \n",
       "2                            Team, Women (Olympic)  \n",
       "3                              Team, Men (Olympic)  \n",
       "4                        400 metres, Men (Olympic)  \n",
       "..                                             ...  \n",
       "419  Light-Heavyweight, Freestyle, Women (Olympic)  \n",
       "420  Light-Heavyweight, Greco-Roman, Men (Olympic)  \n",
       "421        Lightweight, Freestyle, Women (Olympic)  \n",
       "422    Light-Heavyweight, Freestyle, Men (Olympic)  \n",
       "423        Heavyweight, Greco-Roman, Men (Olympic)  \n",
       "\n",
       "[424 rows x 2 columns]"
      ]
     },
     "execution_count": 139,
     "metadata": {},
     "output_type": "execute_result"
    }
   ],
   "source": [
    "extra_df"
   ]
  },
  {
   "cell_type": "markdown",
   "id": "95cb91b6-c8b7-4829-a0b5-352e1c6d6519",
   "metadata": {},
   "source": [
    "I explored the new dataframe I created to find words that describe a team event. Then created the following dataframes to separate team events from individual events."
   ]
  },
  {
   "cell_type": "code",
   "execution_count": 141,
   "id": "c6a28d86-07e4-47a2-97aa-74bc1df601b1",
   "metadata": {},
   "outputs": [],
   "source": [
    "# List of all the other team events\n",
    "team_events = extra_df[(extra_df.event.str.contains('Double')) |\n",
    "            (extra_df.event.str.contains('Team')) |\n",
    "            (extra_df.event.str.contains('Relay')) |\n",
    "            (extra_df.event.str.contains('Synchronized')) |\n",
    "            (extra_df.event.str.contains('Fours')) |\n",
    "            (extra_df.event.str.contains('Two Person')) |\n",
    "            (extra_df.event.str.contains('Quadruple')) |\n",
    "            (extra_df.event.str.contains('Eights')) |\n",
    "            (extra_df.event.str.contains('Group')) |\n",
    "            (extra_df.event.str.contains('Madison')) |\n",
    "            (extra_df.event.str.contains('Pairs')) |\n",
    "            (extra_df.event.str.contains('Skiff'))].event.unique().tolist()"
   ]
  },
  {
   "cell_type": "code",
   "execution_count": 143,
   "id": "ec4db6a8-d924-407f-8c93-86c70fbcad57",
   "metadata": {},
   "outputs": [],
   "source": [
    "# List of all the individual events\n",
    "single_events = extra_df[(extra_df.event.str.contains('Double') == False) &\n",
    "            (extra_df.event.str.contains('Team') == False) &\n",
    "            (extra_df.event.str.contains('Relay') == False) &\n",
    "            (extra_df.event.str.contains('Synchronized') == False) &\n",
    "            (extra_df.event.str.contains('Fours') == False) &\n",
    "            (extra_df.event.str.contains('Two Person') ==  False) &\n",
    "            (extra_df.event.str.contains('Quadruple') == False) &\n",
    "            (extra_df.event.str.contains('Eights') ==  False) &\n",
    "            (extra_df.event.str.contains('Group') == False) &\n",
    "            (extra_df.event.str.contains('Madison') == False) &\n",
    "            (extra_df.event.str.contains('Pairs') == False) &\n",
    "            (extra_df.event.str.contains('Skiff') == False)].event.unique().tolist()"
   ]
  },
  {
   "cell_type": "code",
   "execution_count": 145,
   "id": "20a6f18a-dac7-46aa-8829-7bec6afbe95d",
   "metadata": {},
   "outputs": [
    {
     "data": {
      "text/plain": [
       "0"
      ]
     },
     "execution_count": 145,
     "metadata": {},
     "output_type": "execute_result"
    }
   ],
   "source": [
    "# Check that all the events are either team or single\n",
    "len(extra_df.event.unique().tolist()) - len(single_events) - len(team_events)"
   ]
  },
  {
   "cell_type": "code",
   "execution_count": 147,
   "id": "79563b38-3396-405a-b90a-786607fe8b63",
   "metadata": {},
   "outputs": [],
   "source": [
    "# Add the team column to df2\n",
    "df2['team'] = (df2.discipline.isin(remove2)) | (df2.event.isin(team_events))"
   ]
  },
  {
   "cell_type": "markdown",
   "id": "41bd4351-6b70-4a00-9dde-f8ee7deb7737",
   "metadata": {},
   "source": [
    "**df2**\n",
    "- df2 contains a new ```male``` column\n",
    "- df2 only contains events that existed in the 2020 Olympics (i.e. events that have been dropped from the Olympics before 2020 are no longer part of the data)\n",
    "- df2 does NOT contain mixed gender events (e.g. Modern-day equestrian, mixed relays)\n",
    "- df2 contains a new ```physical``` column\n",
    "- df2 contains a new ```team``` column"
   ]
  },
  {
   "cell_type": "markdown",
   "id": "d1bdaa8c-0ed7-4b0d-ae95-8278569c2364",
   "metadata": {},
   "source": [
    "## Olympics 2020 Data Analysis\n",
    "\n",
    "First I will create a dataframe with the data from the 2020 Olympics only, then do some more EDA."
   ]
  },
  {
   "cell_type": "code",
   "execution_count": 161,
   "id": "ed4fb9ed-ac2c-4f4c-b8a8-a80a2317dbf7",
   "metadata": {},
   "outputs": [],
   "source": [
    "# Create a dataframe with data on only 2020 athletes\n",
    "df_2020 = df2[df2.year == 2020]"
   ]
  },
  {
   "cell_type": "markdown",
   "id": "b19148a4-40c6-417e-b215-490f4dd02f5a",
   "metadata": {
    "jp-MarkdownHeadingCollapsed": true
   },
   "source": [
    "### Age distribution of physical Olympic sports\n",
    "\n",
    "I will create a visualisation showing the age distribution in 2020 for specific sports.\n",
    "I will include:\n",
    "- Physical individual sports (the same 5 physical sports as I used earlier on)\n",
    "- Physical team sports\n",
    "- Non-physical sports\n",
    "\n",
    "I will be able to use this graph to make comparisons between different types of sports."
   ]
  },
  {
   "cell_type": "code",
   "execution_count": 169,
   "id": "81bfe33c-2de4-4498-a6b8-f2bdda27265a",
   "metadata": {},
   "outputs": [],
   "source": [
    "# Create a list of the sports that I am going to use for my visualisation \n",
    "order_sports = ['Artistic Gymnastics (Gymnastics)', 'Football (Football)', 'Swimming (Aquatics)', 'Boxing',\n",
    "                'Weightlifting', 'Athletics', 'Cycling Road (Cycling)', 'Handball', 'Table Tennis', 'Shooting',\n",
    "                'Beach Volleyball (Volleyball)']\n",
    "\n",
    "# Order these sports by median age (median because I will be plotting a boxplot)\n",
    "order_age = df_2020[df_2020.discipline.isin(order_sports)].groupby('discipline')['age'].median().sort_values() "
   ]
  },
  {
   "cell_type": "code",
   "execution_count": 171,
   "id": "95456734-8363-49b5-977c-4767812098ca",
   "metadata": {},
   "outputs": [
    {
     "data": {
      "text/plain": [
       "discipline\n",
       "Artistic Gymnastics (Gymnastics)    23.945243\n",
       "Football (Football)                 23.972621\n",
       "Swimming (Aquatics)                 24.021903\n",
       "Boxing                              26.124572\n",
       "Weightlifting                       26.503765\n",
       "Athletics                           27.184120\n",
       "Cycling Road (Cycling)              29.448323\n",
       "Handball                            29.459274\n",
       "Table Tennis                        29.505818\n",
       "Shooting                            30.784394\n",
       "Beach Volleyball (Volleyball)       30.821355\n",
       "Name: age, dtype: float64"
      ]
     },
     "execution_count": 171,
     "metadata": {},
     "output_type": "execute_result"
    }
   ],
   "source": [
    "# The sports ordered by median age\n",
    "order_age"
   ]
  },
  {
   "cell_type": "code",
   "execution_count": 173,
   "id": "1e0b0412-d34e-42cf-8eb9-4b404ac4a5d1",
   "metadata": {},
   "outputs": [
    {
     "name": "stderr",
     "output_type": "stream",
     "text": [
      "C:\\Users\\josep\\AppData\\Local\\Temp\\ipykernel_332\\3489307077.py:3: FutureWarning: \n",
      "\n",
      "Passing `palette` without assigning `hue` is deprecated and will be removed in v0.14.0. Assign the `y` variable to `hue` and set `legend=False` for the same effect.\n",
      "\n",
      "  sns.boxplot(df_2020,      # Dataframe\n",
      "C:\\Users\\josep\\AppData\\Local\\Temp\\ipykernel_332\\3489307077.py:3: UserWarning: \n",
      "The palette list has fewer values (4) than needed (11) and will cycle, which may produce an uninterpretable plot.\n",
      "  sns.boxplot(df_2020,      # Dataframe\n"
     ]
    },
    {
     "data": {
      "image/png": "[encoded data removed]",
      "text/plain": [
       "<Figure size 800x500 with 1 Axes>"
      ]
     },
     "metadata": {},
     "output_type": "display_data"
    }
   ],
   "source": [
    "# Boxplot showing the age distribution for the 'physical' sports in the olympics 2020\n",
    "plt.figure(figsize = (8,5))   # Figure size\n",
    "sns.boxplot(df_2020,      # Dataframe\n",
    "            x = 'age',    # x-axis feature\n",
    "            y = 'discipline',  # y-axis feature\n",
    "            order = order_age.index,   # Order by median age\n",
    "            palette = no_black_palette) # Use the Olympic palette with black removed\n",
    "\n",
    "# Axis labels and fonts\n",
    "plt.xticks(fontsize = 'large')\n",
    "plt.xlabel('Age')\n",
    "plt.ylabel('Sport')\n",
    "\n",
    "plt.savefig('2020 Olympics Age Boxplots.png', bbox_inches = 'tight')  # Save the visualisation\n",
    "plt.show()"
   ]
  },
  {
   "cell_type": "markdown",
   "id": "b6ef18b2-fc34-4c5f-b878-2400731cbbad",
   "metadata": {},
   "source": [
    "#### Average Age of Physical Sports 2020\n",
    "\n",
    "**Young Average:** (Physical Individual Sports and Football)\n",
    "- Artistic Gymnastics\n",
    "    - High levels of agility and flexibility are most readily available in younger athletes.\n",
    "    - This sport requires intense training which leads to early injuries and burnout.\n",
    "- Swimming\n",
    "    - The demands of swimming are often better suited to a younger, lighter physique.\n",
    "- Football\n",
    "    - The football data is skewed because the Men's teams are restricted to only 3 senior players (over 24).\n",
    "\n",
    "**Old Average:** (Non-physical Sports and Physical Team Sports)\n",
    "- Beach Volleyball\n",
    "    - Players may have more longevity because of low impact on joints due to soft landing surface (sand).\n",
    "    - Team sports such as Beach volleyball require a high level of game reading and strategic thinking which is developed over time with experience.\n",
    "- Handball\n",
    "    - Team sport that requires strategic thinking developed with experience.\n",
    "- Cycling Road\n",
    "    - Cycling is physically less taxing than other sports.\n",
    "    - Road cycling requires endurance (athletes tend to build up endurance with accumulated training experience over time)\n",
    "\n",
    "In my presentation I will explore the reasons between the difference in median age in more detail."
   ]
  },
  {
   "cell_type": "markdown",
   "id": "d5d6670a-20b1-4e77-95b3-6ff00c578d6f",
   "metadata": {
    "jp-MarkdownHeadingCollapsed": true
   },
   "source": [
    "## Save the Updated Dataframes"
   ]
  },
  {
   "cell_type": "code",
   "execution_count": 500,
   "id": "89374c01-ab86-41d9-95ba-6573460cc7d1",
   "metadata": {},
   "outputs": [],
   "source": [
    "# Save the updated dataframe to csv for future use\n",
    "df_2020.to_csv('2020 Olympic athletes data.csv')"
   ]
  },
  {
   "cell_type": "code",
   "execution_count": 146,
   "id": "ffb6b536-1da5-4586-a422-5edb616fe10c",
   "metadata": {},
   "outputs": [],
   "source": [
    "# Save df2 as a .csv\n",
    "df2.to_csv('Updated Olympic Athletes Data.csv')"
   ]
  }
 ],
 "metadata": {
  "kernelspec": {
   "display_name": "Python 3 (ipykernel)",
   "language": "python",
   "name": "python3"
  },
  "language_info": {
   "codemirror_mode": {
    "name": "ipython",
    "version": 3
   },
   "file_extension": ".py",
   "mimetype": "text/x-python",
   "name": "python",
   "nbconvert_exporter": "python",
   "pygments_lexer": "ipython3",
   "version": "3.12.7"
  }
 },
 "nbformat": 4,
 "nbformat_minor": 5
}
