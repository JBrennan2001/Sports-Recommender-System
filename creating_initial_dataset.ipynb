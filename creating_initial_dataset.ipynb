{
 "cells": [
  {
   "cell_type": "markdown",
   "id": "f2a51832-15b9-405b-ace9-e33b52c35f3a",
   "metadata": {},
   "source": [
    "# Creating My Initial Dataset\n",
    "\n",
    "## Introduction\n",
    "\n",
    "I found a repository on GitHub that contained two useful datasets with information about athletes at the Olympic games from 1896-2020. In this notebook I will:\n",
    "\n",
    "1. Combine the two datasets,\n",
    "2. Clean/format any columns that I need changing,\n",
    "3. Save my new dataset ready for some EDA (exploratory data analysis)."
   ]
  },
  {
   "cell_type": "markdown",
   "id": "323f6549-9182-441e-82bb-eebdd8a5326c",
   "metadata": {
    "jp-MarkdownHeadingCollapsed": true
   },
   "source": [
    "## 1. Combining the two datasets"
   ]
  },
  {
   "cell_type": "markdown",
   "id": "0d1f84ea-cd74-43e1-9ec3-5a1b22c1ea7c",
   "metadata": {},
   "source": [
    "First import the libraries that will be used in this notebook."
   ]
  },
  {
   "cell_type": "code",
   "execution_count": 4,
   "id": "e1ffb3d7-a513-4c5d-9a57-a68e4fffddc4",
   "metadata": {},
   "outputs": [],
   "source": [
    "# Imports for data usage\n",
    "import pandas as pd\n",
    "import numpy as np\n",
    "\n",
    "# For converting objects to datetime\n",
    "import datetime\n",
    "import time"
   ]
  },
  {
   "cell_type": "markdown",
   "id": "7d31ede7-8c76-4fb9-8df8-43aac07eb84d",
   "metadata": {},
   "source": [
    "Next, convert the two datasets from Github to pandas dataframes. Here are quick descriptions of what the two datasets contain:\n",
    "- **df:** contains biographical data of all Olympic athletes from 1896-2020,\n",
    "- **results:** contains information about general results of each athlete (such as which Olympics they competed in and what sport they play)."
   ]
  },
  {
   "cell_type": "code",
   "execution_count": 6,
   "id": "6fc6c4cc-a1be-43ec-908d-720c0d2e1685",
   "metadata": {},
   "outputs": [],
   "source": [
    "# Import two datasets from Github\n",
    "df = pd.read_csv('https://raw.githubusercontent.com/KeithGalli/Olympics-Dataset/refs/heads/master/clean-data/bios.csv')\n",
    "results = pd.read_csv('https://raw.githubusercontent.com/KeithGalli/Olympics-Dataset/refs/heads/master/clean-data/results.csv')"
   ]
  },
  {
   "cell_type": "markdown",
   "id": "5c4e8aef-4052-4f0a-9ccf-ce86420158bf",
   "metadata": {},
   "source": [
    "Now let's have a closer look at the columns contained in each of the two dataframes."
   ]
  },
  {
   "cell_type": "code",
   "execution_count": 8,
   "id": "63ee3984-02cb-4bc8-8ec1-50673a2f576d",
   "metadata": {},
   "outputs": [
    {
     "name": "stdout",
     "output_type": "stream",
     "text": [
      "<class 'pandas.core.frame.DataFrame'>\n",
      "RangeIndex: 145500 entries, 0 to 145499\n",
      "Data columns (total 10 columns):\n",
      " #   Column        Non-Null Count   Dtype  \n",
      "---  ------        --------------   -----  \n",
      " 0   athlete_id    145500 non-null  int64  \n",
      " 1   name          145500 non-null  object \n",
      " 2   born_date     143693 non-null  object \n",
      " 3   born_city     110908 non-null  object \n",
      " 4   born_region   110908 non-null  object \n",
      " 5   born_country  110908 non-null  object \n",
      " 6   NOC           145499 non-null  object \n",
      " 7   height_cm     106651 non-null  float64\n",
      " 8   weight_kg     102070 non-null  float64\n",
      " 9   died_date     33940 non-null   object \n",
      "dtypes: float64(2), int64(1), object(7)\n",
      "memory usage: 11.1+ MB\n"
     ]
    }
   ],
   "source": [
    "# column information about df\n",
    "df.info()"
   ]
  },
  {
   "cell_type": "code",
   "execution_count": 10,
   "id": "d55a77f7-2727-4d5d-b776-d1db7fc1bc0f",
   "metadata": {},
   "outputs": [
    {
     "name": "stdout",
     "output_type": "stream",
     "text": [
      "<class 'pandas.core.frame.DataFrame'>\n",
      "RangeIndex: 308408 entries, 0 to 308407\n",
      "Data columns (total 11 columns):\n",
      " #   Column      Non-Null Count   Dtype  \n",
      "---  ------      --------------   -----  \n",
      " 0   year        305807 non-null  float64\n",
      " 1   type        305807 non-null  object \n",
      " 2   discipline  308407 non-null  object \n",
      " 3   event       308408 non-null  object \n",
      " 4   as          308408 non-null  object \n",
      " 5   athlete_id  308408 non-null  int64  \n",
      " 6   noc         308407 non-null  object \n",
      " 7   team        121714 non-null  object \n",
      " 8   place       283193 non-null  float64\n",
      " 9   tied        308408 non-null  bool   \n",
      " 10  medal       44139 non-null   object \n",
      "dtypes: bool(1), float64(2), int64(1), object(7)\n",
      "memory usage: 23.8+ MB\n"
     ]
    }
   ],
   "source": [
    "# column  information about results\n",
    "results.info()"
   ]
  },
  {
   "cell_type": "markdown",
   "id": "ecbb2557-d109-4fe9-9c87-539b0e9247ce",
   "metadata": {},
   "source": [
    "Notice that both datasets contain the column ```athlete_id```. This value is unique for each athlete in the data.\n",
    "\n",
    "So let's **merge the two dataframes on 'athlete_id'**."
   ]
  },
  {
   "cell_type": "code",
   "execution_count": 12,
   "id": "55be5876-1f19-431b-95d8-409a1c28f1dd",
   "metadata": {},
   "outputs": [],
   "source": [
    "# Merge the two dataframes on athlete_id to get all the information on each athlete\n",
    "df = results.merge(df, on = ['athlete_id'], how = 'left')"
   ]
  },
  {
   "cell_type": "markdown",
   "id": "e37b760f-dec1-4ca8-a29b-b4d9472a91c4",
   "metadata": {},
   "source": [
    "Now we have the columns from both datasets combined into one dataset. Great!"
   ]
  },
  {
   "cell_type": "markdown",
   "id": "3d017560-57e2-4f58-ad84-12d36808c0df",
   "metadata": {
    "jp-MarkdownHeadingCollapsed": true
   },
   "source": [
    "## 2. Cleaning and Formatting the Combined Dataset"
   ]
  },
  {
   "cell_type": "markdown",
   "id": "957181d0-fd31-4d31-9fec-801b68e72ab9",
   "metadata": {},
   "source": [
    "Let's look at the column information of our combined dataset, ```df```."
   ]
  },
  {
   "cell_type": "code",
   "execution_count": 14,
   "id": "657ae37f-72f8-4871-95ba-c7f8118b9a31",
   "metadata": {},
   "outputs": [
    {
     "name": "stdout",
     "output_type": "stream",
     "text": [
      "<class 'pandas.core.frame.DataFrame'>\n",
      "RangeIndex: 308408 entries, 0 to 308407\n",
      "Data columns (total 20 columns):\n",
      " #   Column        Non-Null Count   Dtype  \n",
      "---  ------        --------------   -----  \n",
      " 0   year          305807 non-null  float64\n",
      " 1   type          305807 non-null  object \n",
      " 2   discipline    308407 non-null  object \n",
      " 3   event         308408 non-null  object \n",
      " 4   as            308408 non-null  object \n",
      " 5   athlete_id    308408 non-null  int64  \n",
      " 6   noc           308407 non-null  object \n",
      " 7   team          121714 non-null  object \n",
      " 8   place         283193 non-null  float64\n",
      " 9   tied          308408 non-null  bool   \n",
      " 10  medal         44139 non-null   object \n",
      " 11  name          308408 non-null  object \n",
      " 12  born_date     305692 non-null  object \n",
      " 13  born_city     246890 non-null  object \n",
      " 14  born_region   246890 non-null  object \n",
      " 15  born_country  246890 non-null  object \n",
      " 16  NOC           308408 non-null  object \n",
      " 17  height_cm     236910 non-null  float64\n",
      " 18  weight_kg     227290 non-null  float64\n",
      " 19  died_date     73521 non-null   object \n",
      "dtypes: bool(1), float64(4), int64(1), object(14)\n",
      "memory usage: 45.0+ MB\n"
     ]
    }
   ],
   "source": [
    "# Information on the combined dataset\n",
    "df.info()"
   ]
  },
  {
   "cell_type": "markdown",
   "id": "88130462-b9e4-46f4-a08b-8e9df922e5ea",
   "metadata": {},
   "source": [
    "Straight away we see there are some issues.\n",
    "- There are lots of null values in the data.\n",
    "- Some of the column names are unclear (e.g. as, noc).\n",
    "\n",
    "After a bit more exploration into the details about the columns, I set the following tasks."
   ]
  },
  {
   "cell_type": "markdown",
   "id": "a4add18a-5242-4b96-9a9f-3994907a31b5",
   "metadata": {
    "jp-MarkdownHeadingCollapsed": true
   },
   "source": [
    "### Initial Tasks:\n",
    "1. Remove all entries with type = 'Winter' (winter olympics).\n",
    "2. Rename some of the columns so they're more understandable (e.g. noc, NOC)\n",
    "3. Drop columns that I don't need (e.g. type, as)"
   ]
  },
  {
   "cell_type": "code",
   "execution_count": 16,
   "id": "b0e4034f-a399-4d41-b045-a31bd5ff5779",
   "metadata": {},
   "outputs": [
    {
     "data": {
      "text/html": [
       "<div>\n",
       "<style scoped>\n",
       "    .dataframe tbody tr th:only-of-type {\n",
       "        vertical-align: middle;\n",
       "    }\n",
       "\n",
       "    .dataframe tbody tr th {\n",
       "        vertical-align: top;\n",
       "    }\n",
       "\n",
       "    .dataframe thead th {\n",
       "        text-align: right;\n",
       "    }\n",
       "</style>\n",
       "<table border=\"1\" class=\"dataframe\">\n",
       "  <thead>\n",
       "    <tr style=\"text-align: right;\">\n",
       "      <th></th>\n",
       "      <th>year</th>\n",
       "      <th>type</th>\n",
       "      <th>discipline</th>\n",
       "      <th>event</th>\n",
       "      <th>as</th>\n",
       "      <th>athlete_id</th>\n",
       "      <th>noc</th>\n",
       "      <th>team</th>\n",
       "      <th>place</th>\n",
       "      <th>tied</th>\n",
       "      <th>medal</th>\n",
       "      <th>name</th>\n",
       "      <th>born_date</th>\n",
       "      <th>born_city</th>\n",
       "      <th>born_region</th>\n",
       "      <th>born_country</th>\n",
       "      <th>NOC</th>\n",
       "      <th>height_cm</th>\n",
       "      <th>weight_kg</th>\n",
       "      <th>died_date</th>\n",
       "    </tr>\n",
       "  </thead>\n",
       "  <tbody>\n",
       "    <tr>\n",
       "      <th>0</th>\n",
       "      <td>1912.0</td>\n",
       "      <td>Summer</td>\n",
       "      <td>Tennis</td>\n",
       "      <td>Singles, Men (Olympic)</td>\n",
       "      <td>Jean-François Blanchy</td>\n",
       "      <td>1</td>\n",
       "      <td>FRA</td>\n",
       "      <td>NaN</td>\n",
       "      <td>17.0</td>\n",
       "      <td>True</td>\n",
       "      <td>NaN</td>\n",
       "      <td>Jean-François Blanchy</td>\n",
       "      <td>1886-12-12</td>\n",
       "      <td>Bordeaux</td>\n",
       "      <td>Gironde</td>\n",
       "      <td>FRA</td>\n",
       "      <td>France</td>\n",
       "      <td>NaN</td>\n",
       "      <td>NaN</td>\n",
       "      <td>1960-10-02</td>\n",
       "    </tr>\n",
       "    <tr>\n",
       "      <th>1</th>\n",
       "      <td>1912.0</td>\n",
       "      <td>Summer</td>\n",
       "      <td>Tennis</td>\n",
       "      <td>Doubles, Men (Olympic)</td>\n",
       "      <td>Jean-François Blanchy</td>\n",
       "      <td>1</td>\n",
       "      <td>FRA</td>\n",
       "      <td>Jean Montariol</td>\n",
       "      <td>NaN</td>\n",
       "      <td>False</td>\n",
       "      <td>NaN</td>\n",
       "      <td>Jean-François Blanchy</td>\n",
       "      <td>1886-12-12</td>\n",
       "      <td>Bordeaux</td>\n",
       "      <td>Gironde</td>\n",
       "      <td>FRA</td>\n",
       "      <td>France</td>\n",
       "      <td>NaN</td>\n",
       "      <td>NaN</td>\n",
       "      <td>1960-10-02</td>\n",
       "    </tr>\n",
       "    <tr>\n",
       "      <th>2</th>\n",
       "      <td>1920.0</td>\n",
       "      <td>Summer</td>\n",
       "      <td>Tennis</td>\n",
       "      <td>Singles, Men (Olympic)</td>\n",
       "      <td>Jean-François Blanchy</td>\n",
       "      <td>1</td>\n",
       "      <td>FRA</td>\n",
       "      <td>NaN</td>\n",
       "      <td>32.0</td>\n",
       "      <td>True</td>\n",
       "      <td>NaN</td>\n",
       "      <td>Jean-François Blanchy</td>\n",
       "      <td>1886-12-12</td>\n",
       "      <td>Bordeaux</td>\n",
       "      <td>Gironde</td>\n",
       "      <td>FRA</td>\n",
       "      <td>France</td>\n",
       "      <td>NaN</td>\n",
       "      <td>NaN</td>\n",
       "      <td>1960-10-02</td>\n",
       "    </tr>\n",
       "    <tr>\n",
       "      <th>3</th>\n",
       "      <td>1920.0</td>\n",
       "      <td>Summer</td>\n",
       "      <td>Tennis</td>\n",
       "      <td>Doubles, Mixed (Olympic)</td>\n",
       "      <td>Jean-François Blanchy</td>\n",
       "      <td>1</td>\n",
       "      <td>FRA</td>\n",
       "      <td>Jeanne Vaussard</td>\n",
       "      <td>8.0</td>\n",
       "      <td>True</td>\n",
       "      <td>NaN</td>\n",
       "      <td>Jean-François Blanchy</td>\n",
       "      <td>1886-12-12</td>\n",
       "      <td>Bordeaux</td>\n",
       "      <td>Gironde</td>\n",
       "      <td>FRA</td>\n",
       "      <td>France</td>\n",
       "      <td>NaN</td>\n",
       "      <td>NaN</td>\n",
       "      <td>1960-10-02</td>\n",
       "    </tr>\n",
       "    <tr>\n",
       "      <th>4</th>\n",
       "      <td>1920.0</td>\n",
       "      <td>Summer</td>\n",
       "      <td>Tennis</td>\n",
       "      <td>Doubles, Men (Olympic)</td>\n",
       "      <td>Jean-François Blanchy</td>\n",
       "      <td>1</td>\n",
       "      <td>FRA</td>\n",
       "      <td>Jacques Brugnon</td>\n",
       "      <td>4.0</td>\n",
       "      <td>False</td>\n",
       "      <td>NaN</td>\n",
       "      <td>Jean-François Blanchy</td>\n",
       "      <td>1886-12-12</td>\n",
       "      <td>Bordeaux</td>\n",
       "      <td>Gironde</td>\n",
       "      <td>FRA</td>\n",
       "      <td>France</td>\n",
       "      <td>NaN</td>\n",
       "      <td>NaN</td>\n",
       "      <td>1960-10-02</td>\n",
       "    </tr>\n",
       "  </tbody>\n",
       "</table>\n",
       "</div>"
      ],
      "text/plain": [
       "     year    type discipline                     event                     as  \\\n",
       "0  1912.0  Summer     Tennis    Singles, Men (Olympic)  Jean-François Blanchy   \n",
       "1  1912.0  Summer     Tennis    Doubles, Men (Olympic)  Jean-François Blanchy   \n",
       "2  1920.0  Summer     Tennis    Singles, Men (Olympic)  Jean-François Blanchy   \n",
       "3  1920.0  Summer     Tennis  Doubles, Mixed (Olympic)  Jean-François Blanchy   \n",
       "4  1920.0  Summer     Tennis    Doubles, Men (Olympic)  Jean-François Blanchy   \n",
       "\n",
       "   athlete_id  noc             team  place   tied medal  \\\n",
       "0           1  FRA              NaN   17.0   True   NaN   \n",
       "1           1  FRA   Jean Montariol    NaN  False   NaN   \n",
       "2           1  FRA              NaN   32.0   True   NaN   \n",
       "3           1  FRA  Jeanne Vaussard    8.0   True   NaN   \n",
       "4           1  FRA  Jacques Brugnon    4.0  False   NaN   \n",
       "\n",
       "                    name   born_date born_city born_region born_country  \\\n",
       "0  Jean-François Blanchy  1886-12-12  Bordeaux     Gironde          FRA   \n",
       "1  Jean-François Blanchy  1886-12-12  Bordeaux     Gironde          FRA   \n",
       "2  Jean-François Blanchy  1886-12-12  Bordeaux     Gironde          FRA   \n",
       "3  Jean-François Blanchy  1886-12-12  Bordeaux     Gironde          FRA   \n",
       "4  Jean-François Blanchy  1886-12-12  Bordeaux     Gironde          FRA   \n",
       "\n",
       "      NOC  height_cm  weight_kg   died_date  \n",
       "0  France        NaN        NaN  1960-10-02  \n",
       "1  France        NaN        NaN  1960-10-02  \n",
       "2  France        NaN        NaN  1960-10-02  \n",
       "3  France        NaN        NaN  1960-10-02  \n",
       "4  France        NaN        NaN  1960-10-02  "
      ]
     },
     "execution_count": 16,
     "metadata": {},
     "output_type": "execute_result"
    }
   ],
   "source": [
    "# This is what df looks like originally\n",
    "df.head()"
   ]
  },
  {
   "cell_type": "code",
   "execution_count": 18,
   "id": "736a069b-0ed6-46e8-9c3b-23d7aced3cd2",
   "metadata": {},
   "outputs": [],
   "source": [
    "## Task 1:\n",
    "# Remove all entries that have type 'Winter'\n",
    "df = df[df.type == 'Summer']"
   ]
  },
  {
   "cell_type": "code",
   "execution_count": 20,
   "id": "2490f92d-8774-4ca0-ba02-9548975d76ab",
   "metadata": {},
   "outputs": [],
   "source": [
    "# Task 2:\n",
    "# Rename some of the columns\n",
    "df = df.rename(columns = {'noc' : 'country_code',\n",
    "                          'NOC' : 'country_name',\n",
    "                          'place' : 'position'})"
   ]
  },
  {
   "cell_type": "code",
   "execution_count": 22,
   "id": "2d6292a2-2657-48dc-b434-babb7b75fbb6",
   "metadata": {},
   "outputs": [],
   "source": [
    "# Task 3:\n",
    "# Drop columns that aren't relevant\n",
    "df = df.drop(columns = ['type',    # All are type 'Summer'\n",
    "                   'as',           # The same as the 'name' column\n",
    "                   'team',         # This information isn't relevant to the project (more than half are null anyway)\n",
    "                   'died_date'])   # Don't need this data"
   ]
  },
  {
   "cell_type": "code",
   "execution_count": 24,
   "id": "6325a272-ce80-45ed-b96f-ee347775540c",
   "metadata": {},
   "outputs": [
    {
     "name": "stdout",
     "output_type": "stream",
     "text": [
      "<class 'pandas.core.frame.DataFrame'>\n",
      "Index: 241298 entries, 0 to 308326\n",
      "Data columns (total 16 columns):\n",
      " #   Column        Non-Null Count   Dtype  \n",
      "---  ------        --------------   -----  \n",
      " 0   year          241298 non-null  float64\n",
      " 1   discipline    241298 non-null  object \n",
      " 2   event         241298 non-null  object \n",
      " 3   athlete_id    241298 non-null  int64  \n",
      " 4   country_code  241298 non-null  object \n",
      " 5   position      223223 non-null  float64\n",
      " 6   tied          241298 non-null  bool   \n",
      " 7   medal         35990 non-null   object \n",
      " 8   name          241298 non-null  object \n",
      " 9   born_date     239172 non-null  object \n",
      " 10  born_city     190573 non-null  object \n",
      " 11  born_region   190573 non-null  object \n",
      " 12  born_country  190573 non-null  object \n",
      " 13  country_name  241298 non-null  object \n",
      " 14  height_cm     185963 non-null  float64\n",
      " 15  weight_kg     178640 non-null  float64\n",
      "dtypes: bool(1), float64(4), int64(1), object(10)\n",
      "memory usage: 29.7+ MB\n"
     ]
    }
   ],
   "source": [
    "# Updated information\n",
    "df.info()"
   ]
  },
  {
   "cell_type": "markdown",
   "id": "d6ec7842-21a3-4ea5-ab71-4408a2534a05",
   "metadata": {
    "jp-MarkdownHeadingCollapsed": true
   },
   "source": [
    "### Creating an Age column\n",
    "\n",
    "One of the most important features that I want to use in this project is the age of the athletes. However, the dataset currently only contains the athletes' dates of birth. I need to use this information to find out the ages of each athlete (at the time they competed in the olympics).\n",
    "\n",
    "**Age:** I need to find out the age of each athlete at the time they competed in the Olympics.\n",
    "1. Convert the 'born_date' column to datetime dtype\n",
    "2. Find out the start date of every olympic games up to 2020 and put these values in a dictionary\n",
    "3. Create a new column in df called 'olympics_date' that contains the corresponding start date to each Olympics\n",
    "4. Convert 'olympics_date' column to datetime dtype\n",
    "5. Create a new column in df called 'age' by subtracting 'born_date' from 'olympics_date'\n",
    "6. Convert the 'age' column to a numeric data type"
   ]
  },
  {
   "cell_type": "code",
   "execution_count": 26,
   "id": "d22a264c-b823-4602-b32b-56c6fec5662b",
   "metadata": {},
   "outputs": [],
   "source": [
    "# 1. Convert 'born_date' column from object to datetime type\n",
    "df['born_date'] = pd.to_datetime(df['born_date'])"
   ]
  },
  {
   "cell_type": "code",
   "execution_count": 28,
   "id": "806f7a63-8795-45d2-900c-3f662f60a761",
   "metadata": {},
   "outputs": [],
   "source": [
    "# 2. Dictionary containing the start date of every (summer) Olympic games\n",
    "start_dates = {1896: '1896-04-06', 1900: '1900-05-14', 1904: '1904-07-01', 1908: '1908-04-27', 1912: '1912-07-06',\n",
    "             1920: '1920-08-14', 1924: '1924-07-05', 1928: '1928-07-28', 1932: '1932-07-30', 1936: '1936-08-01',\n",
    "             1948: '1948-07-23', 1952: '1952-07-19', 1956: '1956-11-22', 1960: '1960-08-27', 1964: '1964-10-09',\n",
    "             1968: '1968-10-12', 1972: '1972-08-26', 1976: '1976-07-17', 1980: '1980-07-19', 1984: '1984-07-28',\n",
    "             1988: '1988-09-17', 1992: '1992-07-25', 1996: '1996-07-19', 2000: '2000-09-15', 2004: '2004-08-13',\n",
    "             2008: '2008-08-08', 2012: '2012-07-27', 2016: '2016-08-05', 2020: '2021-07-23'}"
   ]
  },
  {
   "cell_type": "code",
   "execution_count": 30,
   "id": "0400743f-5fa8-4dc5-ae6b-a307e7571543",
   "metadata": {},
   "outputs": [
    {
     "data": {
      "text/plain": [
       "array([1912., 1920., 1996., 1924., 1992., 2000., 2004., 2008., 1900.,\n",
       "       1908., 1896., 1984., 1988., 1904., 2012., 2016., 1976., 1972.,\n",
       "       1980., 1928., 2020., 1968., 1956., 1952., 1960., 1964., 1948.,\n",
       "       1932., 1936., 2010., 2014., 2018.])"
      ]
     },
     "execution_count": 30,
     "metadata": {},
     "output_type": "execute_result"
    }
   ],
   "source": [
    "# Check that all the years in the dataset match the years in the start_dates dictionary\n",
    "df['year'].unique()"
   ]
  },
  {
   "cell_type": "code",
   "execution_count": 32,
   "id": "63151d15-56b9-4140-8dfc-e4d3a1bb1941",
   "metadata": {
    "collapsed": true,
    "jupyter": {
     "outputs_hidden": true
    },
    "scrolled": true
   },
   "outputs": [
    {
     "data": {
      "text/plain": [
       "[1896.0,\n",
       " 1900.0,\n",
       " 1904.0,\n",
       " 1908.0,\n",
       " 1912.0,\n",
       " 1920.0,\n",
       " 1924.0,\n",
       " 1928.0,\n",
       " 1932.0,\n",
       " 1936.0,\n",
       " 1948.0,\n",
       " 1952.0,\n",
       " 1956.0,\n",
       " 1960.0,\n",
       " 1964.0,\n",
       " 1968.0,\n",
       " 1972.0,\n",
       " 1976.0,\n",
       " 1980.0,\n",
       " 1984.0,\n",
       " 1988.0,\n",
       " 1992.0,\n",
       " 1996.0,\n",
       " 2000.0,\n",
       " 2004.0,\n",
       " 2008.0,\n",
       " 2010.0,\n",
       " 2012.0,\n",
       " 2014.0,\n",
       " 2016.0,\n",
       " 2018.0,\n",
       " 2020.0]"
      ]
     },
     "execution_count": 32,
     "metadata": {},
     "output_type": "execute_result"
    }
   ],
   "source": [
    "# There shouldn't be olympics in 2010, 2014, or 2018\n",
    "    # It turns out that they have data from youth olympics that took place in these years.\n",
    "l = [1912., 1920., 1996., 1924., 1992., 2000., 2004., 2008., 1900.,\n",
    "       1908., 1896., 1984., 1988., 1904., 2012., 2016., 1976., 1972.,\n",
    "       1980., 1928., 2020., 1968., 1956., 1952., 1960., 1964., 1948.,\n",
    "       1932., 1936., 2010., 2014., 2018.]\n",
    "\n",
    "sorted(l)"
   ]
  },
  {
   "cell_type": "code",
   "execution_count": 34,
   "id": "f64dc058-6d14-4d74-a7fd-7b9c8673ae97",
   "metadata": {},
   "outputs": [],
   "source": [
    "# Remove the data from 2010, 2014 and 2018 from the dataset df\n",
    "df = df[(df.year != 2010) & (df.year != 2014) & (df.year != 2018)]"
   ]
  },
  {
   "cell_type": "code",
   "execution_count": 38,
   "id": "24d174ad-b8ea-43ed-98f1-62201cd18ff8",
   "metadata": {},
   "outputs": [],
   "source": [
    "# Create a new column for the olympics start dates. Each value containing an empty string\n",
    "df[['olympics_date']] = ''"
   ]
  },
  {
   "cell_type": "code",
   "execution_count": 40,
   "id": "041d2a10-de9f-406c-85b1-368261674a57",
   "metadata": {},
   "outputs": [],
   "source": [
    "# Reset the index so that the following for loop will work\n",
    "df = df.reset_index(drop = True)"
   ]
  },
  {
   "cell_type": "code",
   "execution_count": 42,
   "id": "8e0d4f83-f979-4c07-bf67-da29d7e615ab",
   "metadata": {},
   "outputs": [],
   "source": [
    "# 3. Using a for loop and the start_dates dictionary I add the corresponding entries into the 'olympics_date' column\n",
    "for i in range (0, len(df)):\n",
    "    df.loc[i,'olympics_date'] = start_dates[df.loc[i,'year']]"
   ]
  },
  {
   "cell_type": "code",
   "execution_count": 43,
   "id": "b83bbcc4-3cdf-4f5e-b349-930e16bd8f4b",
   "metadata": {},
   "outputs": [
    {
     "data": {
      "text/html": [
       "<div>\n",
       "<style scoped>\n",
       "    .dataframe tbody tr th:only-of-type {\n",
       "        vertical-align: middle;\n",
       "    }\n",
       "\n",
       "    .dataframe tbody tr th {\n",
       "        vertical-align: top;\n",
       "    }\n",
       "\n",
       "    .dataframe thead th {\n",
       "        text-align: right;\n",
       "    }\n",
       "</style>\n",
       "<table border=\"1\" class=\"dataframe\">\n",
       "  <thead>\n",
       "    <tr style=\"text-align: right;\">\n",
       "      <th></th>\n",
       "      <th>year</th>\n",
       "      <th>discipline</th>\n",
       "      <th>event</th>\n",
       "      <th>athlete_id</th>\n",
       "      <th>country_code</th>\n",
       "      <th>position</th>\n",
       "      <th>tied</th>\n",
       "      <th>medal</th>\n",
       "      <th>name</th>\n",
       "      <th>born_date</th>\n",
       "      <th>born_city</th>\n",
       "      <th>born_region</th>\n",
       "      <th>born_country</th>\n",
       "      <th>country_name</th>\n",
       "      <th>height_cm</th>\n",
       "      <th>weight_kg</th>\n",
       "      <th>olympics_date</th>\n",
       "    </tr>\n",
       "  </thead>\n",
       "  <tbody>\n",
       "    <tr>\n",
       "      <th>0</th>\n",
       "      <td>1912.0</td>\n",
       "      <td>Tennis</td>\n",
       "      <td>Singles, Men (Olympic)</td>\n",
       "      <td>1</td>\n",
       "      <td>FRA</td>\n",
       "      <td>17.0</td>\n",
       "      <td>True</td>\n",
       "      <td>NaN</td>\n",
       "      <td>Jean-François Blanchy</td>\n",
       "      <td>1886-12-12</td>\n",
       "      <td>Bordeaux</td>\n",
       "      <td>Gironde</td>\n",
       "      <td>FRA</td>\n",
       "      <td>France</td>\n",
       "      <td>NaN</td>\n",
       "      <td>NaN</td>\n",
       "      <td>1912-07-06</td>\n",
       "    </tr>\n",
       "    <tr>\n",
       "      <th>1</th>\n",
       "      <td>1912.0</td>\n",
       "      <td>Tennis</td>\n",
       "      <td>Doubles, Men (Olympic)</td>\n",
       "      <td>1</td>\n",
       "      <td>FRA</td>\n",
       "      <td>NaN</td>\n",
       "      <td>False</td>\n",
       "      <td>NaN</td>\n",
       "      <td>Jean-François Blanchy</td>\n",
       "      <td>1886-12-12</td>\n",
       "      <td>Bordeaux</td>\n",
       "      <td>Gironde</td>\n",
       "      <td>FRA</td>\n",
       "      <td>France</td>\n",
       "      <td>NaN</td>\n",
       "      <td>NaN</td>\n",
       "      <td>1912-07-06</td>\n",
       "    </tr>\n",
       "    <tr>\n",
       "      <th>2</th>\n",
       "      <td>1920.0</td>\n",
       "      <td>Tennis</td>\n",
       "      <td>Singles, Men (Olympic)</td>\n",
       "      <td>1</td>\n",
       "      <td>FRA</td>\n",
       "      <td>32.0</td>\n",
       "      <td>True</td>\n",
       "      <td>NaN</td>\n",
       "      <td>Jean-François Blanchy</td>\n",
       "      <td>1886-12-12</td>\n",
       "      <td>Bordeaux</td>\n",
       "      <td>Gironde</td>\n",
       "      <td>FRA</td>\n",
       "      <td>France</td>\n",
       "      <td>NaN</td>\n",
       "      <td>NaN</td>\n",
       "      <td>1920-08-14</td>\n",
       "    </tr>\n",
       "    <tr>\n",
       "      <th>3</th>\n",
       "      <td>1920.0</td>\n",
       "      <td>Tennis</td>\n",
       "      <td>Doubles, Mixed (Olympic)</td>\n",
       "      <td>1</td>\n",
       "      <td>FRA</td>\n",
       "      <td>8.0</td>\n",
       "      <td>True</td>\n",
       "      <td>NaN</td>\n",
       "      <td>Jean-François Blanchy</td>\n",
       "      <td>1886-12-12</td>\n",
       "      <td>Bordeaux</td>\n",
       "      <td>Gironde</td>\n",
       "      <td>FRA</td>\n",
       "      <td>France</td>\n",
       "      <td>NaN</td>\n",
       "      <td>NaN</td>\n",
       "      <td>1920-08-14</td>\n",
       "    </tr>\n",
       "    <tr>\n",
       "      <th>4</th>\n",
       "      <td>1920.0</td>\n",
       "      <td>Tennis</td>\n",
       "      <td>Doubles, Men (Olympic)</td>\n",
       "      <td>1</td>\n",
       "      <td>FRA</td>\n",
       "      <td>4.0</td>\n",
       "      <td>False</td>\n",
       "      <td>NaN</td>\n",
       "      <td>Jean-François Blanchy</td>\n",
       "      <td>1886-12-12</td>\n",
       "      <td>Bordeaux</td>\n",
       "      <td>Gironde</td>\n",
       "      <td>FRA</td>\n",
       "      <td>France</td>\n",
       "      <td>NaN</td>\n",
       "      <td>NaN</td>\n",
       "      <td>1920-08-14</td>\n",
       "    </tr>\n",
       "  </tbody>\n",
       "</table>\n",
       "</div>"
      ],
      "text/plain": [
       "     year discipline                     event  athlete_id country_code  \\\n",
       "0  1912.0     Tennis    Singles, Men (Olympic)           1          FRA   \n",
       "1  1912.0     Tennis    Doubles, Men (Olympic)           1          FRA   \n",
       "2  1920.0     Tennis    Singles, Men (Olympic)           1          FRA   \n",
       "3  1920.0     Tennis  Doubles, Mixed (Olympic)           1          FRA   \n",
       "4  1920.0     Tennis    Doubles, Men (Olympic)           1          FRA   \n",
       "\n",
       "   position   tied medal                   name  born_date born_city  \\\n",
       "0      17.0   True   NaN  Jean-François Blanchy 1886-12-12  Bordeaux   \n",
       "1       NaN  False   NaN  Jean-François Blanchy 1886-12-12  Bordeaux   \n",
       "2      32.0   True   NaN  Jean-François Blanchy 1886-12-12  Bordeaux   \n",
       "3       8.0   True   NaN  Jean-François Blanchy 1886-12-12  Bordeaux   \n",
       "4       4.0  False   NaN  Jean-François Blanchy 1886-12-12  Bordeaux   \n",
       "\n",
       "  born_region born_country country_name  height_cm  weight_kg olympics_date  \n",
       "0     Gironde          FRA       France        NaN        NaN    1912-07-06  \n",
       "1     Gironde          FRA       France        NaN        NaN    1912-07-06  \n",
       "2     Gironde          FRA       France        NaN        NaN    1920-08-14  \n",
       "3     Gironde          FRA       France        NaN        NaN    1920-08-14  \n",
       "4     Gironde          FRA       France        NaN        NaN    1920-08-14  "
      ]
     },
     "execution_count": 43,
     "metadata": {},
     "output_type": "execute_result"
    }
   ],
   "source": [
    "# Check that it has worked\n",
    "df.head()"
   ]
  },
  {
   "cell_type": "code",
   "execution_count": 44,
   "id": "66fbf6b5-eda8-45e7-b93b-16a616b7a514",
   "metadata": {},
   "outputs": [],
   "source": [
    "# 4. Convert the olympics date column to datetime data type\n",
    "df['olympics_date'] = pd.to_datetime(df['olympics_date'])"
   ]
  },
  {
   "cell_type": "code",
   "execution_count": 45,
   "id": "38700378-08d2-42ca-a5cb-80b6cd741f5f",
   "metadata": {},
   "outputs": [],
   "source": [
    "# 5. Create an 'age' column by subtracting the 'born_date' from the 'olympics_date'\n",
    "df['age'] = df['olympics_date'] - df['born_date']"
   ]
  },
  {
   "cell_type": "code",
   "execution_count": 46,
   "id": "72bcc426-07da-4723-bb2e-0252d3a51229",
   "metadata": {},
   "outputs": [],
   "source": [
    "# Before converting the age to an integer, I need to remove entries with nulls in the the 'born_date' and 'age' columns\n",
    "df = df[df.born_date.notnull()]"
   ]
  },
  {
   "cell_type": "code",
   "execution_count": 47,
   "id": "a064afc7-4518-4cee-abcd-d7409aac5622",
   "metadata": {},
   "outputs": [],
   "source": [
    "# 6. Convert the 'age' column to integer data type\n",
    "df['age'] = df['age'].dt.days.astype('int16')"
   ]
  },
  {
   "cell_type": "code",
   "execution_count": 49,
   "id": "ce63710e-c195-4aa7-abda-a90b3fd9b7d3",
   "metadata": {},
   "outputs": [],
   "source": [
    "# The age is in days, let's convert it to years\n",
    "df.age = df.age/365.25"
   ]
  },
  {
   "cell_type": "markdown",
   "id": "83a4e251-7902-49a4-b3dc-aeb9f8a93204",
   "metadata": {
    "jp-MarkdownHeadingCollapsed": true
   },
   "source": [
    "## 3. Save my Initial Dataset ready for EDA"
   ]
  },
  {
   "cell_type": "code",
   "execution_count": 60,
   "id": "a9be9007-a69e-466c-adf6-4ee7d6b576c1",
   "metadata": {},
   "outputs": [
    {
     "name": "stdout",
     "output_type": "stream",
     "text": [
      "<class 'pandas.core.frame.DataFrame'>\n",
      "Index: 237781 entries, 0 to 239905\n",
      "Data columns (total 18 columns):\n",
      " #   Column         Non-Null Count   Dtype         \n",
      "---  ------         --------------   -----         \n",
      " 0   year           237781 non-null  float64       \n",
      " 1   discipline     237781 non-null  object        \n",
      " 2   event          237781 non-null  object        \n",
      " 3   athlete_id     237781 non-null  int64         \n",
      " 4   country_code   237781 non-null  object        \n",
      " 5   position       220096 non-null  float64       \n",
      " 6   tied           237781 non-null  bool          \n",
      " 7   medal          35353 non-null   object        \n",
      " 8   name           237781 non-null  object        \n",
      " 9   born_date      237781 non-null  datetime64[ns]\n",
      " 10  born_city      189201 non-null  object        \n",
      " 11  born_region    189201 non-null  object        \n",
      " 12  born_country   189201 non-null  object        \n",
      " 13  country_name   237781 non-null  object        \n",
      " 14  height_cm      184509 non-null  float64       \n",
      " 15  weight_kg      177203 non-null  float64       \n",
      " 16  olympics_date  237781 non-null  datetime64[ns]\n",
      " 17  age            237781 non-null  float64       \n",
      "dtypes: bool(1), datetime64[ns](2), float64(5), int64(1), object(9)\n",
      "memory usage: 32.9+ MB\n"
     ]
    }
   ],
   "source": [
    "# Let's have a look at the updated column information\n",
    "df.info()"
   ]
  },
  {
   "cell_type": "markdown",
   "id": "ceb780d9-05fd-4109-95ab-770071cb35e5",
   "metadata": {},
   "source": [
    "We still have null values in the following columns:\n",
    "- **position**: I assume that nulls in this column means that the athlete was registered to start their event but had to drop out for whatever reason.\n",
    "- **medal**: Obviously many athletes would have not got a medal.\n",
    "- **born_city, born_region, born_country**: missing data, the country of birth must be unknown (will probably need to remove these entries)\n",
    "- **height_cm, weight_kg**: missing data, the height and weight must be unknown (will definitely need to remove these entries)"
   ]
  },
  {
   "cell_type": "code",
   "execution_count": 62,
   "id": "3e254818-ea11-44d0-8018-b1338d0c8601",
   "metadata": {},
   "outputs": [
    {
     "name": "stdout",
     "output_type": "stream",
     "text": [
      "<class 'pandas.core.frame.DataFrame'>\n",
      "Index: 136775 entries, 5 to 239905\n",
      "Data columns (total 18 columns):\n",
      " #   Column         Non-Null Count   Dtype         \n",
      "---  ------         --------------   -----         \n",
      " 0   year           136775 non-null  float64       \n",
      " 1   discipline     136775 non-null  object        \n",
      " 2   event          136775 non-null  object        \n",
      " 3   athlete_id     136775 non-null  int64         \n",
      " 4   country_code   136775 non-null  object        \n",
      " 5   position       136775 non-null  float64       \n",
      " 6   tied           136775 non-null  bool          \n",
      " 7   medal          23836 non-null   object        \n",
      " 8   name           136775 non-null  object        \n",
      " 9   born_date      136775 non-null  datetime64[ns]\n",
      " 10  born_city      136775 non-null  object        \n",
      " 11  born_region    136775 non-null  object        \n",
      " 12  born_country   136775 non-null  object        \n",
      " 13  country_name   136775 non-null  object        \n",
      " 14  height_cm      136775 non-null  float64       \n",
      " 15  weight_kg      136775 non-null  float64       \n",
      " 16  olympics_date  136775 non-null  datetime64[ns]\n",
      " 17  age            136775 non-null  float64       \n",
      "dtypes: bool(1), datetime64[ns](2), float64(5), int64(1), object(9)\n",
      "memory usage: 18.9+ MB\n"
     ]
    }
   ],
   "source": [
    "# The ideal dataset containing no nulls (apart from in the 'medal' column) has 136775 entries overall\n",
    "df[(df.height_cm.notnull()) & (df.weight_kg.notnull()) & (df.born_country.notnull()) & (df.position.notnull())].info()"
   ]
  },
  {
   "cell_type": "code",
   "execution_count": 64,
   "id": "f01c725f-8cca-4967-8d28-4acbb00deace",
   "metadata": {},
   "outputs": [],
   "source": [
    "# However, for now we will save the dataset that includes the nulls\n",
    "    # Will leave removing the nulls for when we do some modelling\n",
    "\n",
    "# Before saving the dataset I will make some final minor adjustments to df\n",
    "\n",
    "df = df.reset_index(drop = True) # reset the index so that the index matches the number of entries"
   ]
  },
  {
   "cell_type": "code",
   "execution_count": 66,
   "id": "dad6dcbf-b47b-42ca-aa25-483868e87405",
   "metadata": {},
   "outputs": [],
   "source": [
    "# Reorder the columns in a way to make it a bit easier to follow\n",
    "df = df[['athlete_id', 'name', 'height_cm', 'weight_kg',\n",
    "                   'born_date', 'age', 'country_name', 'country_code', 'born_city',\n",
    "                   'born_region', 'born_country', 'year', 'olympics_date', 'discipline',\n",
    "                   'event', 'position', 'tied', 'medal']]"
   ]
  },
  {
   "cell_type": "code",
   "execution_count": 68,
   "id": "47f00a51-d864-4b08-8d82-7e5b846b3753",
   "metadata": {},
   "outputs": [
    {
     "data": {
      "text/html": [
       "<div>\n",
       "<style scoped>\n",
       "    .dataframe tbody tr th:only-of-type {\n",
       "        vertical-align: middle;\n",
       "    }\n",
       "\n",
       "    .dataframe tbody tr th {\n",
       "        vertical-align: top;\n",
       "    }\n",
       "\n",
       "    .dataframe thead th {\n",
       "        text-align: right;\n",
       "    }\n",
       "</style>\n",
       "<table border=\"1\" class=\"dataframe\">\n",
       "  <thead>\n",
       "    <tr style=\"text-align: right;\">\n",
       "      <th></th>\n",
       "      <th>athlete_id</th>\n",
       "      <th>name</th>\n",
       "      <th>height_cm</th>\n",
       "      <th>weight_kg</th>\n",
       "      <th>born_date</th>\n",
       "      <th>age</th>\n",
       "      <th>country_name</th>\n",
       "      <th>country_code</th>\n",
       "      <th>born_city</th>\n",
       "      <th>born_region</th>\n",
       "      <th>born_country</th>\n",
       "      <th>year</th>\n",
       "      <th>olympics_date</th>\n",
       "      <th>discipline</th>\n",
       "      <th>event</th>\n",
       "      <th>position</th>\n",
       "      <th>tied</th>\n",
       "      <th>medal</th>\n",
       "    </tr>\n",
       "  </thead>\n",
       "  <tbody>\n",
       "    <tr>\n",
       "      <th>0</th>\n",
       "      <td>1</td>\n",
       "      <td>Jean-François Blanchy</td>\n",
       "      <td>NaN</td>\n",
       "      <td>NaN</td>\n",
       "      <td>1886-12-12</td>\n",
       "      <td>25.563313</td>\n",
       "      <td>France</td>\n",
       "      <td>FRA</td>\n",
       "      <td>Bordeaux</td>\n",
       "      <td>Gironde</td>\n",
       "      <td>FRA</td>\n",
       "      <td>1912.0</td>\n",
       "      <td>1912-07-06</td>\n",
       "      <td>Tennis</td>\n",
       "      <td>Singles, Men (Olympic)</td>\n",
       "      <td>17.0</td>\n",
       "      <td>True</td>\n",
       "      <td>NaN</td>\n",
       "    </tr>\n",
       "    <tr>\n",
       "      <th>1</th>\n",
       "      <td>1</td>\n",
       "      <td>Jean-François Blanchy</td>\n",
       "      <td>NaN</td>\n",
       "      <td>NaN</td>\n",
       "      <td>1886-12-12</td>\n",
       "      <td>25.563313</td>\n",
       "      <td>France</td>\n",
       "      <td>FRA</td>\n",
       "      <td>Bordeaux</td>\n",
       "      <td>Gironde</td>\n",
       "      <td>FRA</td>\n",
       "      <td>1912.0</td>\n",
       "      <td>1912-07-06</td>\n",
       "      <td>Tennis</td>\n",
       "      <td>Doubles, Men (Olympic)</td>\n",
       "      <td>NaN</td>\n",
       "      <td>False</td>\n",
       "      <td>NaN</td>\n",
       "    </tr>\n",
       "    <tr>\n",
       "      <th>2</th>\n",
       "      <td>1</td>\n",
       "      <td>Jean-François Blanchy</td>\n",
       "      <td>NaN</td>\n",
       "      <td>NaN</td>\n",
       "      <td>1886-12-12</td>\n",
       "      <td>33.670089</td>\n",
       "      <td>France</td>\n",
       "      <td>FRA</td>\n",
       "      <td>Bordeaux</td>\n",
       "      <td>Gironde</td>\n",
       "      <td>FRA</td>\n",
       "      <td>1920.0</td>\n",
       "      <td>1920-08-14</td>\n",
       "      <td>Tennis</td>\n",
       "      <td>Singles, Men (Olympic)</td>\n",
       "      <td>32.0</td>\n",
       "      <td>True</td>\n",
       "      <td>NaN</td>\n",
       "    </tr>\n",
       "    <tr>\n",
       "      <th>3</th>\n",
       "      <td>1</td>\n",
       "      <td>Jean-François Blanchy</td>\n",
       "      <td>NaN</td>\n",
       "      <td>NaN</td>\n",
       "      <td>1886-12-12</td>\n",
       "      <td>33.670089</td>\n",
       "      <td>France</td>\n",
       "      <td>FRA</td>\n",
       "      <td>Bordeaux</td>\n",
       "      <td>Gironde</td>\n",
       "      <td>FRA</td>\n",
       "      <td>1920.0</td>\n",
       "      <td>1920-08-14</td>\n",
       "      <td>Tennis</td>\n",
       "      <td>Doubles, Mixed (Olympic)</td>\n",
       "      <td>8.0</td>\n",
       "      <td>True</td>\n",
       "      <td>NaN</td>\n",
       "    </tr>\n",
       "    <tr>\n",
       "      <th>4</th>\n",
       "      <td>1</td>\n",
       "      <td>Jean-François Blanchy</td>\n",
       "      <td>NaN</td>\n",
       "      <td>NaN</td>\n",
       "      <td>1886-12-12</td>\n",
       "      <td>33.670089</td>\n",
       "      <td>France</td>\n",
       "      <td>FRA</td>\n",
       "      <td>Bordeaux</td>\n",
       "      <td>Gironde</td>\n",
       "      <td>FRA</td>\n",
       "      <td>1920.0</td>\n",
       "      <td>1920-08-14</td>\n",
       "      <td>Tennis</td>\n",
       "      <td>Doubles, Men (Olympic)</td>\n",
       "      <td>4.0</td>\n",
       "      <td>False</td>\n",
       "      <td>NaN</td>\n",
       "    </tr>\n",
       "  </tbody>\n",
       "</table>\n",
       "</div>"
      ],
      "text/plain": [
       "   athlete_id                   name  height_cm  weight_kg  born_date  \\\n",
       "0           1  Jean-François Blanchy        NaN        NaN 1886-12-12   \n",
       "1           1  Jean-François Blanchy        NaN        NaN 1886-12-12   \n",
       "2           1  Jean-François Blanchy        NaN        NaN 1886-12-12   \n",
       "3           1  Jean-François Blanchy        NaN        NaN 1886-12-12   \n",
       "4           1  Jean-François Blanchy        NaN        NaN 1886-12-12   \n",
       "\n",
       "         age country_name country_code born_city born_region born_country  \\\n",
       "0  25.563313       France          FRA  Bordeaux     Gironde          FRA   \n",
       "1  25.563313       France          FRA  Bordeaux     Gironde          FRA   \n",
       "2  33.670089       France          FRA  Bordeaux     Gironde          FRA   \n",
       "3  33.670089       France          FRA  Bordeaux     Gironde          FRA   \n",
       "4  33.670089       France          FRA  Bordeaux     Gironde          FRA   \n",
       "\n",
       "     year olympics_date discipline                     event  position   tied  \\\n",
       "0  1912.0    1912-07-06     Tennis    Singles, Men (Olympic)      17.0   True   \n",
       "1  1912.0    1912-07-06     Tennis    Doubles, Men (Olympic)       NaN  False   \n",
       "2  1920.0    1920-08-14     Tennis    Singles, Men (Olympic)      32.0   True   \n",
       "3  1920.0    1920-08-14     Tennis  Doubles, Mixed (Olympic)       8.0   True   \n",
       "4  1920.0    1920-08-14     Tennis    Doubles, Men (Olympic)       4.0  False   \n",
       "\n",
       "  medal  \n",
       "0   NaN  \n",
       "1   NaN  \n",
       "2   NaN  \n",
       "3   NaN  \n",
       "4   NaN  "
      ]
     },
     "execution_count": 68,
     "metadata": {},
     "output_type": "execute_result"
    }
   ],
   "source": [
    "df.head()"
   ]
  },
  {
   "cell_type": "code",
   "execution_count": 70,
   "id": "daa9b89b-6cf4-472b-b115-c606c988e03e",
   "metadata": {},
   "outputs": [],
   "source": [
    "# Save the dataset\n",
    "df.to_csv('Olympic Athlete Complete Data.csv')"
   ]
  }
 ],
 "metadata": {
  "kernelspec": {
   "display_name": "Python 3 (ipykernel)",
   "language": "python",
   "name": "python3"
  },
  "language_info": {
   "codemirror_mode": {
    "name": "ipython",
    "version": 3
   },
   "file_extension": ".py",
   "mimetype": "text/x-python",
   "name": "python",
   "nbconvert_exporter": "python",
   "pygments_lexer": "ipython3",
   "version": "3.12.7"
  }
 },
 "nbformat": 4,
 "nbformat_minor": 5
}
