{
 "cells": [
  {
   "cell_type": "markdown",
   "id": "3275a57d-b91e-40ba-b764-2ca1f365a414",
   "metadata": {},
   "source": [
    "# Modelling\n",
    "\n",
    "I will try to create a model to predict the sport that a person would be best at based on their attributes.\n",
    "\n",
    "I will use athlete data from the Olympics to do this."
   ]
  },
  {
   "cell_type": "code",
   "execution_count": 3,
   "id": "0eafaf65-e6f5-4430-b2c3-ca5e6071bb36",
   "metadata": {},
   "outputs": [],
   "source": [
    "# For data usage\n",
    "import pandas as pd\n",
    "import numpy as np\n",
    "\n",
    "# For visualisations\n",
    "import seaborn as sns\n",
    "import matplotlib.pyplot as plt\n",
    "\n",
    "# For performance measures\n",
    "from sklearn import metrics  # accuracy, recall, precision\n",
    "from time import time   # measure time it takes to run a model\n",
    "from sklearn.metrics import (confusion_matrix, accuracy_score)\n",
    "\n",
    "# For modelling (Lin Regression)\n",
    "import statsmodels.api as sm   # For the linear regression model\n",
    "import statsmodels.tools       # For the evaluation of our model\n",
    "\n",
    "# Stuff for modelling (Decision Tree)\n",
    "from sklearn.tree import DecisionTreeClassifier  # the model itself\n",
    "from sklearn import tree   # visualising the model\n",
    "from sklearn.model_selection import train_test_split  # Train-test splitting\n",
    "from sklearn.model_selection import GridSearchCV  # For Grid Search\n",
    "\n",
    "# For the function\n",
    "import time"
   ]
  },
  {
   "cell_type": "markdown",
   "id": "f4ef53e8-8018-4fe6-9cac-110560a8d2ec",
   "metadata": {},
   "source": [
    "\n",
    "| **Column**     | **Use for model?** | **Nulls?**        | **Dtype**         | **Feature Engineering** | **Notes** |\n",
    "| -------------- | -------------------| ------------------| ------------------| ------------------------|-----------|\n",
    "| athlete_id     | NO                 | NO                | integer           | Remove column           | Identification number is irrelevant for modelling. |\n",
    "| name           | NO                 | NO                | object (string)   | Remove column           | Similarly name is irrelevant for modelling.        |\n",
    "| height_cm      | YES                | YES               | float             | Remove null entries     | This is important for the model. |\n",
    "| weight_kg      | MAYBE              | YES               | float             | Remove null entries     | This may be important for the model. However, weight is something that can change, and someone entering their information won't be the weight of an athlete. |\n",
    "| born_date      | NO                 | NO                | object (string)   | Remove column           | We've got the age column so won't need born_date. |\n",
    "| **age**        | YES                | NO                | float             | Possible target column  | If the discipline model is too complicated, using age as a target could be an alternative. Otherwise, age could also be a useful feature. |\n",
    "| country_name   | MAYBE              | NO                | object (string)   | Requires OHE, may possibly require splitting countries into regions to make it simpler. | This may be too complicated since there are A LOT of countries. It also might make the model overfit. |\n",
    "| country_code   | MAYBE              | NO                | object (string)   | Same as country_name. Would only use ONE of country_name and country_code. | Same as country_name. |\n",
    "| born_city      | NO                 | YES               | object (string)   | Remove column           | City of birth is too specific for a model. |\n",
    "| born_region    | NO                 | YES               | object (string)   | Remove column           | Region of birth is too specific for a model. |\n",
    "| born_country   | PROBABLY NOT       | YES               | object (string)   | Requires OHE, may possibly require splitting countries into regions to make it simpler. | This may be too complicated since there are A LOT of countries. It would almost certainly be too much to have born_country AND country_name/code both as features. |\n",
    "| year           | NO                 | NO                | integer           | Remove column           | Year is 2020 for all entries. |\n",
    "| olympics_date  | NO                 | NO                | object (string)   | Remove column           | Date is the same for all entries. |\n",
    "| **discipline** | MAYBE              | NO                | object (string)   | Possible target column  | Not sure if a target column with around 50 possible options is possible. I would either have to cut down on the possible options OR focus on athletics data OR find another target column. |\n",
    "| event          | PROBABLY NOT       | NO                | object (string)   | May require OHE if I use it | I would only use this column if I end up focusing on athletics data only, in which case this column could be a possible target column. |\n",
    "| position       | PROBABLY NOT       | YES               | float             | Either remove or edit null entries | This column is unlikely to be relevant for my model. |\n",
    "| tied           | NO                 | NO                | bool              | Remove column           | Irrevelant information. |\n",
    "| medal          | MAYBE              | YES               | object (string)   | Would convert to a bool column (True = Medal, False = No Medal) | This column is unlikely to be relevant for my model. However, I would use this ahead of the position column.\n",
    "| male           | YES                | NO                | bool              | May need to change True/False to 1/0 | This is important for the model. |\n",
    "| age_rounded    | PROBABLY NOT       | NO                | float             | Possible scaling OR possible target column | This may actually be a better target column than age would be due to it being rounded. However, as a feature it would be less accurate than age.\n",
    "| physical       | MAYBE              | NO                | bool              | May need to change True/False to 1/0 | Unsure whether or not this will be relevant to the model. Either I use this column in my model OR remove it completely OR make my model only contain entries with physical = True. |\n",
    "| team           | PROBABLY           | NO                | bool              | May need to change True/False to 1/0 | I think this is likely to be useful for my model. |"
   ]
  },
  {
   "cell_type": "code",
   "execution_count": 3,
   "id": "9fded55f-59f8-4994-a359-06d62c30a85e",
   "metadata": {},
   "outputs": [],
   "source": [
    "# Import the df_2020 dataset from the previous notebook (as df)\n",
    "df = pd.read_csv('2020 Olympic athletes data.csv')"
   ]
  },
  {
   "cell_type": "code",
   "execution_count": 5,
   "id": "79ceff2d-008e-45e7-9658-86ebd165316b",
   "metadata": {},
   "outputs": [],
   "source": [
    "# For some reason there is now an extra index column, so remove this\n",
    "df = df.drop(columns = ['Unnamed: 0'])"
   ]
  },
  {
   "cell_type": "code",
   "execution_count": 7,
   "id": "fcc6e25c-9f1f-434c-a673-0dfc572e775f",
   "metadata": {},
   "outputs": [
    {
     "name": "stdout",
     "output_type": "stream",
     "text": [
      "<class 'pandas.core.frame.DataFrame'>\n",
      "RangeIndex: 12920 entries, 0 to 12919\n",
      "Data columns (total 22 columns):\n",
      " #   Column         Non-Null Count  Dtype  \n",
      "---  ------         --------------  -----  \n",
      " 0   athlete_id     12920 non-null  int64  \n",
      " 1   name           12920 non-null  object \n",
      " 2   height_cm      7124 non-null   float64\n",
      " 3   weight_kg      5740 non-null   float64\n",
      " 4   born_date      12920 non-null  object \n",
      " 5   age            12920 non-null  float64\n",
      " 6   country_name   12920 non-null  object \n",
      " 7   country_code   12920 non-null  object \n",
      " 8   born_city      9474 non-null   object \n",
      " 9   born_region    9474 non-null   object \n",
      " 10  born_country   9474 non-null   object \n",
      " 11  year           12920 non-null  int64  \n",
      " 12  olympics_date  12920 non-null  object \n",
      " 13  discipline     12920 non-null  object \n",
      " 14  event          12920 non-null  object \n",
      " 15  position       12400 non-null  float64\n",
      " 16  tied           12920 non-null  bool   \n",
      " 17  medal          2120 non-null   object \n",
      " 18  male           12920 non-null  bool   \n",
      " 19  age_rounded    12920 non-null  float64\n",
      " 20  physical       12920 non-null  bool   \n",
      " 21  team           12920 non-null  bool   \n",
      "dtypes: bool(4), float64(5), int64(2), object(11)\n",
      "memory usage: 1.8+ MB\n"
     ]
    }
   ],
   "source": [
    "# For modelling we will need to feature engineer all the relevant columns\n",
    "df.info()"
   ]
  },
  {
   "cell_type": "code",
   "execution_count": 10,
   "id": "fe965e47-c41a-44f7-9b25-820388b15bf1",
   "metadata": {},
   "outputs": [],
   "source": [
    "# Let's start by dropping columns that definitely won't be used\n",
    "df.drop(columns = ['athlete_id', 'name', 'born_date', 'born_city', 'born_region', 'year', 'olympics_date', 'tied'], inplace = True)"
   ]
  },
  {
   "cell_type": "code",
   "execution_count": 12,
   "id": "0b85ff5c-f465-4b42-b4f7-28fd999cd2ff",
   "metadata": {},
   "outputs": [
    {
     "data": {
      "text/html": [
       "<div>\n",
       "<style scoped>\n",
       "    .dataframe tbody tr th:only-of-type {\n",
       "        vertical-align: middle;\n",
       "    }\n",
       "\n",
       "    .dataframe tbody tr th {\n",
       "        vertical-align: top;\n",
       "    }\n",
       "\n",
       "    .dataframe thead th {\n",
       "        text-align: right;\n",
       "    }\n",
       "</style>\n",
       "<table border=\"1\" class=\"dataframe\">\n",
       "  <thead>\n",
       "    <tr style=\"text-align: right;\">\n",
       "      <th></th>\n",
       "      <th>height_cm</th>\n",
       "      <th>weight_kg</th>\n",
       "      <th>age</th>\n",
       "      <th>country_name</th>\n",
       "      <th>country_code</th>\n",
       "      <th>born_country</th>\n",
       "      <th>discipline</th>\n",
       "      <th>event</th>\n",
       "      <th>position</th>\n",
       "      <th>medal</th>\n",
       "      <th>male</th>\n",
       "      <th>age_rounded</th>\n",
       "      <th>physical</th>\n",
       "      <th>team</th>\n",
       "    </tr>\n",
       "  </thead>\n",
       "  <tbody>\n",
       "    <tr>\n",
       "      <th>0</th>\n",
       "      <td>167.0</td>\n",
       "      <td>59.0</td>\n",
       "      <td>45.735797</td>\n",
       "      <td>Nigeria</td>\n",
       "      <td>NGR</td>\n",
       "      <td>NGR</td>\n",
       "      <td>Table Tennis</td>\n",
       "      <td>Singles, Women (Olympic)</td>\n",
       "      <td>65.0</td>\n",
       "      <td>NaN</td>\n",
       "      <td>False</td>\n",
       "      <td>45.0</td>\n",
       "      <td>False</td>\n",
       "      <td>False</td>\n",
       "    </tr>\n",
       "    <tr>\n",
       "      <th>1</th>\n",
       "      <td>185.0</td>\n",
       "      <td>82.0</td>\n",
       "      <td>52.982888</td>\n",
       "      <td>Poland</td>\n",
       "      <td>POL</td>\n",
       "      <td>POL</td>\n",
       "      <td>Archery</td>\n",
       "      <td>Individual, Men (Olympic)</td>\n",
       "      <td>33.0</td>\n",
       "      <td>NaN</td>\n",
       "      <td>True</td>\n",
       "      <td>52.0</td>\n",
       "      <td>False</td>\n",
       "      <td>False</td>\n",
       "    </tr>\n",
       "    <tr>\n",
       "      <th>2</th>\n",
       "      <td>162.0</td>\n",
       "      <td>57.0</td>\n",
       "      <td>45.363450</td>\n",
       "      <td>Hungary</td>\n",
       "      <td>HUN</td>\n",
       "      <td>HUN</td>\n",
       "      <td>Fencing</td>\n",
       "      <td>Foil, Team, Women (Olympic)</td>\n",
       "      <td>7.0</td>\n",
       "      <td>NaN</td>\n",
       "      <td>False</td>\n",
       "      <td>45.0</td>\n",
       "      <td>False</td>\n",
       "      <td>True</td>\n",
       "    </tr>\n",
       "    <tr>\n",
       "      <th>3</th>\n",
       "      <td>162.0</td>\n",
       "      <td>53.0</td>\n",
       "      <td>43.389459</td>\n",
       "      <td>Brazil</td>\n",
       "      <td>BRA</td>\n",
       "      <td>BRA</td>\n",
       "      <td>Football (Football)</td>\n",
       "      <td>Football, Women (Olympic)</td>\n",
       "      <td>6.0</td>\n",
       "      <td>NaN</td>\n",
       "      <td>False</td>\n",
       "      <td>43.0</td>\n",
       "      <td>True</td>\n",
       "      <td>True</td>\n",
       "    </tr>\n",
       "    <tr>\n",
       "      <th>4</th>\n",
       "      <td>153.0</td>\n",
       "      <td>43.0</td>\n",
       "      <td>46.094456</td>\n",
       "      <td>Germany Unified Team Uzbekistan</td>\n",
       "      <td>UZB</td>\n",
       "      <td>UZB</td>\n",
       "      <td>Artistic Gymnastics (Gymnastics)</td>\n",
       "      <td>Horse Vault, Women (Olympic)</td>\n",
       "      <td>14.0</td>\n",
       "      <td>NaN</td>\n",
       "      <td>False</td>\n",
       "      <td>46.0</td>\n",
       "      <td>True</td>\n",
       "      <td>False</td>\n",
       "    </tr>\n",
       "  </tbody>\n",
       "</table>\n",
       "</div>"
      ],
      "text/plain": [
       "   height_cm  weight_kg        age                     country_name  \\\n",
       "0      167.0       59.0  45.735797                          Nigeria   \n",
       "1      185.0       82.0  52.982888                           Poland   \n",
       "2      162.0       57.0  45.363450                          Hungary   \n",
       "3      162.0       53.0  43.389459                           Brazil   \n",
       "4      153.0       43.0  46.094456  Germany Unified Team Uzbekistan   \n",
       "\n",
       "  country_code born_country                        discipline  \\\n",
       "0          NGR          NGR                      Table Tennis   \n",
       "1          POL          POL                           Archery   \n",
       "2          HUN          HUN                           Fencing   \n",
       "3          BRA          BRA               Football (Football)   \n",
       "4          UZB          UZB  Artistic Gymnastics (Gymnastics)   \n",
       "\n",
       "                          event  position medal   male  age_rounded  physical  \\\n",
       "0      Singles, Women (Olympic)      65.0   NaN  False         45.0     False   \n",
       "1     Individual, Men (Olympic)      33.0   NaN   True         52.0     False   \n",
       "2   Foil, Team, Women (Olympic)       7.0   NaN  False         45.0     False   \n",
       "3     Football, Women (Olympic)       6.0   NaN  False         43.0      True   \n",
       "4  Horse Vault, Women (Olympic)      14.0   NaN  False         46.0      True   \n",
       "\n",
       "    team  \n",
       "0  False  \n",
       "1  False  \n",
       "2   True  \n",
       "3   True  \n",
       "4  False  "
      ]
     },
     "execution_count": 12,
     "metadata": {},
     "output_type": "execute_result"
    }
   ],
   "source": [
    "df.head()"
   ]
  },
  {
   "cell_type": "code",
   "execution_count": 14,
   "id": "81a9ad9f-8f91-4cad-88d0-07c055df3440",
   "metadata": {},
   "outputs": [
    {
     "data": {
      "text/plain": [
       "46"
      ]
     },
     "execution_count": 14,
     "metadata": {},
     "output_type": "execute_result"
    }
   ],
   "source": [
    "len(df.discipline.unique())"
   ]
  },
  {
   "cell_type": "code",
   "execution_count": 16,
   "id": "b0dc69e7-2e17-4706-b63e-82debde3b987",
   "metadata": {},
   "outputs": [
    {
     "data": {
      "text/plain": [
       "47"
      ]
     },
     "execution_count": 16,
     "metadata": {},
     "output_type": "execute_result"
    }
   ],
   "source": [
    "len(df[df.discipline == 'Athletics'].event.unique())"
   ]
  },
  {
   "cell_type": "markdown",
   "id": "3412fedd-0b48-4aef-abec-7ad62ce9f3c5",
   "metadata": {},
   "source": [
    "## Model Ideas\n",
    "\n",
    "| Model                | Use Case |\n",
    "|----------------------|----------|\n",
    "| Linear Regression    | Target is continuous |\n",
    "| Logistic Regression  | Target is discrete (2 possible options) |\n",
    "| Decision Tree        | Target is discrete (2+ possible options) |\n",
    "\n",
    "1. **Predict Olympic Discipline** using columns height, male, and probably age, weight, team, physical, and possibly country.\n",
    "    - This model can be used as a recommendation of what Olympic sport is most suited to you.\n",
    "    - PROBLEM: This may not be possible as there are 46 possible disciplines.\n",
    "        - Could try reducing the number of disciplines to predict.\n",
    "        - Could possibly group some disciplines (e.g. combine cycling track and cycling road etc.)\n",
    "    - MODEL: Decision Tree.\n",
    "2. **Predict Athletics Event** using columns height, male, and probably age, weight, team, physical, and possibly country.\n",
    "    - This model can be used as a recommendation of what Athletics event is most suited to you.\n",
    "    - PROBLEM: This may not be possible as there are 47 possible events (similar problem as above).\n",
    "        - Could try reducing the number of events to predict.\n",
    "        - Could possibly group some events (e.g. categories such as short distance, long distance, throwing, jumping).\n",
    "    - MODEL: Decision Tree.\n",
    "3. **Predict Age (rounded)** using columns height, weight, male, physical, team, discipline, possibly medal, position.\n",
    "    - This model could return a prediction for the age of peak performance given the chosen discipline and other attributes.\n",
    "    - PROBLEM: I don't think this model idea is as good as the other two.\n",
    "        - Although, it is probably better linked to my EDA subject.\n",
    "    - MODEL: Linear Regression."
   ]
  },
  {
   "cell_type": "markdown",
   "id": "30efe4db-892c-478d-8794-8652929df5bf",
   "metadata": {},
   "source": [
    "## Model: Predict Olympic Discipline"
   ]
  },
  {
   "cell_type": "code",
   "execution_count": 623,
   "id": "01c259fe-0b4b-4ff1-a644-d7ac421f2a24",
   "metadata": {},
   "outputs": [
    {
     "name": "stdout",
     "output_type": "stream",
     "text": [
      "<class 'pandas.core.frame.DataFrame'>\n",
      "RangeIndex: 12920 entries, 0 to 12919\n",
      "Data columns (total 14 columns):\n",
      " #   Column        Non-Null Count  Dtype  \n",
      "---  ------        --------------  -----  \n",
      " 0   height_cm     7124 non-null   float64\n",
      " 1   weight_kg     5740 non-null   float64\n",
      " 2   age           12920 non-null  float64\n",
      " 3   country_name  12920 non-null  object \n",
      " 4   country_code  12920 non-null  object \n",
      " 5   born_country  9474 non-null   object \n",
      " 6   discipline    12920 non-null  object \n",
      " 7   event         12920 non-null  object \n",
      " 8   position      12400 non-null  float64\n",
      " 9   medal         2120 non-null   object \n",
      " 10  male          12920 non-null  bool   \n",
      " 11  age_rounded   12920 non-null  float64\n",
      " 12  physical      12920 non-null  bool   \n",
      " 13  team          12920 non-null  bool   \n",
      "dtypes: bool(3), float64(5), object(6)\n",
      "memory usage: 1.1+ MB\n"
     ]
    }
   ],
   "source": [
    "df.info()"
   ]
  },
  {
   "cell_type": "code",
   "execution_count": 625,
   "id": "32532000-1b08-4692-b150-e226ad28cb70",
   "metadata": {},
   "outputs": [],
   "source": [
    "# Create a copy of df for feature engineering\n",
    "df1 = df.copy()"
   ]
  },
  {
   "cell_type": "code",
   "execution_count": 627,
   "id": "7fee0534-5209-47f4-a99b-4e50e42792bc",
   "metadata": {},
   "outputs": [],
   "source": [
    "# Remove entries that have a null value in either height or weight column\n",
    "df1 = df1[df1.height_cm.notnull() & df1.weight_kg.notnull()]"
   ]
  },
  {
   "cell_type": "code",
   "execution_count": 629,
   "id": "9a16e680-7786-4484-9068-3fdc200b0b92",
   "metadata": {},
   "outputs": [
    {
     "data": {
      "text/plain": [
       "5740"
      ]
     },
     "execution_count": 629,
     "metadata": {},
     "output_type": "execute_result"
    }
   ],
   "source": [
    "# Unfortunately we do lose over half of the data doing this\n",
    "len(df1)"
   ]
  },
  {
   "cell_type": "code",
   "execution_count": 26,
   "id": "59a028ca-0a61-48bb-8aeb-1b28b8b05daa",
   "metadata": {},
   "outputs": [],
   "source": [
    "#df1.medal = df1.medal.replace({'Gold' : True, 'Silver' : True, 'Bronze' : True})\n",
    "#df1.medal = df1.medal.fillna(False)"
   ]
  },
  {
   "cell_type": "code",
   "execution_count": 631,
   "id": "18376d04-d2d8-4800-b407-2ddf87a3c1e9",
   "metadata": {},
   "outputs": [
    {
     "name": "stdout",
     "output_type": "stream",
     "text": [
      "<class 'pandas.core.frame.DataFrame'>\n",
      "Index: 5740 entries, 0 to 12915\n",
      "Data columns (total 14 columns):\n",
      " #   Column        Non-Null Count  Dtype  \n",
      "---  ------        --------------  -----  \n",
      " 0   height_cm     5740 non-null   float64\n",
      " 1   weight_kg     5740 non-null   float64\n",
      " 2   age           5740 non-null   float64\n",
      " 3   country_name  5740 non-null   object \n",
      " 4   country_code  5740 non-null   object \n",
      " 5   born_country  5339 non-null   object \n",
      " 6   discipline    5740 non-null   object \n",
      " 7   event         5740 non-null   object \n",
      " 8   position      5524 non-null   float64\n",
      " 9   medal         1079 non-null   object \n",
      " 10  male          5740 non-null   bool   \n",
      " 11  age_rounded   5740 non-null   float64\n",
      " 12  physical      5740 non-null   bool   \n",
      " 13  team          5740 non-null   bool   \n",
      "dtypes: bool(3), float64(5), object(6)\n",
      "memory usage: 554.9+ KB\n"
     ]
    }
   ],
   "source": [
    "df1.info()"
   ]
  },
  {
   "cell_type": "code",
   "execution_count": 633,
   "id": "5aa8fd74-04ec-40bb-a2ba-b25cfe55ff42",
   "metadata": {},
   "outputs": [],
   "source": [
    "# Relevant feature columns that don't need OHE.\n",
    "feature_cols = ['height_cm', 'weight_kg', 'age', 'male', 'physical', 'team']\n",
    "\n",
    "X_train, X_test, y_train, y_test = train_test_split(df1[feature_cols],  # X\n",
    "                                                    df1['discipline'],  # y\n",
    "                                                    test_size = 0.3, # Define a training %\n",
    "                                                    random_state = 42)"
   ]
  },
  {
   "cell_type": "code",
   "execution_count": 635,
   "id": "3a687744-fac2-491c-a0a2-56f24e654970",
   "metadata": {},
   "outputs": [],
   "source": [
    "grid = GridSearchCV(estimator = DecisionTreeClassifier(),   # I want to use a Decision Tree!\n",
    "                    param_grid = {'max_depth': [5, 10, 20, 30],  # 4 possible options\n",
    "                                  'min_samples_split': [5, 10, 15, 20, 50, 100],  # 6 possible options\n",
    "                                  'min_samples_leaf': [2, 3, 5, 6, 20, 50],  # 6 possible options\n",
    "                                  'max_features': [5,6]},  # 2 possible options\n",
    "                    cv = 10,   # How many folds we want -- i.e. the value of K: In our case 10-fold CV\n",
    "                    refit = True, # Do we want to refit on each 9 folds?\n",
    "                    verbose = 1, # How much you want the output to print out\n",
    "                    scoring = 'accuracy')  # What metric do I prioritise?"
   ]
  },
  {
   "cell_type": "code",
   "execution_count": 637,
   "id": "257af73e-12c0-460e-92e7-588968e633a8",
   "metadata": {},
   "outputs": [
    {
     "name": "stdout",
     "output_type": "stream",
     "text": [
      "Fitting 10 folds for each of 288 candidates, totalling 2880 fits\n"
     ]
    },
    {
     "name": "stderr",
     "output_type": "stream",
     "text": [
      "C:\\Users\\josep\\anaconda3\\Lib\\site-packages\\sklearn\\model_selection\\_split.py:776: UserWarning: The least populated class in y has only 1 members, which is less than n_splits=10.\n",
      "  warnings.warn(\n"
     ]
    },
    {
     "name": "stdout",
     "output_type": "stream",
     "text": [
      " Time in seconds: 56.098875522613525\n"
     ]
    },
    {
     "name": "stderr",
     "output_type": "stream",
     "text": [
      "C:\\Users\\josep\\anaconda3\\Lib\\site-packages\\numpy\\ma\\core.py:2820: RuntimeWarning: invalid value encountered in cast\n",
      "  _data = np.array(data, dtype=dtype, copy=copy,\n"
     ]
    }
   ],
   "source": [
    "# Take the gridsearch and fit it on the Training set\n",
    "\n",
    "now = time()   # Start by saving the current time\n",
    "\n",
    "# Fit the gridsearch on our training set\n",
    "grid.fit(X_train,y_train)\n",
    "\n",
    "print(f' Time in seconds: {time() - now}')   # Show the difference in time - i.e. how long this took"
   ]
  },
  {
   "cell_type": "code",
   "execution_count": 639,
   "id": "245af5b2-d698-4ea9-9c68-da7d92fd6356",
   "metadata": {},
   "outputs": [
    {
     "data": {
      "text/plain": [
       "{'max_depth': 10,\n",
       " 'max_features': 5,\n",
       " 'min_samples_leaf': 2,\n",
       " 'min_samples_split': 10}"
      ]
     },
     "execution_count": 639,
     "metadata": {},
     "output_type": "execute_result"
    }
   ],
   "source": [
    "grid.best_params_"
   ]
  },
  {
   "cell_type": "code",
   "execution_count": 641,
   "id": "9ece5972-4dc6-4655-a5d7-181ba8ba8f13",
   "metadata": {},
   "outputs": [
    {
     "data": {
      "text/plain": [
       "0.3782930732869319"
      ]
     },
     "execution_count": 641,
     "metadata": {},
     "output_type": "execute_result"
    }
   ],
   "source": [
    "grid.best_score_"
   ]
  },
  {
   "cell_type": "code",
   "execution_count": 643,
   "id": "5d8dfbb5-bcd4-4ffc-b40d-e1a9987d1709",
   "metadata": {},
   "outputs": [],
   "source": [
    "model = grid.best_estimator_"
   ]
  },
  {
   "cell_type": "code",
   "execution_count": 645,
   "id": "5e428188-19dd-4623-932c-f17dda37e9fe",
   "metadata": {},
   "outputs": [
    {
     "name": "stdout",
     "output_type": "stream",
     "text": [
      "Score on training set: 0.5246391239422599\n",
      "Score on testing set: 0.36875725900116146\n"
     ]
    }
   ],
   "source": [
    "# score - does a predict, and calculates score!\n",
    "# increasing the max_depth increases the score\n",
    "# However, increasing max_depth increases the chance of overfitting\n",
    "print(f'Score on training set: {model.score(X_train,y_train)}')\n",
    "print(f'Score on testing set: {model.score(X_test, y_test)}')"
   ]
  },
  {
   "cell_type": "code",
   "execution_count": 647,
   "id": "b70aed0e-108b-417b-8e98-9c7a4c1336fb",
   "metadata": {},
   "outputs": [
    {
     "data": {
      "text/plain": [
       "array([0.28746801, 0.23109907, 0.22473836, 0.05470335, 0.0995134 ,\n",
       "       0.10247781])"
      ]
     },
     "execution_count": 647,
     "metadata": {},
     "output_type": "execute_result"
    }
   ],
   "source": [
    "model.feature_importances_\n",
    "# [height_cm, weight_kg, age, male, physical, team]"
   ]
  },
  {
   "cell_type": "code",
   "execution_count": 649,
   "id": "28977353-a19f-411c-b2c5-50e346cbe40a",
   "metadata": {},
   "outputs": [
    {
     "data": {
      "text/html": [
       "<div>\n",
       "<style scoped>\n",
       "    .dataframe tbody tr th:only-of-type {\n",
       "        vertical-align: middle;\n",
       "    }\n",
       "\n",
       "    .dataframe tbody tr th {\n",
       "        vertical-align: top;\n",
       "    }\n",
       "\n",
       "    .dataframe thead th {\n",
       "        text-align: right;\n",
       "    }\n",
       "</style>\n",
       "<table border=\"1\" class=\"dataframe\">\n",
       "  <thead>\n",
       "    <tr style=\"text-align: right;\">\n",
       "      <th></th>\n",
       "      <th>height_cm</th>\n",
       "      <th>weight_kg</th>\n",
       "      <th>age</th>\n",
       "      <th>male</th>\n",
       "      <th>physical</th>\n",
       "      <th>team</th>\n",
       "      <th>y_pred</th>\n",
       "      <th>y_real</th>\n",
       "    </tr>\n",
       "  </thead>\n",
       "  <tbody>\n",
       "    <tr>\n",
       "      <th>481</th>\n",
       "      <td>172.0</td>\n",
       "      <td>56.0</td>\n",
       "      <td>29.147159</td>\n",
       "      <td>False</td>\n",
       "      <td>True</td>\n",
       "      <td>True</td>\n",
       "      <td>Football (Football)</td>\n",
       "      <td>Swimming (Aquatics)</td>\n",
       "    </tr>\n",
       "    <tr>\n",
       "      <th>4672</th>\n",
       "      <td>183.0</td>\n",
       "      <td>73.0</td>\n",
       "      <td>32.219028</td>\n",
       "      <td>True</td>\n",
       "      <td>True</td>\n",
       "      <td>True</td>\n",
       "      <td>Cycling Track (Cycling)</td>\n",
       "      <td>Athletics</td>\n",
       "    </tr>\n",
       "    <tr>\n",
       "      <th>4336</th>\n",
       "      <td>194.0</td>\n",
       "      <td>83.0</td>\n",
       "      <td>26.924025</td>\n",
       "      <td>True</td>\n",
       "      <td>True</td>\n",
       "      <td>False</td>\n",
       "      <td>Swimming (Aquatics)</td>\n",
       "      <td>Cycling Track (Cycling)</td>\n",
       "    </tr>\n",
       "    <tr>\n",
       "      <th>4158</th>\n",
       "      <td>188.0</td>\n",
       "      <td>87.0</td>\n",
       "      <td>26.198494</td>\n",
       "      <td>True</td>\n",
       "      <td>False</td>\n",
       "      <td>False</td>\n",
       "      <td>Fencing</td>\n",
       "      <td>Diving (Aquatics)</td>\n",
       "    </tr>\n",
       "    <tr>\n",
       "      <th>1628</th>\n",
       "      <td>182.0</td>\n",
       "      <td>70.0</td>\n",
       "      <td>28.156057</td>\n",
       "      <td>True</td>\n",
       "      <td>False</td>\n",
       "      <td>False</td>\n",
       "      <td>Shooting</td>\n",
       "      <td>Sailing</td>\n",
       "    </tr>\n",
       "    <tr>\n",
       "      <th>...</th>\n",
       "      <td>...</td>\n",
       "      <td>...</td>\n",
       "      <td>...</td>\n",
       "      <td>...</td>\n",
       "      <td>...</td>\n",
       "      <td>...</td>\n",
       "      <td>...</td>\n",
       "      <td>...</td>\n",
       "    </tr>\n",
       "    <tr>\n",
       "      <th>3827</th>\n",
       "      <td>188.0</td>\n",
       "      <td>84.0</td>\n",
       "      <td>28.569473</td>\n",
       "      <td>True</td>\n",
       "      <td>True</td>\n",
       "      <td>False</td>\n",
       "      <td>Athletics</td>\n",
       "      <td>Athletics</td>\n",
       "    </tr>\n",
       "    <tr>\n",
       "      <th>7134</th>\n",
       "      <td>190.0</td>\n",
       "      <td>97.0</td>\n",
       "      <td>37.379877</td>\n",
       "      <td>True</td>\n",
       "      <td>True</td>\n",
       "      <td>True</td>\n",
       "      <td>Handball</td>\n",
       "      <td>Handball</td>\n",
       "    </tr>\n",
       "    <tr>\n",
       "      <th>7342</th>\n",
       "      <td>166.0</td>\n",
       "      <td>68.0</td>\n",
       "      <td>26.261465</td>\n",
       "      <td>False</td>\n",
       "      <td>True</td>\n",
       "      <td>True</td>\n",
       "      <td>Rugby Sevens (Rugby)</td>\n",
       "      <td>Handball</td>\n",
       "    </tr>\n",
       "    <tr>\n",
       "      <th>8369</th>\n",
       "      <td>187.0</td>\n",
       "      <td>100.0</td>\n",
       "      <td>31.173169</td>\n",
       "      <td>False</td>\n",
       "      <td>True</td>\n",
       "      <td>True</td>\n",
       "      <td>Water Polo (Aquatics)</td>\n",
       "      <td>Water Polo (Aquatics)</td>\n",
       "    </tr>\n",
       "    <tr>\n",
       "      <th>865</th>\n",
       "      <td>176.0</td>\n",
       "      <td>65.0</td>\n",
       "      <td>27.455168</td>\n",
       "      <td>False</td>\n",
       "      <td>True</td>\n",
       "      <td>False</td>\n",
       "      <td>Swimming (Aquatics)</td>\n",
       "      <td>Taekwondo</td>\n",
       "    </tr>\n",
       "  </tbody>\n",
       "</table>\n",
       "<p>4018 rows × 8 columns</p>\n",
       "</div>"
      ],
      "text/plain": [
       "      height_cm  weight_kg        age   male  physical   team  \\\n",
       "481       172.0       56.0  29.147159  False      True   True   \n",
       "4672      183.0       73.0  32.219028   True      True   True   \n",
       "4336      194.0       83.0  26.924025   True      True  False   \n",
       "4158      188.0       87.0  26.198494   True     False  False   \n",
       "1628      182.0       70.0  28.156057   True     False  False   \n",
       "...         ...        ...        ...    ...       ...    ...   \n",
       "3827      188.0       84.0  28.569473   True      True  False   \n",
       "7134      190.0       97.0  37.379877   True      True   True   \n",
       "7342      166.0       68.0  26.261465  False      True   True   \n",
       "8369      187.0      100.0  31.173169  False      True   True   \n",
       "865       176.0       65.0  27.455168  False      True  False   \n",
       "\n",
       "                       y_pred                   y_real  \n",
       "481       Football (Football)      Swimming (Aquatics)  \n",
       "4672  Cycling Track (Cycling)                Athletics  \n",
       "4336      Swimming (Aquatics)  Cycling Track (Cycling)  \n",
       "4158                  Fencing        Diving (Aquatics)  \n",
       "1628                 Shooting                  Sailing  \n",
       "...                       ...                      ...  \n",
       "3827                Athletics                Athletics  \n",
       "7134                 Handball                 Handball  \n",
       "7342     Rugby Sevens (Rugby)                 Handball  \n",
       "8369    Water Polo (Aquatics)    Water Polo (Aquatics)  \n",
       "865       Swimming (Aquatics)                Taekwondo  \n",
       "\n",
       "[4018 rows x 8 columns]"
      ]
     },
     "execution_count": 649,
     "metadata": {},
     "output_type": "execute_result"
    }
   ],
   "source": [
    "train_results = X_train.copy()\n",
    "train_results['y_pred'] = model.predict(X_train)\n",
    "train_results['y_real'] = y_train\n",
    "\n",
    "train_results"
   ]
  },
  {
   "cell_type": "code",
   "execution_count": 651,
   "id": "31a83948-eb01-4e38-807c-56fcea26b559",
   "metadata": {},
   "outputs": [
    {
     "data": {
      "text/plain": [
       "2108"
      ]
     },
     "execution_count": 651,
     "metadata": {},
     "output_type": "execute_result"
    }
   ],
   "source": [
    "# Number of correct predictions (bit less than half)\n",
    "len(train_results[train_results['y_pred'] == train_results['y_real']])"
   ]
  },
  {
   "cell_type": "code",
   "execution_count": 653,
   "id": "e0f54129-338a-4941-ab34-4f68ce4bcd70",
   "metadata": {
    "collapsed": true,
    "jupyter": {
     "outputs_hidden": true
    }
   },
   "outputs": [
    {
     "data": {
      "text/plain": [
       "y_pred\n",
       "Archery                               67\n",
       "Artistic Gymnastics (Gymnastics)     253\n",
       "Artistic Swimming (Aquatics)          37\n",
       "Athletics                           1189\n",
       "Baseball (Baseball/Softball)           4\n",
       "Basketball (Basketball)               57\n",
       "Beach Volleyball (Volleyball)          6\n",
       "Boxing                                 4\n",
       "Canoe Slalom (Canoeing)                2\n",
       "Canoe Sprint (Canoeing)               48\n",
       "Cycling Mountain Bike (Cycling)       14\n",
       "Cycling Road (Cycling)                14\n",
       "Cycling Track (Cycling)               42\n",
       "Diving (Aquatics)                    110\n",
       "Fencing                              194\n",
       "Football (Football)                  103\n",
       "Golf                                   5\n",
       "Handball                             360\n",
       "Hockey                               138\n",
       "Judo                                 159\n",
       "Rhythmic Gymnastics (Gymnastics)      19\n",
       "Rowing                               119\n",
       "Rugby Sevens (Rugby)                  65\n",
       "Sailing                               98\n",
       "Shooting                             174\n",
       "Skateboarding (Roller Sports)          7\n",
       "Swimming (Aquatics)                  494\n",
       "Table Tennis                          43\n",
       "Tennis                                 8\n",
       "Triathlon                              2\n",
       "Volleyball (Volleyball)               95\n",
       "Water Polo (Aquatics)                 58\n",
       "Weightlifting                         30\n",
       "Name: y_pred, dtype: int64"
      ]
     },
     "execution_count": 653,
     "metadata": {},
     "output_type": "execute_result"
    }
   ],
   "source": [
    "# The model doesn't even predict every sport\n",
    "train_results.groupby('y_pred')['y_pred'].count()"
   ]
  },
  {
   "cell_type": "code",
   "execution_count": 655,
   "id": "8141f131-81c7-47e1-8f2a-17893f6592ec",
   "metadata": {},
   "outputs": [
    {
     "data": {
      "text/html": [
       "<div>\n",
       "<style scoped>\n",
       "    .dataframe tbody tr th:only-of-type {\n",
       "        vertical-align: middle;\n",
       "    }\n",
       "\n",
       "    .dataframe tbody tr th {\n",
       "        vertical-align: top;\n",
       "    }\n",
       "\n",
       "    .dataframe thead th {\n",
       "        text-align: right;\n",
       "    }\n",
       "</style>\n",
       "<table border=\"1\" class=\"dataframe\">\n",
       "  <thead>\n",
       "    <tr style=\"text-align: right;\">\n",
       "      <th></th>\n",
       "      <th>height_cm</th>\n",
       "      <th>weight_kg</th>\n",
       "      <th>age</th>\n",
       "      <th>male</th>\n",
       "      <th>physical</th>\n",
       "      <th>team</th>\n",
       "      <th>y_pred</th>\n",
       "      <th>y_real</th>\n",
       "    </tr>\n",
       "  </thead>\n",
       "  <tbody>\n",
       "    <tr>\n",
       "      <th>768</th>\n",
       "      <td>161.0</td>\n",
       "      <td>62.0</td>\n",
       "      <td>28.969199</td>\n",
       "      <td>True</td>\n",
       "      <td>True</td>\n",
       "      <td>False</td>\n",
       "      <td>Artistic Gymnastics (Gymnastics)</td>\n",
       "      <td>Artistic Gymnastics (Gymnastics)</td>\n",
       "    </tr>\n",
       "    <tr>\n",
       "      <th>3029</th>\n",
       "      <td>186.0</td>\n",
       "      <td>80.0</td>\n",
       "      <td>28.052019</td>\n",
       "      <td>False</td>\n",
       "      <td>True</td>\n",
       "      <td>False</td>\n",
       "      <td>Swimming (Aquatics)</td>\n",
       "      <td>Modern Pentathlon</td>\n",
       "    </tr>\n",
       "    <tr>\n",
       "      <th>4715</th>\n",
       "      <td>193.0</td>\n",
       "      <td>89.0</td>\n",
       "      <td>28.410678</td>\n",
       "      <td>True</td>\n",
       "      <td>True</td>\n",
       "      <td>False</td>\n",
       "      <td>Athletics</td>\n",
       "      <td>Athletics</td>\n",
       "    </tr>\n",
       "    <tr>\n",
       "      <th>3562</th>\n",
       "      <td>184.0</td>\n",
       "      <td>83.0</td>\n",
       "      <td>25.218344</td>\n",
       "      <td>True</td>\n",
       "      <td>True</td>\n",
       "      <td>True</td>\n",
       "      <td>Swimming (Aquatics)</td>\n",
       "      <td>Swimming (Aquatics)</td>\n",
       "    </tr>\n",
       "    <tr>\n",
       "      <th>3435</th>\n",
       "      <td>204.0</td>\n",
       "      <td>98.0</td>\n",
       "      <td>28.008214</td>\n",
       "      <td>True</td>\n",
       "      <td>False</td>\n",
       "      <td>False</td>\n",
       "      <td>Sailing</td>\n",
       "      <td>Sailing</td>\n",
       "    </tr>\n",
       "    <tr>\n",
       "      <th>...</th>\n",
       "      <td>...</td>\n",
       "      <td>...</td>\n",
       "      <td>...</td>\n",
       "      <td>...</td>\n",
       "      <td>...</td>\n",
       "      <td>...</td>\n",
       "      <td>...</td>\n",
       "      <td>...</td>\n",
       "    </tr>\n",
       "    <tr>\n",
       "      <th>11679</th>\n",
       "      <td>193.0</td>\n",
       "      <td>85.0</td>\n",
       "      <td>22.910335</td>\n",
       "      <td>True</td>\n",
       "      <td>True</td>\n",
       "      <td>True</td>\n",
       "      <td>Swimming (Aquatics)</td>\n",
       "      <td>Canoe Sprint (Canoeing)</td>\n",
       "    </tr>\n",
       "    <tr>\n",
       "      <th>3135</th>\n",
       "      <td>178.0</td>\n",
       "      <td>72.0</td>\n",
       "      <td>32.027379</td>\n",
       "      <td>False</td>\n",
       "      <td>True</td>\n",
       "      <td>True</td>\n",
       "      <td>Handball</td>\n",
       "      <td>Basketball (Basketball)</td>\n",
       "    </tr>\n",
       "    <tr>\n",
       "      <th>2350</th>\n",
       "      <td>169.0</td>\n",
       "      <td>49.0</td>\n",
       "      <td>22.540726</td>\n",
       "      <td>False</td>\n",
       "      <td>True</td>\n",
       "      <td>True</td>\n",
       "      <td>Swimming (Aquatics)</td>\n",
       "      <td>Athletics</td>\n",
       "    </tr>\n",
       "    <tr>\n",
       "      <th>4582</th>\n",
       "      <td>162.0</td>\n",
       "      <td>62.0</td>\n",
       "      <td>25.681040</td>\n",
       "      <td>True</td>\n",
       "      <td>True</td>\n",
       "      <td>False</td>\n",
       "      <td>Artistic Gymnastics (Gymnastics)</td>\n",
       "      <td>Artistic Gymnastics (Gymnastics)</td>\n",
       "    </tr>\n",
       "    <tr>\n",
       "      <th>3558</th>\n",
       "      <td>165.0</td>\n",
       "      <td>63.0</td>\n",
       "      <td>34.154689</td>\n",
       "      <td>True</td>\n",
       "      <td>False</td>\n",
       "      <td>True</td>\n",
       "      <td>Fencing</td>\n",
       "      <td>Sailing</td>\n",
       "    </tr>\n",
       "  </tbody>\n",
       "</table>\n",
       "<p>1722 rows × 8 columns</p>\n",
       "</div>"
      ],
      "text/plain": [
       "       height_cm  weight_kg        age   male  physical   team  \\\n",
       "768        161.0       62.0  28.969199   True      True  False   \n",
       "3029       186.0       80.0  28.052019  False      True  False   \n",
       "4715       193.0       89.0  28.410678   True      True  False   \n",
       "3562       184.0       83.0  25.218344   True      True   True   \n",
       "3435       204.0       98.0  28.008214   True     False  False   \n",
       "...          ...        ...        ...    ...       ...    ...   \n",
       "11679      193.0       85.0  22.910335   True      True   True   \n",
       "3135       178.0       72.0  32.027379  False      True   True   \n",
       "2350       169.0       49.0  22.540726  False      True   True   \n",
       "4582       162.0       62.0  25.681040   True      True  False   \n",
       "3558       165.0       63.0  34.154689   True     False   True   \n",
       "\n",
       "                                 y_pred                            y_real  \n",
       "768    Artistic Gymnastics (Gymnastics)  Artistic Gymnastics (Gymnastics)  \n",
       "3029                Swimming (Aquatics)                 Modern Pentathlon  \n",
       "4715                          Athletics                         Athletics  \n",
       "3562                Swimming (Aquatics)               Swimming (Aquatics)  \n",
       "3435                            Sailing                           Sailing  \n",
       "...                                 ...                               ...  \n",
       "11679               Swimming (Aquatics)           Canoe Sprint (Canoeing)  \n",
       "3135                           Handball           Basketball (Basketball)  \n",
       "2350                Swimming (Aquatics)                         Athletics  \n",
       "4582   Artistic Gymnastics (Gymnastics)  Artistic Gymnastics (Gymnastics)  \n",
       "3558                            Fencing                           Sailing  \n",
       "\n",
       "[1722 rows x 8 columns]"
      ]
     },
     "execution_count": 655,
     "metadata": {},
     "output_type": "execute_result"
    }
   ],
   "source": [
    "test_results = X_test.copy()\n",
    "test_results['y_pred'] = model.predict(X_test)\n",
    "test_results['y_real'] = y_test\n",
    "\n",
    "test_results"
   ]
  },
  {
   "cell_type": "code",
   "execution_count": 657,
   "id": "83c8d0ce-9db2-4bbc-a304-f971cae7c0e6",
   "metadata": {},
   "outputs": [
    {
     "data": {
      "text/plain": [
       "635"
      ]
     },
     "execution_count": 657,
     "metadata": {},
     "output_type": "execute_result"
    }
   ],
   "source": [
    "# Number of correct predictions (bit less than half)\n",
    "len(test_results[test_results['y_pred'] == test_results['y_real']])"
   ]
  },
  {
   "cell_type": "code",
   "execution_count": 816,
   "id": "d0024baa-b8af-488a-8d54-b49e8c2856a5",
   "metadata": {},
   "outputs": [
    {
     "data": {
      "text/html": [
       "<div>\n",
       "<style scoped>\n",
       "    .dataframe tbody tr th:only-of-type {\n",
       "        vertical-align: middle;\n",
       "    }\n",
       "\n",
       "    .dataframe tbody tr th {\n",
       "        vertical-align: top;\n",
       "    }\n",
       "\n",
       "    .dataframe thead th {\n",
       "        text-align: right;\n",
       "    }\n",
       "</style>\n",
       "<table border=\"1\" class=\"dataframe\">\n",
       "  <thead>\n",
       "    <tr style=\"text-align: right;\">\n",
       "      <th></th>\n",
       "      <th>height_cm</th>\n",
       "      <th>weight_kg</th>\n",
       "      <th>age</th>\n",
       "      <th>male</th>\n",
       "      <th>physical</th>\n",
       "      <th>team</th>\n",
       "    </tr>\n",
       "  </thead>\n",
       "  <tbody>\n",
       "    <tr>\n",
       "      <th>0</th>\n",
       "      <td>170</td>\n",
       "      <td>70</td>\n",
       "      <td>23</td>\n",
       "      <td>True</td>\n",
       "      <td>False</td>\n",
       "      <td>True</td>\n",
       "    </tr>\n",
       "  </tbody>\n",
       "</table>\n",
       "</div>"
      ],
      "text/plain": [
       "   height_cm  weight_kg  age  male  physical  team\n",
       "0        170         70   23  True     False  True"
      ]
     },
     "execution_count": 816,
     "metadata": {},
     "output_type": "execute_result"
    }
   ],
   "source": [
    "# Example input to the model using my own data entry\n",
    "my_data = pd.DataFrame({'height_cm' : [170], 'weight_kg' : [70], 'age' : [23], 'male' : [True],\n",
    "               'physical' : [False], 'team' : [True]})\n",
    "my_data"
   ]
  },
  {
   "cell_type": "code",
   "execution_count": 818,
   "id": "6882844a-e8ad-465a-b9e8-f6e317822c57",
   "metadata": {},
   "outputs": [
    {
     "data": {
      "text/plain": [
       "array(['Archery'], dtype=object)"
      ]
     },
     "execution_count": 818,
     "metadata": {},
     "output_type": "execute_result"
    }
   ],
   "source": [
    "# The results using my data\n",
    "model.predict(my_data)"
   ]
  },
  {
   "cell_type": "markdown",
   "id": "6ce63975-2589-4a8d-a669-11c17a1858e0",
   "metadata": {
    "jp-MarkdownHeadingCollapsed": true
   },
   "source": [
    "### Uploading the Dataset for our model\n",
    "\n",
    "- Import df2 from the EDA.\n",
    "- Drop irrelevant columns.\n",
    "- Only keep data entries from 2000-2020.\n",
    "    - (so that the model won't be too outdated)\n",
    "- Remove rows that contain null values in the ```height_cm``` or ```weight_kg``` columns.\n",
    "- Remove football players from the dataframe.\n",
    "    - (football data is skewed)\n",
    "- Save the new model dataframe."
   ]
  },
  {
   "cell_type": "code",
   "execution_count": 36,
   "id": "f8669a16-fcf8-489b-93ca-62fa7b88bc7e",
   "metadata": {},
   "outputs": [],
   "source": [
    "# Import df2 from the EDA\n",
    "df = pd.read_csv('Updated Olympic Athletes Data.csv')"
   ]
  },
  {
   "cell_type": "code",
   "execution_count": 38,
   "id": "3896fcf0-52b8-4eac-9607-e2ba1991ee3d",
   "metadata": {},
   "outputs": [],
   "source": [
    "# Let's start by dropping columns that definitely won't be used\n",
    "df.drop(columns = ['Unnamed: 0', 'athlete_id', 'name', 'born_date', 'born_city', 'born_region', 'olympics_date', 'tied'], inplace = True)"
   ]
  },
  {
   "cell_type": "code",
   "execution_count": 40,
   "id": "97b859aa-7fe3-45f3-8507-10156424a0c7",
   "metadata": {},
   "outputs": [
    {
     "name": "stdout",
     "output_type": "stream",
     "text": [
      "<class 'pandas.core.frame.DataFrame'>\n",
      "Index: 75413 entries, 18 to 201217\n",
      "Data columns (total 15 columns):\n",
      " #   Column        Non-Null Count  Dtype  \n",
      "---  ------        --------------  -----  \n",
      " 0   height_cm     69068 non-null  float64\n",
      " 1   weight_kg     67224 non-null  float64\n",
      " 2   age           75413 non-null  float64\n",
      " 3   country_name  75413 non-null  object \n",
      " 4   country_code  75413 non-null  object \n",
      " 5   born_country  64630 non-null  object \n",
      " 6   year          75413 non-null  int64  \n",
      " 7   discipline    75413 non-null  object \n",
      " 8   event         75413 non-null  object \n",
      " 9   position      72450 non-null  float64\n",
      " 10  medal         11296 non-null  object \n",
      " 11  male          75413 non-null  bool   \n",
      " 12  age_rounded   75413 non-null  float64\n",
      " 13  physical      75413 non-null  bool   \n",
      " 14  team          75413 non-null  bool   \n",
      "dtypes: bool(3), float64(5), int64(1), object(6)\n",
      "memory usage: 7.7+ MB\n"
     ]
    }
   ],
   "source": [
    "# I will use data from 2000-2020 so that the model won't be too outdated\n",
    "df[df.year>=2000].info()"
   ]
  },
  {
   "cell_type": "code",
   "execution_count": 42,
   "id": "c6cdb03e-39ae-497b-ae8f-0a3c28d3ba7d",
   "metadata": {},
   "outputs": [],
   "source": [
    "# The model dataframe only contains data from 2000-2020\n",
    "# Drop rows containing nulls in the height and weight columns\n",
    "model_df = df.copy()\n",
    "model_df = model_df[(model_df.year >=2000) & (model_df.height_cm.notnull()) & (model_df.weight_kg.notnull())].reset_index(drop=True)"
   ]
  },
  {
   "cell_type": "code",
   "execution_count": 49,
   "id": "4a63909a-5dfa-447a-90eb-f3472bb5166b",
   "metadata": {},
   "outputs": [],
   "source": [
    "# Remove Football from our model dataframe - because of the skew due to the Olympic rules\n",
    "model_df = model_df[model_df.discipline != 'Football (Football)']"
   ]
  },
  {
   "cell_type": "code",
   "execution_count": 51,
   "id": "5c71f658-893d-4232-9690-2c129c62136b",
   "metadata": {},
   "outputs": [],
   "source": [
    "# Save the model_df \n",
    "model_df.to_csv('Model Data.csv')"
   ]
  },
  {
   "cell_type": "markdown",
   "id": "c07048d0-3f20-4fc8-a525-3c5069564d0c",
   "metadata": {
    "jp-MarkdownHeadingCollapsed": true
   },
   "source": [
    "### Train-test split and GridSearch\n",
    "\n",
    "- Split the data into training and testing data.\n",
    "    - **X = Features** = Height, Weight, Gender, Age, Physical, Team\n",
    "    - **y = Target** = Discipline\n",
    "- Perform a GridSearch to find the best possible hyperparameters for a Decision Tree model.\n",
    "- Fit the Decision Tree with these hyperparameters to the training data.\n",
    "- Check the accuracy of the model."
   ]
  },
  {
   "cell_type": "code",
   "execution_count": 62,
   "id": "e093f453-a2cb-47cd-9b91-d00763edabe4",
   "metadata": {},
   "outputs": [],
   "source": [
    "# Relevant feature columns that don't need OHE.\n",
    "feature_cols = ['height_cm', 'weight_kg', 'male','age', 'physical', 'team']\n",
    "\n",
    "X_train, X_test, y_train, y_test = train_test_split(model_df[feature_cols],  # X\n",
    "                                                    model_df['discipline'],  # y\n",
    "                                                    test_size = 0.3, # Define a training %\n",
    "                                                    random_state = 42)"
   ]
  },
  {
   "cell_type": "code",
   "execution_count": 64,
   "id": "be93063a-ce5d-440b-9bd5-f78968cf18fe",
   "metadata": {},
   "outputs": [],
   "source": [
    "# GridSearch to find the best hyperparameters\n",
    "grid = GridSearchCV(estimator = DecisionTreeClassifier(),   # I want to use a Decision Tree!\n",
    "                    param_grid = {'max_depth': [10, 20, 30, 50],  # 4 possible options\n",
    "                                  'min_samples_split': [10, 20, 50, 100, 200],  # 6 possible options\n",
    "                                  'min_samples_leaf': [2, 3, 5, 20, 50],  # 6 possible options\n",
    "                                  'max_features': [5,6]},  # 2 possible options\n",
    "                    cv = 10,   # How many folds we want -- i.e. the value of K: In our case 10-fold CV\n",
    "                    refit = True, # Do we want to refit on each 9 folds?\n",
    "                    verbose = 1, # How much you want the output to print out\n",
    "                    scoring = 'accuracy')  # What metric do I prioritise?"
   ]
  },
  {
   "cell_type": "code",
   "execution_count": 119,
   "id": "a5298c43-cf0e-4df9-afb1-e16e29b84db9",
   "metadata": {
    "collapsed": true,
    "jupyter": {
     "outputs_hidden": true
    }
   },
   "outputs": [
    {
     "name": "stdout",
     "output_type": "stream",
     "text": [
      "Fitting 10 folds for each of 200 candidates, totalling 2000 fits\n"
     ]
    },
    {
     "name": "stderr",
     "output_type": "stream",
     "text": [
      "C:\\Users\\josep\\anaconda3\\Lib\\site-packages\\sklearn\\model_selection\\_split.py:776: UserWarning: The least populated class in y has only 3 members, which is less than n_splits=10.\n",
      "  warnings.warn(\n"
     ]
    },
    {
     "ename": "KeyboardInterrupt",
     "evalue": "",
     "output_type": "error",
     "traceback": [
      "\u001b[1;31m---------------------------------------------------------------------------\u001b[0m",
      "\u001b[1;31mKeyboardInterrupt\u001b[0m                         Traceback (most recent call last)",
      "Cell \u001b[1;32mIn[119], line 6\u001b[0m\n\u001b[0;32m      3\u001b[0m now \u001b[38;5;241m=\u001b[39m time\u001b[38;5;241m.\u001b[39mtime()   \u001b[38;5;66;03m# Start by saving the current time\u001b[39;00m\n\u001b[0;32m      5\u001b[0m \u001b[38;5;66;03m# Fit the gridsearch on our training set\u001b[39;00m\n\u001b[1;32m----> 6\u001b[0m grid\u001b[38;5;241m.\u001b[39mfit(X_train,y_train)\n\u001b[0;32m      8\u001b[0m \u001b[38;5;28mprint\u001b[39m(\u001b[38;5;124mf\u001b[39m\u001b[38;5;124m'\u001b[39m\u001b[38;5;124m Time in seconds: \u001b[39m\u001b[38;5;132;01m{\u001b[39;00mtime\u001b[38;5;241m.\u001b[39mtime()\u001b[38;5;250m \u001b[39m\u001b[38;5;241m-\u001b[39m\u001b[38;5;250m \u001b[39mnow\u001b[38;5;132;01m}\u001b[39;00m\u001b[38;5;124m'\u001b[39m)\n",
      "File \u001b[1;32m~\\anaconda3\\Lib\\site-packages\\sklearn\\base.py:1473\u001b[0m, in \u001b[0;36m_fit_context.<locals>.decorator.<locals>.wrapper\u001b[1;34m(estimator, *args, **kwargs)\u001b[0m\n\u001b[0;32m   1466\u001b[0m     estimator\u001b[38;5;241m.\u001b[39m_validate_params()\n\u001b[0;32m   1468\u001b[0m \u001b[38;5;28;01mwith\u001b[39;00m config_context(\n\u001b[0;32m   1469\u001b[0m     skip_parameter_validation\u001b[38;5;241m=\u001b[39m(\n\u001b[0;32m   1470\u001b[0m         prefer_skip_nested_validation \u001b[38;5;129;01mor\u001b[39;00m global_skip_validation\n\u001b[0;32m   1471\u001b[0m     )\n\u001b[0;32m   1472\u001b[0m ):\n\u001b[1;32m-> 1473\u001b[0m     \u001b[38;5;28;01mreturn\u001b[39;00m fit_method(estimator, \u001b[38;5;241m*\u001b[39margs, \u001b[38;5;241m*\u001b[39m\u001b[38;5;241m*\u001b[39mkwargs)\n",
      "File \u001b[1;32m~\\anaconda3\\Lib\\site-packages\\sklearn\\model_selection\\_search.py:1018\u001b[0m, in \u001b[0;36mBaseSearchCV.fit\u001b[1;34m(self, X, y, **params)\u001b[0m\n\u001b[0;32m   1012\u001b[0m     results \u001b[38;5;241m=\u001b[39m \u001b[38;5;28mself\u001b[39m\u001b[38;5;241m.\u001b[39m_format_results(\n\u001b[0;32m   1013\u001b[0m         all_candidate_params, n_splits, all_out, all_more_results\n\u001b[0;32m   1014\u001b[0m     )\n\u001b[0;32m   1016\u001b[0m     \u001b[38;5;28;01mreturn\u001b[39;00m results\n\u001b[1;32m-> 1018\u001b[0m \u001b[38;5;28mself\u001b[39m\u001b[38;5;241m.\u001b[39m_run_search(evaluate_candidates)\n\u001b[0;32m   1020\u001b[0m \u001b[38;5;66;03m# multimetric is determined here because in the case of a callable\u001b[39;00m\n\u001b[0;32m   1021\u001b[0m \u001b[38;5;66;03m# self.scoring the return type is only known after calling\u001b[39;00m\n\u001b[0;32m   1022\u001b[0m first_test_score \u001b[38;5;241m=\u001b[39m all_out[\u001b[38;5;241m0\u001b[39m][\u001b[38;5;124m\"\u001b[39m\u001b[38;5;124mtest_scores\u001b[39m\u001b[38;5;124m\"\u001b[39m]\n",
      "File \u001b[1;32m~\\anaconda3\\Lib\\site-packages\\sklearn\\model_selection\\_search.py:1572\u001b[0m, in \u001b[0;36mGridSearchCV._run_search\u001b[1;34m(self, evaluate_candidates)\u001b[0m\n\u001b[0;32m   1570\u001b[0m \u001b[38;5;28;01mdef\u001b[39;00m \u001b[38;5;21m_run_search\u001b[39m(\u001b[38;5;28mself\u001b[39m, evaluate_candidates):\n\u001b[0;32m   1571\u001b[0m \u001b[38;5;250m    \u001b[39m\u001b[38;5;124;03m\"\"\"Search all candidates in param_grid\"\"\"\u001b[39;00m\n\u001b[1;32m-> 1572\u001b[0m     evaluate_candidates(ParameterGrid(\u001b[38;5;28mself\u001b[39m\u001b[38;5;241m.\u001b[39mparam_grid))\n",
      "File \u001b[1;32m~\\anaconda3\\Lib\\site-packages\\sklearn\\model_selection\\_search.py:964\u001b[0m, in \u001b[0;36mBaseSearchCV.fit.<locals>.evaluate_candidates\u001b[1;34m(candidate_params, cv, more_results)\u001b[0m\n\u001b[0;32m    956\u001b[0m \u001b[38;5;28;01mif\u001b[39;00m \u001b[38;5;28mself\u001b[39m\u001b[38;5;241m.\u001b[39mverbose \u001b[38;5;241m>\u001b[39m \u001b[38;5;241m0\u001b[39m:\n\u001b[0;32m    957\u001b[0m     \u001b[38;5;28mprint\u001b[39m(\n\u001b[0;32m    958\u001b[0m         \u001b[38;5;124m\"\u001b[39m\u001b[38;5;124mFitting \u001b[39m\u001b[38;5;132;01m{0}\u001b[39;00m\u001b[38;5;124m folds for each of \u001b[39m\u001b[38;5;132;01m{1}\u001b[39;00m\u001b[38;5;124m candidates,\u001b[39m\u001b[38;5;124m\"\u001b[39m\n\u001b[0;32m    959\u001b[0m         \u001b[38;5;124m\"\u001b[39m\u001b[38;5;124m totalling \u001b[39m\u001b[38;5;132;01m{2}\u001b[39;00m\u001b[38;5;124m fits\u001b[39m\u001b[38;5;124m\"\u001b[39m\u001b[38;5;241m.\u001b[39mformat(\n\u001b[0;32m    960\u001b[0m             n_splits, n_candidates, n_candidates \u001b[38;5;241m*\u001b[39m n_splits\n\u001b[0;32m    961\u001b[0m         )\n\u001b[0;32m    962\u001b[0m     )\n\u001b[1;32m--> 964\u001b[0m out \u001b[38;5;241m=\u001b[39m parallel(\n\u001b[0;32m    965\u001b[0m     delayed(_fit_and_score)(\n\u001b[0;32m    966\u001b[0m         clone(base_estimator),\n\u001b[0;32m    967\u001b[0m         X,\n\u001b[0;32m    968\u001b[0m         y,\n\u001b[0;32m    969\u001b[0m         train\u001b[38;5;241m=\u001b[39mtrain,\n\u001b[0;32m    970\u001b[0m         test\u001b[38;5;241m=\u001b[39mtest,\n\u001b[0;32m    971\u001b[0m         parameters\u001b[38;5;241m=\u001b[39mparameters,\n\u001b[0;32m    972\u001b[0m         split_progress\u001b[38;5;241m=\u001b[39m(split_idx, n_splits),\n\u001b[0;32m    973\u001b[0m         candidate_progress\u001b[38;5;241m=\u001b[39m(cand_idx, n_candidates),\n\u001b[0;32m    974\u001b[0m         \u001b[38;5;241m*\u001b[39m\u001b[38;5;241m*\u001b[39mfit_and_score_kwargs,\n\u001b[0;32m    975\u001b[0m     )\n\u001b[0;32m    976\u001b[0m     \u001b[38;5;28;01mfor\u001b[39;00m (cand_idx, parameters), (split_idx, (train, test)) \u001b[38;5;129;01min\u001b[39;00m product(\n\u001b[0;32m    977\u001b[0m         \u001b[38;5;28menumerate\u001b[39m(candidate_params),\n\u001b[0;32m    978\u001b[0m         \u001b[38;5;28menumerate\u001b[39m(cv\u001b[38;5;241m.\u001b[39msplit(X, y, \u001b[38;5;241m*\u001b[39m\u001b[38;5;241m*\u001b[39mrouted_params\u001b[38;5;241m.\u001b[39msplitter\u001b[38;5;241m.\u001b[39msplit)),\n\u001b[0;32m    979\u001b[0m     )\n\u001b[0;32m    980\u001b[0m )\n\u001b[0;32m    982\u001b[0m \u001b[38;5;28;01mif\u001b[39;00m \u001b[38;5;28mlen\u001b[39m(out) \u001b[38;5;241m<\u001b[39m \u001b[38;5;241m1\u001b[39m:\n\u001b[0;32m    983\u001b[0m     \u001b[38;5;28;01mraise\u001b[39;00m \u001b[38;5;167;01mValueError\u001b[39;00m(\n\u001b[0;32m    984\u001b[0m         \u001b[38;5;124m\"\u001b[39m\u001b[38;5;124mNo fits were performed. \u001b[39m\u001b[38;5;124m\"\u001b[39m\n\u001b[0;32m    985\u001b[0m         \u001b[38;5;124m\"\u001b[39m\u001b[38;5;124mWas the CV iterator empty? \u001b[39m\u001b[38;5;124m\"\u001b[39m\n\u001b[0;32m    986\u001b[0m         \u001b[38;5;124m\"\u001b[39m\u001b[38;5;124mWere there no candidates?\u001b[39m\u001b[38;5;124m\"\u001b[39m\n\u001b[0;32m    987\u001b[0m     )\n",
      "File \u001b[1;32m~\\anaconda3\\Lib\\site-packages\\sklearn\\utils\\parallel.py:74\u001b[0m, in \u001b[0;36mParallel.__call__\u001b[1;34m(self, iterable)\u001b[0m\n\u001b[0;32m     69\u001b[0m config \u001b[38;5;241m=\u001b[39m get_config()\n\u001b[0;32m     70\u001b[0m iterable_with_config \u001b[38;5;241m=\u001b[39m (\n\u001b[0;32m     71\u001b[0m     (_with_config(delayed_func, config), args, kwargs)\n\u001b[0;32m     72\u001b[0m     \u001b[38;5;28;01mfor\u001b[39;00m delayed_func, args, kwargs \u001b[38;5;129;01min\u001b[39;00m iterable\n\u001b[0;32m     73\u001b[0m )\n\u001b[1;32m---> 74\u001b[0m \u001b[38;5;28;01mreturn\u001b[39;00m \u001b[38;5;28msuper\u001b[39m()\u001b[38;5;241m.\u001b[39m\u001b[38;5;21m__call__\u001b[39m(iterable_with_config)\n",
      "File \u001b[1;32m~\\anaconda3\\Lib\\site-packages\\joblib\\parallel.py:1918\u001b[0m, in \u001b[0;36mParallel.__call__\u001b[1;34m(self, iterable)\u001b[0m\n\u001b[0;32m   1916\u001b[0m     output \u001b[38;5;241m=\u001b[39m \u001b[38;5;28mself\u001b[39m\u001b[38;5;241m.\u001b[39m_get_sequential_output(iterable)\n\u001b[0;32m   1917\u001b[0m     \u001b[38;5;28mnext\u001b[39m(output)\n\u001b[1;32m-> 1918\u001b[0m     \u001b[38;5;28;01mreturn\u001b[39;00m output \u001b[38;5;28;01mif\u001b[39;00m \u001b[38;5;28mself\u001b[39m\u001b[38;5;241m.\u001b[39mreturn_generator \u001b[38;5;28;01melse\u001b[39;00m \u001b[38;5;28mlist\u001b[39m(output)\n\u001b[0;32m   1920\u001b[0m \u001b[38;5;66;03m# Let's create an ID that uniquely identifies the current call. If the\u001b[39;00m\n\u001b[0;32m   1921\u001b[0m \u001b[38;5;66;03m# call is interrupted early and that the same instance is immediately\u001b[39;00m\n\u001b[0;32m   1922\u001b[0m \u001b[38;5;66;03m# re-used, this id will be used to prevent workers that were\u001b[39;00m\n\u001b[0;32m   1923\u001b[0m \u001b[38;5;66;03m# concurrently finalizing a task from the previous call to run the\u001b[39;00m\n\u001b[0;32m   1924\u001b[0m \u001b[38;5;66;03m# callback.\u001b[39;00m\n\u001b[0;32m   1925\u001b[0m \u001b[38;5;28;01mwith\u001b[39;00m \u001b[38;5;28mself\u001b[39m\u001b[38;5;241m.\u001b[39m_lock:\n",
      "File \u001b[1;32m~\\anaconda3\\Lib\\site-packages\\joblib\\parallel.py:1847\u001b[0m, in \u001b[0;36mParallel._get_sequential_output\u001b[1;34m(self, iterable)\u001b[0m\n\u001b[0;32m   1845\u001b[0m \u001b[38;5;28mself\u001b[39m\u001b[38;5;241m.\u001b[39mn_dispatched_batches \u001b[38;5;241m+\u001b[39m\u001b[38;5;241m=\u001b[39m \u001b[38;5;241m1\u001b[39m\n\u001b[0;32m   1846\u001b[0m \u001b[38;5;28mself\u001b[39m\u001b[38;5;241m.\u001b[39mn_dispatched_tasks \u001b[38;5;241m+\u001b[39m\u001b[38;5;241m=\u001b[39m \u001b[38;5;241m1\u001b[39m\n\u001b[1;32m-> 1847\u001b[0m res \u001b[38;5;241m=\u001b[39m func(\u001b[38;5;241m*\u001b[39margs, \u001b[38;5;241m*\u001b[39m\u001b[38;5;241m*\u001b[39mkwargs)\n\u001b[0;32m   1848\u001b[0m \u001b[38;5;28mself\u001b[39m\u001b[38;5;241m.\u001b[39mn_completed_tasks \u001b[38;5;241m+\u001b[39m\u001b[38;5;241m=\u001b[39m \u001b[38;5;241m1\u001b[39m\n\u001b[0;32m   1849\u001b[0m \u001b[38;5;28mself\u001b[39m\u001b[38;5;241m.\u001b[39mprint_progress()\n",
      "File \u001b[1;32m~\\anaconda3\\Lib\\site-packages\\sklearn\\utils\\parallel.py:136\u001b[0m, in \u001b[0;36m_FuncWrapper.__call__\u001b[1;34m(self, *args, **kwargs)\u001b[0m\n\u001b[0;32m    134\u001b[0m     config \u001b[38;5;241m=\u001b[39m {}\n\u001b[0;32m    135\u001b[0m \u001b[38;5;28;01mwith\u001b[39;00m config_context(\u001b[38;5;241m*\u001b[39m\u001b[38;5;241m*\u001b[39mconfig):\n\u001b[1;32m--> 136\u001b[0m     \u001b[38;5;28;01mreturn\u001b[39;00m \u001b[38;5;28mself\u001b[39m\u001b[38;5;241m.\u001b[39mfunction(\u001b[38;5;241m*\u001b[39margs, \u001b[38;5;241m*\u001b[39m\u001b[38;5;241m*\u001b[39mkwargs)\n",
      "File \u001b[1;32m~\\anaconda3\\Lib\\site-packages\\sklearn\\model_selection\\_validation.py:888\u001b[0m, in \u001b[0;36m_fit_and_score\u001b[1;34m(estimator, X, y, scorer, train, test, verbose, parameters, fit_params, score_params, return_train_score, return_parameters, return_n_test_samples, return_times, return_estimator, split_progress, candidate_progress, error_score)\u001b[0m\n\u001b[0;32m    886\u001b[0m         estimator\u001b[38;5;241m.\u001b[39mfit(X_train, \u001b[38;5;241m*\u001b[39m\u001b[38;5;241m*\u001b[39mfit_params)\n\u001b[0;32m    887\u001b[0m     \u001b[38;5;28;01melse\u001b[39;00m:\n\u001b[1;32m--> 888\u001b[0m         estimator\u001b[38;5;241m.\u001b[39mfit(X_train, y_train, \u001b[38;5;241m*\u001b[39m\u001b[38;5;241m*\u001b[39mfit_params)\n\u001b[0;32m    890\u001b[0m \u001b[38;5;28;01mexcept\u001b[39;00m \u001b[38;5;167;01mException\u001b[39;00m:\n\u001b[0;32m    891\u001b[0m     \u001b[38;5;66;03m# Note fit time as time until error\u001b[39;00m\n\u001b[0;32m    892\u001b[0m     fit_time \u001b[38;5;241m=\u001b[39m time\u001b[38;5;241m.\u001b[39mtime() \u001b[38;5;241m-\u001b[39m start_time\n",
      "File \u001b[1;32m~\\anaconda3\\Lib\\site-packages\\sklearn\\base.py:1473\u001b[0m, in \u001b[0;36m_fit_context.<locals>.decorator.<locals>.wrapper\u001b[1;34m(estimator, *args, **kwargs)\u001b[0m\n\u001b[0;32m   1466\u001b[0m     estimator\u001b[38;5;241m.\u001b[39m_validate_params()\n\u001b[0;32m   1468\u001b[0m \u001b[38;5;28;01mwith\u001b[39;00m config_context(\n\u001b[0;32m   1469\u001b[0m     skip_parameter_validation\u001b[38;5;241m=\u001b[39m(\n\u001b[0;32m   1470\u001b[0m         prefer_skip_nested_validation \u001b[38;5;129;01mor\u001b[39;00m global_skip_validation\n\u001b[0;32m   1471\u001b[0m     )\n\u001b[0;32m   1472\u001b[0m ):\n\u001b[1;32m-> 1473\u001b[0m     \u001b[38;5;28;01mreturn\u001b[39;00m fit_method(estimator, \u001b[38;5;241m*\u001b[39margs, \u001b[38;5;241m*\u001b[39m\u001b[38;5;241m*\u001b[39mkwargs)\n",
      "File \u001b[1;32m~\\anaconda3\\Lib\\site-packages\\sklearn\\tree\\_classes.py:1009\u001b[0m, in \u001b[0;36mDecisionTreeClassifier.fit\u001b[1;34m(self, X, y, sample_weight, check_input)\u001b[0m\n\u001b[0;32m    978\u001b[0m \u001b[38;5;129m@_fit_context\u001b[39m(prefer_skip_nested_validation\u001b[38;5;241m=\u001b[39m\u001b[38;5;28;01mTrue\u001b[39;00m)\n\u001b[0;32m    979\u001b[0m \u001b[38;5;28;01mdef\u001b[39;00m \u001b[38;5;21mfit\u001b[39m(\u001b[38;5;28mself\u001b[39m, X, y, sample_weight\u001b[38;5;241m=\u001b[39m\u001b[38;5;28;01mNone\u001b[39;00m, check_input\u001b[38;5;241m=\u001b[39m\u001b[38;5;28;01mTrue\u001b[39;00m):\n\u001b[0;32m    980\u001b[0m \u001b[38;5;250m    \u001b[39m\u001b[38;5;124;03m\"\"\"Build a decision tree classifier from the training set (X, y).\u001b[39;00m\n\u001b[0;32m    981\u001b[0m \n\u001b[0;32m    982\u001b[0m \u001b[38;5;124;03m    Parameters\u001b[39;00m\n\u001b[1;32m   (...)\u001b[0m\n\u001b[0;32m   1006\u001b[0m \u001b[38;5;124;03m        Fitted estimator.\u001b[39;00m\n\u001b[0;32m   1007\u001b[0m \u001b[38;5;124;03m    \"\"\"\u001b[39;00m\n\u001b[1;32m-> 1009\u001b[0m     \u001b[38;5;28msuper\u001b[39m()\u001b[38;5;241m.\u001b[39m_fit(\n\u001b[0;32m   1010\u001b[0m         X,\n\u001b[0;32m   1011\u001b[0m         y,\n\u001b[0;32m   1012\u001b[0m         sample_weight\u001b[38;5;241m=\u001b[39msample_weight,\n\u001b[0;32m   1013\u001b[0m         check_input\u001b[38;5;241m=\u001b[39mcheck_input,\n\u001b[0;32m   1014\u001b[0m     )\n\u001b[0;32m   1015\u001b[0m     \u001b[38;5;28;01mreturn\u001b[39;00m \u001b[38;5;28mself\u001b[39m\n",
      "File \u001b[1;32m~\\anaconda3\\Lib\\site-packages\\sklearn\\tree\\_classes.py:305\u001b[0m, in \u001b[0;36mBaseDecisionTree._fit\u001b[1;34m(self, X, y, sample_weight, check_input, missing_values_in_feature_mask)\u001b[0m\n\u001b[0;32m    303\u001b[0m y_encoded \u001b[38;5;241m=\u001b[39m np\u001b[38;5;241m.\u001b[39mzeros(y\u001b[38;5;241m.\u001b[39mshape, dtype\u001b[38;5;241m=\u001b[39m\u001b[38;5;28mint\u001b[39m)\n\u001b[0;32m    304\u001b[0m \u001b[38;5;28;01mfor\u001b[39;00m k \u001b[38;5;129;01min\u001b[39;00m \u001b[38;5;28mrange\u001b[39m(\u001b[38;5;28mself\u001b[39m\u001b[38;5;241m.\u001b[39mn_outputs_):\n\u001b[1;32m--> 305\u001b[0m     classes_k, y_encoded[:, k] \u001b[38;5;241m=\u001b[39m np\u001b[38;5;241m.\u001b[39munique(y[:, k], return_inverse\u001b[38;5;241m=\u001b[39m\u001b[38;5;28;01mTrue\u001b[39;00m)\n\u001b[0;32m    306\u001b[0m     \u001b[38;5;28mself\u001b[39m\u001b[38;5;241m.\u001b[39mclasses_\u001b[38;5;241m.\u001b[39mappend(classes_k)\n\u001b[0;32m    307\u001b[0m     \u001b[38;5;28mself\u001b[39m\u001b[38;5;241m.\u001b[39mn_classes_\u001b[38;5;241m.\u001b[39mappend(classes_k\u001b[38;5;241m.\u001b[39mshape[\u001b[38;5;241m0\u001b[39m])\n",
      "File \u001b[1;32m~\\anaconda3\\Lib\\site-packages\\numpy\\lib\\arraysetops.py:274\u001b[0m, in \u001b[0;36munique\u001b[1;34m(ar, return_index, return_inverse, return_counts, axis, equal_nan)\u001b[0m\n\u001b[0;32m    272\u001b[0m ar \u001b[38;5;241m=\u001b[39m np\u001b[38;5;241m.\u001b[39masanyarray(ar)\n\u001b[0;32m    273\u001b[0m \u001b[38;5;28;01mif\u001b[39;00m axis \u001b[38;5;129;01mis\u001b[39;00m \u001b[38;5;28;01mNone\u001b[39;00m:\n\u001b[1;32m--> 274\u001b[0m     ret \u001b[38;5;241m=\u001b[39m _unique1d(ar, return_index, return_inverse, return_counts, \n\u001b[0;32m    275\u001b[0m                     equal_nan\u001b[38;5;241m=\u001b[39mequal_nan)\n\u001b[0;32m    276\u001b[0m     \u001b[38;5;28;01mreturn\u001b[39;00m _unpack_tuple(ret)\n\u001b[0;32m    278\u001b[0m \u001b[38;5;66;03m# axis was specified and not None\u001b[39;00m\n",
      "File \u001b[1;32m~\\anaconda3\\Lib\\site-packages\\numpy\\lib\\arraysetops.py:338\u001b[0m, in \u001b[0;36m_unique1d\u001b[1;34m(ar, return_index, return_inverse, return_counts, equal_nan)\u001b[0m\n\u001b[0;32m    336\u001b[0m     ar\u001b[38;5;241m.\u001b[39msort()\n\u001b[0;32m    337\u001b[0m     aux \u001b[38;5;241m=\u001b[39m ar\n\u001b[1;32m--> 338\u001b[0m mask \u001b[38;5;241m=\u001b[39m np\u001b[38;5;241m.\u001b[39mempty(aux\u001b[38;5;241m.\u001b[39mshape, dtype\u001b[38;5;241m=\u001b[39mnp\u001b[38;5;241m.\u001b[39mbool_)\n\u001b[0;32m    339\u001b[0m mask[:\u001b[38;5;241m1\u001b[39m] \u001b[38;5;241m=\u001b[39m \u001b[38;5;28;01mTrue\u001b[39;00m\n\u001b[0;32m    340\u001b[0m \u001b[38;5;28;01mif\u001b[39;00m (equal_nan \u001b[38;5;129;01mand\u001b[39;00m aux\u001b[38;5;241m.\u001b[39mshape[\u001b[38;5;241m0\u001b[39m] \u001b[38;5;241m>\u001b[39m \u001b[38;5;241m0\u001b[39m \u001b[38;5;129;01mand\u001b[39;00m aux\u001b[38;5;241m.\u001b[39mdtype\u001b[38;5;241m.\u001b[39mkind \u001b[38;5;129;01min\u001b[39;00m \u001b[38;5;124m\"\u001b[39m\u001b[38;5;124mcfmM\u001b[39m\u001b[38;5;124m\"\u001b[39m \u001b[38;5;129;01mand\u001b[39;00m\n\u001b[0;32m    341\u001b[0m         np\u001b[38;5;241m.\u001b[39misnan(aux[\u001b[38;5;241m-\u001b[39m\u001b[38;5;241m1\u001b[39m])):\n",
      "\u001b[1;31mKeyboardInterrupt\u001b[0m: "
     ]
    }
   ],
   "source": [
    "# Take the gridsearch and fit it on the Training set\n",
    "\n",
    "now = time.time()   # Start by saving the current time\n",
    "\n",
    "# Fit the gridsearch on our training set\n",
    "grid.fit(X_train,y_train)\n",
    "\n",
    "print(f' Time in seconds: {time.time() - now}')   # Show the difference in time - i.e. how long this took"
   ]
  },
  {
   "cell_type": "code",
   "execution_count": 66,
   "id": "8462cd67-2d92-4175-8448-af40a1d240d7",
   "metadata": {},
   "outputs": [],
   "source": [
    "# Grid best hyperparameters (ran the grid search multiple times)\n",
    "grid1_params = {'max_depth': 30, 'max_features': 6, 'min_samples_leaf': 2, 'min_samples_split': 100}\n",
    "grid2_params = {'max_depth': 50, 'max_features': 6, 'min_samples_leaf': 2, 'min_samples_split': 100}"
   ]
  },
  {
   "cell_type": "code",
   "execution_count": 68,
   "id": "4f5ae2b4-278e-44d1-a53e-851686f1d915",
   "metadata": {},
   "outputs": [],
   "source": [
    "# Best parameters found using a grid search\n",
    "dt = DecisionTreeClassifier(max_depth = 50, max_features = 6, min_samples_leaf = 2, min_samples_split = 100)"
   ]
  },
  {
   "cell_type": "code",
   "execution_count": 70,
   "id": "4d778e7d-4326-48c3-a18f-5c7faae1fd16",
   "metadata": {},
   "outputs": [
    {
     "data": {
      "text/html": [
       "<style>#sk-container-id-1 {\n",
       "  /* Definition of color scheme common for light and dark mode */\n",
       "  --sklearn-color-text: black;\n",
       "  --sklearn-color-line: gray;\n",
       "  /* Definition of color scheme for unfitted estimators */\n",
       "  --sklearn-color-unfitted-level-0: #fff5e6;\n",
       "  --sklearn-color-unfitted-level-1: #f6e4d2;\n",
       "  --sklearn-color-unfitted-level-2: #ffe0b3;\n",
       "  --sklearn-color-unfitted-level-3: chocolate;\n",
       "  /* Definition of color scheme for fitted estimators */\n",
       "  --sklearn-color-fitted-level-0: #f0f8ff;\n",
       "  --sklearn-color-fitted-level-1: #d4ebff;\n",
       "  --sklearn-color-fitted-level-2: #b3dbfd;\n",
       "  --sklearn-color-fitted-level-3: cornflowerblue;\n",
       "\n",
       "  /* Specific color for light theme */\n",
       "  --sklearn-color-text-on-default-background: var(--sg-text-color, var(--theme-code-foreground, var(--jp-content-font-color1, black)));\n",
       "  --sklearn-color-background: var(--sg-background-color, var(--theme-background, var(--jp-layout-color0, white)));\n",
       "  --sklearn-color-border-box: var(--sg-text-color, var(--theme-code-foreground, var(--jp-content-font-color1, black)));\n",
       "  --sklearn-color-icon: #696969;\n",
       "\n",
       "  @media (prefers-color-scheme: dark) {\n",
       "    /* Redefinition of color scheme for dark theme */\n",
       "    --sklearn-color-text-on-default-background: var(--sg-text-color, var(--theme-code-foreground, var(--jp-content-font-color1, white)));\n",
       "    --sklearn-color-background: var(--sg-background-color, var(--theme-background, var(--jp-layout-color0, #111)));\n",
       "    --sklearn-color-border-box: var(--sg-text-color, var(--theme-code-foreground, var(--jp-content-font-color1, white)));\n",
       "    --sklearn-color-icon: #878787;\n",
       "  }\n",
       "}\n",
       "\n",
       "#sk-container-id-1 {\n",
       "  color: var(--sklearn-color-text);\n",
       "}\n",
       "\n",
       "#sk-container-id-1 pre {\n",
       "  padding: 0;\n",
       "}\n",
       "\n",
       "#sk-container-id-1 input.sk-hidden--visually {\n",
       "  border: 0;\n",
       "  clip: rect(1px 1px 1px 1px);\n",
       "  clip: rect(1px, 1px, 1px, 1px);\n",
       "  height: 1px;\n",
       "  margin: -1px;\n",
       "  overflow: hidden;\n",
       "  padding: 0;\n",
       "  position: absolute;\n",
       "  width: 1px;\n",
       "}\n",
       "\n",
       "#sk-container-id-1 div.sk-dashed-wrapped {\n",
       "  border: 1px dashed var(--sklearn-color-line);\n",
       "  margin: 0 0.4em 0.5em 0.4em;\n",
       "  box-sizing: border-box;\n",
       "  padding-bottom: 0.4em;\n",
       "  background-color: var(--sklearn-color-background);\n",
       "}\n",
       "\n",
       "#sk-container-id-1 div.sk-container {\n",
       "  /* jupyter's `normalize.less` sets `[hidden] { display: none; }`\n",
       "     but bootstrap.min.css set `[hidden] { display: none !important; }`\n",
       "     so we also need the `!important` here to be able to override the\n",
       "     default hidden behavior on the sphinx rendered scikit-learn.org.\n",
       "     See: https://github.com/scikit-learn/scikit-learn/issues/21755 */\n",
       "  display: inline-block !important;\n",
       "  position: relative;\n",
       "}\n",
       "\n",
       "#sk-container-id-1 div.sk-text-repr-fallback {\n",
       "  display: none;\n",
       "}\n",
       "\n",
       "div.sk-parallel-item,\n",
       "div.sk-serial,\n",
       "div.sk-item {\n",
       "  /* draw centered vertical line to link estimators */\n",
       "  background-image: linear-gradient(var(--sklearn-color-text-on-default-background), var(--sklearn-color-text-on-default-background));\n",
       "  background-size: 2px 100%;\n",
       "  background-repeat: no-repeat;\n",
       "  background-position: center center;\n",
       "}\n",
       "\n",
       "/* Parallel-specific style estimator block */\n",
       "\n",
       "#sk-container-id-1 div.sk-parallel-item::after {\n",
       "  content: \"\";\n",
       "  width: 100%;\n",
       "  border-bottom: 2px solid var(--sklearn-color-text-on-default-background);\n",
       "  flex-grow: 1;\n",
       "}\n",
       "\n",
       "#sk-container-id-1 div.sk-parallel {\n",
       "  display: flex;\n",
       "  align-items: stretch;\n",
       "  justify-content: center;\n",
       "  background-color: var(--sklearn-color-background);\n",
       "  position: relative;\n",
       "}\n",
       "\n",
       "#sk-container-id-1 div.sk-parallel-item {\n",
       "  display: flex;\n",
       "  flex-direction: column;\n",
       "}\n",
       "\n",
       "#sk-container-id-1 div.sk-parallel-item:first-child::after {\n",
       "  align-self: flex-end;\n",
       "  width: 50%;\n",
       "}\n",
       "\n",
       "#sk-container-id-1 div.sk-parallel-item:last-child::after {\n",
       "  align-self: flex-start;\n",
       "  width: 50%;\n",
       "}\n",
       "\n",
       "#sk-container-id-1 div.sk-parallel-item:only-child::after {\n",
       "  width: 0;\n",
       "}\n",
       "\n",
       "/* Serial-specific style estimator block */\n",
       "\n",
       "#sk-container-id-1 div.sk-serial {\n",
       "  display: flex;\n",
       "  flex-direction: column;\n",
       "  align-items: center;\n",
       "  background-color: var(--sklearn-color-background);\n",
       "  padding-right: 1em;\n",
       "  padding-left: 1em;\n",
       "}\n",
       "\n",
       "\n",
       "/* Toggleable style: style used for estimator/Pipeline/ColumnTransformer box that is\n",
       "clickable and can be expanded/collapsed.\n",
       "- Pipeline and ColumnTransformer use this feature and define the default style\n",
       "- Estimators will overwrite some part of the style using the `sk-estimator` class\n",
       "*/\n",
       "\n",
       "/* Pipeline and ColumnTransformer style (default) */\n",
       "\n",
       "#sk-container-id-1 div.sk-toggleable {\n",
       "  /* Default theme specific background. It is overwritten whether we have a\n",
       "  specific estimator or a Pipeline/ColumnTransformer */\n",
       "  background-color: var(--sklearn-color-background);\n",
       "}\n",
       "\n",
       "/* Toggleable label */\n",
       "#sk-container-id-1 label.sk-toggleable__label {\n",
       "  cursor: pointer;\n",
       "  display: block;\n",
       "  width: 100%;\n",
       "  margin-bottom: 0;\n",
       "  padding: 0.5em;\n",
       "  box-sizing: border-box;\n",
       "  text-align: center;\n",
       "}\n",
       "\n",
       "#sk-container-id-1 label.sk-toggleable__label-arrow:before {\n",
       "  /* Arrow on the left of the label */\n",
       "  content: \"▸\";\n",
       "  float: left;\n",
       "  margin-right: 0.25em;\n",
       "  color: var(--sklearn-color-icon);\n",
       "}\n",
       "\n",
       "#sk-container-id-1 label.sk-toggleable__label-arrow:hover:before {\n",
       "  color: var(--sklearn-color-text);\n",
       "}\n",
       "\n",
       "/* Toggleable content - dropdown */\n",
       "\n",
       "#sk-container-id-1 div.sk-toggleable__content {\n",
       "  max-height: 0;\n",
       "  max-width: 0;\n",
       "  overflow: hidden;\n",
       "  text-align: left;\n",
       "  /* unfitted */\n",
       "  background-color: var(--sklearn-color-unfitted-level-0);\n",
       "}\n",
       "\n",
       "#sk-container-id-1 div.sk-toggleable__content.fitted {\n",
       "  /* fitted */\n",
       "  background-color: var(--sklearn-color-fitted-level-0);\n",
       "}\n",
       "\n",
       "#sk-container-id-1 div.sk-toggleable__content pre {\n",
       "  margin: 0.2em;\n",
       "  border-radius: 0.25em;\n",
       "  color: var(--sklearn-color-text);\n",
       "  /* unfitted */\n",
       "  background-color: var(--sklearn-color-unfitted-level-0);\n",
       "}\n",
       "\n",
       "#sk-container-id-1 div.sk-toggleable__content.fitted pre {\n",
       "  /* unfitted */\n",
       "  background-color: var(--sklearn-color-fitted-level-0);\n",
       "}\n",
       "\n",
       "#sk-container-id-1 input.sk-toggleable__control:checked~div.sk-toggleable__content {\n",
       "  /* Expand drop-down */\n",
       "  max-height: 200px;\n",
       "  max-width: 100%;\n",
       "  overflow: auto;\n",
       "}\n",
       "\n",
       "#sk-container-id-1 input.sk-toggleable__control:checked~label.sk-toggleable__label-arrow:before {\n",
       "  content: \"▾\";\n",
       "}\n",
       "\n",
       "/* Pipeline/ColumnTransformer-specific style */\n",
       "\n",
       "#sk-container-id-1 div.sk-label input.sk-toggleable__control:checked~label.sk-toggleable__label {\n",
       "  color: var(--sklearn-color-text);\n",
       "  background-color: var(--sklearn-color-unfitted-level-2);\n",
       "}\n",
       "\n",
       "#sk-container-id-1 div.sk-label.fitted input.sk-toggleable__control:checked~label.sk-toggleable__label {\n",
       "  background-color: var(--sklearn-color-fitted-level-2);\n",
       "}\n",
       "\n",
       "/* Estimator-specific style */\n",
       "\n",
       "/* Colorize estimator box */\n",
       "#sk-container-id-1 div.sk-estimator input.sk-toggleable__control:checked~label.sk-toggleable__label {\n",
       "  /* unfitted */\n",
       "  background-color: var(--sklearn-color-unfitted-level-2);\n",
       "}\n",
       "\n",
       "#sk-container-id-1 div.sk-estimator.fitted input.sk-toggleable__control:checked~label.sk-toggleable__label {\n",
       "  /* fitted */\n",
       "  background-color: var(--sklearn-color-fitted-level-2);\n",
       "}\n",
       "\n",
       "#sk-container-id-1 div.sk-label label.sk-toggleable__label,\n",
       "#sk-container-id-1 div.sk-label label {\n",
       "  /* The background is the default theme color */\n",
       "  color: var(--sklearn-color-text-on-default-background);\n",
       "}\n",
       "\n",
       "/* On hover, darken the color of the background */\n",
       "#sk-container-id-1 div.sk-label:hover label.sk-toggleable__label {\n",
       "  color: var(--sklearn-color-text);\n",
       "  background-color: var(--sklearn-color-unfitted-level-2);\n",
       "}\n",
       "\n",
       "/* Label box, darken color on hover, fitted */\n",
       "#sk-container-id-1 div.sk-label.fitted:hover label.sk-toggleable__label.fitted {\n",
       "  color: var(--sklearn-color-text);\n",
       "  background-color: var(--sklearn-color-fitted-level-2);\n",
       "}\n",
       "\n",
       "/* Estimator label */\n",
       "\n",
       "#sk-container-id-1 div.sk-label label {\n",
       "  font-family: monospace;\n",
       "  font-weight: bold;\n",
       "  display: inline-block;\n",
       "  line-height: 1.2em;\n",
       "}\n",
       "\n",
       "#sk-container-id-1 div.sk-label-container {\n",
       "  text-align: center;\n",
       "}\n",
       "\n",
       "/* Estimator-specific */\n",
       "#sk-container-id-1 div.sk-estimator {\n",
       "  font-family: monospace;\n",
       "  border: 1px dotted var(--sklearn-color-border-box);\n",
       "  border-radius: 0.25em;\n",
       "  box-sizing: border-box;\n",
       "  margin-bottom: 0.5em;\n",
       "  /* unfitted */\n",
       "  background-color: var(--sklearn-color-unfitted-level-0);\n",
       "}\n",
       "\n",
       "#sk-container-id-1 div.sk-estimator.fitted {\n",
       "  /* fitted */\n",
       "  background-color: var(--sklearn-color-fitted-level-0);\n",
       "}\n",
       "\n",
       "/* on hover */\n",
       "#sk-container-id-1 div.sk-estimator:hover {\n",
       "  /* unfitted */\n",
       "  background-color: var(--sklearn-color-unfitted-level-2);\n",
       "}\n",
       "\n",
       "#sk-container-id-1 div.sk-estimator.fitted:hover {\n",
       "  /* fitted */\n",
       "  background-color: var(--sklearn-color-fitted-level-2);\n",
       "}\n",
       "\n",
       "/* Specification for estimator info (e.g. \"i\" and \"?\") */\n",
       "\n",
       "/* Common style for \"i\" and \"?\" */\n",
       "\n",
       ".sk-estimator-doc-link,\n",
       "a:link.sk-estimator-doc-link,\n",
       "a:visited.sk-estimator-doc-link {\n",
       "  float: right;\n",
       "  font-size: smaller;\n",
       "  line-height: 1em;\n",
       "  font-family: monospace;\n",
       "  background-color: var(--sklearn-color-background);\n",
       "  border-radius: 1em;\n",
       "  height: 1em;\n",
       "  width: 1em;\n",
       "  text-decoration: none !important;\n",
       "  margin-left: 1ex;\n",
       "  /* unfitted */\n",
       "  border: var(--sklearn-color-unfitted-level-1) 1pt solid;\n",
       "  color: var(--sklearn-color-unfitted-level-1);\n",
       "}\n",
       "\n",
       ".sk-estimator-doc-link.fitted,\n",
       "a:link.sk-estimator-doc-link.fitted,\n",
       "a:visited.sk-estimator-doc-link.fitted {\n",
       "  /* fitted */\n",
       "  border: var(--sklearn-color-fitted-level-1) 1pt solid;\n",
       "  color: var(--sklearn-color-fitted-level-1);\n",
       "}\n",
       "\n",
       "/* On hover */\n",
       "div.sk-estimator:hover .sk-estimator-doc-link:hover,\n",
       ".sk-estimator-doc-link:hover,\n",
       "div.sk-label-container:hover .sk-estimator-doc-link:hover,\n",
       ".sk-estimator-doc-link:hover {\n",
       "  /* unfitted */\n",
       "  background-color: var(--sklearn-color-unfitted-level-3);\n",
       "  color: var(--sklearn-color-background);\n",
       "  text-decoration: none;\n",
       "}\n",
       "\n",
       "div.sk-estimator.fitted:hover .sk-estimator-doc-link.fitted:hover,\n",
       ".sk-estimator-doc-link.fitted:hover,\n",
       "div.sk-label-container:hover .sk-estimator-doc-link.fitted:hover,\n",
       ".sk-estimator-doc-link.fitted:hover {\n",
       "  /* fitted */\n",
       "  background-color: var(--sklearn-color-fitted-level-3);\n",
       "  color: var(--sklearn-color-background);\n",
       "  text-decoration: none;\n",
       "}\n",
       "\n",
       "/* Span, style for the box shown on hovering the info icon */\n",
       ".sk-estimator-doc-link span {\n",
       "  display: none;\n",
       "  z-index: 9999;\n",
       "  position: relative;\n",
       "  font-weight: normal;\n",
       "  right: .2ex;\n",
       "  padding: .5ex;\n",
       "  margin: .5ex;\n",
       "  width: min-content;\n",
       "  min-width: 20ex;\n",
       "  max-width: 50ex;\n",
       "  color: var(--sklearn-color-text);\n",
       "  box-shadow: 2pt 2pt 4pt #999;\n",
       "  /* unfitted */\n",
       "  background: var(--sklearn-color-unfitted-level-0);\n",
       "  border: .5pt solid var(--sklearn-color-unfitted-level-3);\n",
       "}\n",
       "\n",
       ".sk-estimator-doc-link.fitted span {\n",
       "  /* fitted */\n",
       "  background: var(--sklearn-color-fitted-level-0);\n",
       "  border: var(--sklearn-color-fitted-level-3);\n",
       "}\n",
       "\n",
       ".sk-estimator-doc-link:hover span {\n",
       "  display: block;\n",
       "}\n",
       "\n",
       "/* \"?\"-specific style due to the `<a>` HTML tag */\n",
       "\n",
       "#sk-container-id-1 a.estimator_doc_link {\n",
       "  float: right;\n",
       "  font-size: 1rem;\n",
       "  line-height: 1em;\n",
       "  font-family: monospace;\n",
       "  background-color: var(--sklearn-color-background);\n",
       "  border-radius: 1rem;\n",
       "  height: 1rem;\n",
       "  width: 1rem;\n",
       "  text-decoration: none;\n",
       "  /* unfitted */\n",
       "  color: var(--sklearn-color-unfitted-level-1);\n",
       "  border: var(--sklearn-color-unfitted-level-1) 1pt solid;\n",
       "}\n",
       "\n",
       "#sk-container-id-1 a.estimator_doc_link.fitted {\n",
       "  /* fitted */\n",
       "  border: var(--sklearn-color-fitted-level-1) 1pt solid;\n",
       "  color: var(--sklearn-color-fitted-level-1);\n",
       "}\n",
       "\n",
       "/* On hover */\n",
       "#sk-container-id-1 a.estimator_doc_link:hover {\n",
       "  /* unfitted */\n",
       "  background-color: var(--sklearn-color-unfitted-level-3);\n",
       "  color: var(--sklearn-color-background);\n",
       "  text-decoration: none;\n",
       "}\n",
       "\n",
       "#sk-container-id-1 a.estimator_doc_link.fitted:hover {\n",
       "  /* fitted */\n",
       "  background-color: var(--sklearn-color-fitted-level-3);\n",
       "}\n",
       "</style><div id=\"sk-container-id-1\" class=\"sk-top-container\"><div class=\"sk-text-repr-fallback\"><pre>DecisionTreeClassifier(max_depth=50, max_features=6, min_samples_leaf=2,\n",
       "                       min_samples_split=100)</pre><b>In a Jupyter environment, please rerun this cell to show the HTML representation or trust the notebook. <br />On GitHub, the HTML representation is unable to render, please try loading this page with nbviewer.org.</b></div><div class=\"sk-container\" hidden><div class=\"sk-item\"><div class=\"sk-estimator fitted sk-toggleable\"><input class=\"sk-toggleable__control sk-hidden--visually\" id=\"sk-estimator-id-1\" type=\"checkbox\" checked><label for=\"sk-estimator-id-1\" class=\"sk-toggleable__label fitted sk-toggleable__label-arrow fitted\">&nbsp;&nbsp;DecisionTreeClassifier<a class=\"sk-estimator-doc-link fitted\" rel=\"noreferrer\" target=\"_blank\" href=\"https://scikit-learn.org/1.5/modules/generated/sklearn.tree.DecisionTreeClassifier.html\">?<span>Documentation for DecisionTreeClassifier</span></a><span class=\"sk-estimator-doc-link fitted\">i<span>Fitted</span></span></label><div class=\"sk-toggleable__content fitted\"><pre>DecisionTreeClassifier(max_depth=50, max_features=6, min_samples_leaf=2,\n",
       "                       min_samples_split=100)</pre></div> </div></div></div></div>"
      ],
      "text/plain": [
       "DecisionTreeClassifier(max_depth=50, max_features=6, min_samples_leaf=2,\n",
       "                       min_samples_split=100)"
      ]
     },
     "execution_count": 70,
     "metadata": {},
     "output_type": "execute_result"
    }
   ],
   "source": [
    "# Fit the best Decision Tree to our training data\n",
    "dt.fit(X_train,y_train)"
   ]
  },
  {
   "cell_type": "code",
   "execution_count": 74,
   "id": "0004ca34-9797-43a7-b76f-cd46c5b63ab6",
   "metadata": {},
   "outputs": [
    {
     "name": "stdout",
     "output_type": "stream",
     "text": [
      "Score on training set: 0.5015539929904997\n",
      "Score on testing set: 0.452633203044641\n"
     ]
    }
   ],
   "source": [
    "# The accuracy scores of the model on the training and the testing data.\n",
    "print(f'Score on training set: {dt.score(X_train,y_train)}')\n",
    "print(f'Score on testing set: {dt.score(X_test, y_test)}')"
   ]
  },
  {
   "cell_type": "code",
   "execution_count": 76,
   "id": "d73d9a41-cb1d-4a4a-9c90-f0f0fc5bda80",
   "metadata": {},
   "outputs": [
    {
     "data": {
      "text/plain": [
       "array([0.24802098, 0.23569262, 0.09527753, 0.18069627, 0.12464437,\n",
       "       0.11566823])"
      ]
     },
     "execution_count": 76,
     "metadata": {},
     "output_type": "execute_result"
    }
   ],
   "source": [
    "# How important each feature was to the model\n",
    "dt.feature_importances_\n",
    "# [height_cm, weight_kg, male, age, physical, team]"
   ]
  },
  {
   "cell_type": "markdown",
   "id": "8e772ec3-b6c3-4195-8030-24524e6835b9",
   "metadata": {},
   "source": [
    "**Notes:**\n",
    "\n",
    "- The model is overfitting but not by too much.\n",
    "- The accuracy on the testing set is 45% which is pretty good and can be used for a recommender model.\n",
    "- All the features have at least 10% importance which is pretty good.\n",
    "\n",
    "\n",
    "Now test the model on my own data and see what sport it recommends."
   ]
  },
  {
   "cell_type": "code",
   "execution_count": 84,
   "id": "4770eadd-d724-4984-b41e-e0b1eba9ee60",
   "metadata": {},
   "outputs": [
    {
     "data": {
      "text/html": [
       "<div>\n",
       "<style scoped>\n",
       "    .dataframe tbody tr th:only-of-type {\n",
       "        vertical-align: middle;\n",
       "    }\n",
       "\n",
       "    .dataframe tbody tr th {\n",
       "        vertical-align: top;\n",
       "    }\n",
       "\n",
       "    .dataframe thead th {\n",
       "        text-align: right;\n",
       "    }\n",
       "</style>\n",
       "<table border=\"1\" class=\"dataframe\">\n",
       "  <thead>\n",
       "    <tr style=\"text-align: right;\">\n",
       "      <th></th>\n",
       "      <th>height_cm</th>\n",
       "      <th>weight_kg</th>\n",
       "      <th>male</th>\n",
       "      <th>age</th>\n",
       "      <th>physical</th>\n",
       "      <th>team</th>\n",
       "    </tr>\n",
       "  </thead>\n",
       "  <tbody>\n",
       "    <tr>\n",
       "      <th>0</th>\n",
       "      <td>170</td>\n",
       "      <td>70</td>\n",
       "      <td>True</td>\n",
       "      <td>23</td>\n",
       "      <td>False</td>\n",
       "      <td>True</td>\n",
       "    </tr>\n",
       "  </tbody>\n",
       "</table>\n",
       "</div>"
      ],
      "text/plain": [
       "   height_cm  weight_kg  male  age  physical  team\n",
       "0        170         70  True   23     False  True"
      ]
     },
     "execution_count": 84,
     "metadata": {},
     "output_type": "execute_result"
    }
   ],
   "source": [
    "# Example input to the model using my own data entry\n",
    "my_data = pd.DataFrame({'height_cm' : [170], 'weight_kg' : [70], 'male' : [True], 'age' : [23],\n",
    "               'physical' : [False], 'team' : [True]})\n",
    "my_data"
   ]
  },
  {
   "cell_type": "code",
   "execution_count": 86,
   "id": "3c1baaf0-ff49-48f3-b4e0-68de1a8cfb19",
   "metadata": {},
   "outputs": [
    {
     "data": {
      "text/plain": [
       "array(['Diving (Aquatics)'], dtype=object)"
      ]
     },
     "execution_count": 86,
     "metadata": {},
     "output_type": "execute_result"
    }
   ],
   "source": [
    "# The results using my data\n",
    "dt.predict(my_data)"
   ]
  },
  {
   "cell_type": "markdown",
   "id": "7e594114-deaf-4365-a632-f2d3644cf163",
   "metadata": {},
   "source": [
    "## Function\n",
    "\n",
    "I created a function that takes inputted features and returns the recommended Olympic sport."
   ]
  },
  {
   "cell_type": "code",
   "execution_count": 1201,
   "id": "bd4a4777-acaf-461c-a03d-ffdcaa66173c",
   "metadata": {},
   "outputs": [],
   "source": [
    "def predictor():\n",
    "    # Introduction\n",
    "    input('Welcome to the Olympic sport recommender!')\n",
    "    print('')\n",
    "    print('This application will ask you a few questions about yourself.')\n",
    "    print('Then using data from real athletes, it will give you the Olympic sport that is most compatible to your choices and attributes.')\n",
    "    print('')\n",
    "    input('Press Enter to start.')\n",
    "\n",
    "    x=0\n",
    "    while x==0:\n",
    "        try:\n",
    "            height = float(input('Enter your height in cm: '))\n",
    "            if (height >= 120) & (height <= 230):\n",
    "                x=1\n",
    "            else:\n",
    "                print('Unfortunately the height you entered is out of range (120cm - 230cm). Please try again.')\n",
    "        except:\n",
    "            print('You did not enter a valid height. Please try again. ')\n",
    "            continue\n",
    "    print('')\n",
    "    while x==1:\n",
    "        try:\n",
    "            weight = float(input('Enter your weight in kg: '))\n",
    "            if (weight >=20) & (weight <= 250):\n",
    "                x=2\n",
    "            else:\n",
    "                print('Unfortunately the weight you entered is out of range (20kg - 250kg). Please try again.')\n",
    "        except:\n",
    "            print('You did not enter a valid weight. Please try again. ')\n",
    "            continue\n",
    "    print('')\n",
    "    while x==2:\n",
    "        try:\n",
    "            age = float(input('Enter your age in years: '))\n",
    "            if (age >= 10) & (age <= 75):\n",
    "                x=3\n",
    "            else:\n",
    "                print('Unfortunately the age you entered is out of range (10 - 75). Please try again.')\n",
    "        except:\n",
    "            print('You did not enter a valid age. Please try again. ')\n",
    "            continue\n",
    "    print('')\n",
    "    while x==3:\n",
    "        gender = input('Are you male or female? (Enter M or F): ').lower()\n",
    "        if gender == 'm':\n",
    "            x=4\n",
    "        elif gender == 'f':\n",
    "            x=4\n",
    "        else:\n",
    "            print('You did not enter either M or F. Please try again.')\n",
    "            \n",
    "    print('')\n",
    "    print('Would you prefer a more physically challenging sport (e.g. Athletics), or a less physical sport that requires a specialised skill (e.g. Shooting)?')\n",
    "    while x==4:\n",
    "        physical = input('Enter P if you would prefer a physical sport. Enter N if not: ').lower()\n",
    "        if physical == 'p':\n",
    "            x=5\n",
    "        elif physical == 'n':\n",
    "            x=5\n",
    "        else:\n",
    "            print('You did not enter either P or N. Please try again.')\n",
    "\n",
    "    while x==5:\n",
    "        team = input('Would you prefer a team sport or an individual sport? Enter T for team. Enter I for individual: ').lower()\n",
    "        if team == 't':\n",
    "            x=6\n",
    "        elif team == 'i':\n",
    "            x=6\n",
    "        else:\n",
    "            print('You did not enter either T or I. Please try again.')\n",
    "    print('\\n')\n",
    "    time.sleep(1)\n",
    "    print('Thank you for answering the questions. Here are the details you entered:')\n",
    "    print('')\n",
    "    time.sleep(.5)\n",
    "    print(f\"Height : {height}cm\")\n",
    "    time.sleep(.5)\n",
    "    print(f\"Weight : {weight}kg\")\n",
    "    time.sleep(.5)\n",
    "    print(f\"Age : {age}\")\n",
    "    time.sleep(.5)\n",
    "    if gender == 'm':\n",
    "        print(f\"Gender : Male\")\n",
    "        gender = True\n",
    "    else:\n",
    "        print(f\"Gender : Female\")\n",
    "        gender = False\n",
    "    time.sleep(.5)\n",
    "    if physical == 'p':\n",
    "        physical = True\n",
    "        if team == 't':\n",
    "            print(f\"Preferred Sport Type : Physical and Team\")\n",
    "            team = True\n",
    "        else:\n",
    "            print(f\"Preferred Sport Type : Physical and Individual\")\n",
    "            team = False\n",
    "    else:\n",
    "        physical = False\n",
    "        if team == 't':\n",
    "            print(f\"Preferred Sport Type : Non-physical and Team\")\n",
    "            team = True\n",
    "        else:\n",
    "            print(f\"Preferred Sport Type : Non-physical and Individual\")\n",
    "            team = False\n",
    "    time.sleep(1)\n",
    "    print('\\n')\n",
    "    input('Press Enter to view your results')\n",
    "    \n",
    "    # Model\n",
    "    data = pd.DataFrame({'height_cm' : [height], 'weight_kg' : [weight], 'age' : [age], 'male' : [gender],\n",
    "               'physical' : [physical], 'team' : [team]})\n",
    "    \n",
    "\n",
    "    result = model.predict(data)[0]\n",
    "    return f\"Based on the information that you have entered, the sport we think is most suited to you is:   {result}\""
   ]
  },
  {
   "cell_type": "code",
   "execution_count": 1213,
   "id": "36328820-7e65-4866-9691-6242fa4404e0",
   "metadata": {},
   "outputs": [
    {
     "name": "stdin",
     "output_type": "stream",
     "text": [
      "Welcome to the Olympic sport recommender! \n"
     ]
    },
    {
     "name": "stdout",
     "output_type": "stream",
     "text": [
      "\n",
      "This application will ask you a few questions about yourself.\n",
      "Then using data from real athletes, it will give you the Olympic sport that is most compatible to your choices and attributes.\n",
      "\n"
     ]
    },
    {
     "name": "stdin",
     "output_type": "stream",
     "text": [
      "Press Enter to start. \n",
      "Enter your height in cm:  170\n"
     ]
    },
    {
     "name": "stdout",
     "output_type": "stream",
     "text": [
      "\n"
     ]
    },
    {
     "name": "stdin",
     "output_type": "stream",
     "text": [
      "Enter your weight in kg:  70\n"
     ]
    },
    {
     "name": "stdout",
     "output_type": "stream",
     "text": [
      "\n"
     ]
    },
    {
     "name": "stdin",
     "output_type": "stream",
     "text": [
      "Enter your age in years:  23\n"
     ]
    },
    {
     "name": "stdout",
     "output_type": "stream",
     "text": [
      "\n"
     ]
    },
    {
     "name": "stdin",
     "output_type": "stream",
     "text": [
      "Are you male or female? (Enter M or F):  m\n"
     ]
    },
    {
     "name": "stdout",
     "output_type": "stream",
     "text": [
      "\n",
      "Would you prefer a more physically challenging sport (e.g. Athletics), or a less physical sport that requires a specialised skill (e.g. Shooting)?\n"
     ]
    },
    {
     "name": "stdin",
     "output_type": "stream",
     "text": [
      "Enter P if you would prefer a physical sport. Enter N if not:  n\n",
      "Would you prefer a team sport or an individual sport? Enter T for team. Enter I for individual:  t\n"
     ]
    },
    {
     "name": "stdout",
     "output_type": "stream",
     "text": [
      "\n",
      "\n",
      "Thank you for answering the questions. Here are the details you entered:\n",
      "\n",
      "Height : 170.0cm\n",
      "Weight : 70.0kg\n",
      "Age : 23.0\n",
      "Gender : Male\n",
      "Preferred Sport Type : Non-physical and Team\n",
      "\n",
      "\n"
     ]
    },
    {
     "name": "stdin",
     "output_type": "stream",
     "text": [
      "Press Enter to view your results \n"
     ]
    },
    {
     "data": {
      "text/plain": [
       "'Based on the information that you have entered, the sport we think is most suited to you is:   Diving (Aquatics)'"
      ]
     },
     "execution_count": 1213,
     "metadata": {},
     "output_type": "execute_result"
    }
   ],
   "source": [
    "predictor()"
   ]
  },
  {
   "cell_type": "code",
   "execution_count": 535,
   "id": "83ce0338-1591-412c-bcb7-d8e2866a72ed",
   "metadata": {},
   "outputs": [],
   "source": [
    "df1 = df.copy()"
   ]
  },
  {
   "cell_type": "code",
   "execution_count": 537,
   "id": "6e483328-c472-4824-9a65-c1f17412bd8c",
   "metadata": {},
   "outputs": [],
   "source": [
    "# All the sports in the data split into categories\n",
    "aquatics = ['Diving (Aquatics)', 'Marathon Swimming (Aquatics)', 'Swimming (Aquatics)', 'Water Polo (Aquatics)',\n",
    "            'Artistic Swimming (Aquatics)']\n",
    "athletics = ['Athletics']\n",
    "ball_sports = ['Football (Football)', 'Basketball (Basketball)', 'Beach Volleyball (Volleyball)', 'Handball',\n",
    "               'Hockey', 'Softball (Baseball/Softball)', 'Volleyball (Volleyball)', 'Baseball (Baseball/Softball)',\n",
    "               'Rugby Sevens (Rugby)', '3x3 Basketball (Basketball)']\n",
    "combat_sports = ['Judo', 'Wrestling', 'Boxing', 'Taekwondo', 'Karate']\n",
    "cycling = ['Cycling Road (Cycling)', 'Cycling Track (Cycling)', 'Cycling Mountain Bike (Cycling)', 'Cycling BMX Racing (Cycling)',\n",
    "           'Cycling BMX Freestyle (Cycling)']\n",
    "gymnastics = ['Artistic Gymnastics (Gymnastics)', 'Trampolining (Gymnastics)', 'Rhythmic Gymnastics (Gymnastics)']\n",
    "racquet_sports = ['Table Tennis', 'Tennis', 'Badminton']\n",
    "shooting_sports = ['Archery', 'Shooting']\n",
    "watercraft_sports = ['Rowing', 'Sailing', 'Canoe Sprint (Canoeing)', 'Canoe Slalom (Canoeing)']\n",
    "strength_and_climbing = ['Weightlifting', 'Sport Climbing']\n",
    "other_sports = ['Fencing', 'Golf', 'Modern Pentathlon', 'Triathlon', 'Skateboarding (Roller Sports)', 'Surfing']"
   ]
  },
  {
   "cell_type": "code",
   "execution_count": 539,
   "id": "e36ac484-5c2e-419c-bd77-80d3605df1e4",
   "metadata": {},
   "outputs": [
    {
     "data": {
      "text/plain": [
       "0"
      ]
     },
     "execution_count": 539,
     "metadata": {},
     "output_type": "execute_result"
    }
   ],
   "source": [
    "# Check that I have done ALL the sports\n",
    "len(aquatics + athletics + ball_sports + combat_sports + cycling + gymnastics + racquet_sports + shooting_sports \n",
    "    + watercraft_sports +  strength_and_climbing  + other_sports) - len(df1.discipline.unique().tolist())"
   ]
  },
  {
   "cell_type": "code",
   "execution_count": 541,
   "id": "2248eec6-80dd-455c-8118-9d0a32969885",
   "metadata": {},
   "outputs": [],
   "source": [
    "categories = {'aquatics' : aquatics, 'athletics' : athletics, 'ball_sports' : ball_sports,\n",
    "              'combat_sports' : combat_sports, 'cycling' : cycling, 'gymnastics' : gymnastics,\n",
    "              'racquet_sports' : racquet_sports, 'shooting_sports' : shooting_sports,\n",
    "              'watercraft_sports' : watercraft_sports,\n",
    "              'strength_and_climbing' : strength_and_climbing,\n",
    "              'other_sports' : other_sports}"
   ]
  },
  {
   "cell_type": "code",
   "execution_count": 543,
   "id": "5a5144fc-302a-4b5e-adf3-b9f87ac1d62d",
   "metadata": {},
   "outputs": [
    {
     "name": "stdout",
     "output_type": "stream",
     "text": [
      "{'Table Tennis': 'racquet_sports', 'Archery': 'shooting_sports', 'Fencing': 'other_sports', 'Football (Football)': 'ball_sports', 'Artistic Gymnastics (Gymnastics)': 'gymnastics', 'Rowing': 'watercraft_sports', 'Shooting': 'shooting_sports', 'Diving (Aquatics)': 'aquatics', 'Sailing': 'watercraft_sports', 'Athletics': 'athletics', 'Canoe Sprint (Canoeing)': 'watercraft_sports', 'Marathon Swimming (Aquatics)': 'aquatics', 'Weightlifting': 'strength_and_climbing', 'Basketball (Basketball)': 'ball_sports', 'Swimming (Aquatics)': 'aquatics', 'Cycling Road (Cycling)': 'cycling', 'Triathlon': 'other_sports', 'Judo': 'combat_sports', 'Beach Volleyball (Volleyball)': 'ball_sports', 'Cycling Track (Cycling)': 'cycling', 'Tennis': 'racquet_sports', 'Wrestling': 'combat_sports', 'Cycling Mountain Bike (Cycling)': 'cycling', 'Handball': 'ball_sports', 'Hockey': 'ball_sports', 'Softball (Baseball/Softball)': 'ball_sports', 'Volleyball (Volleyball)': 'ball_sports', 'Water Polo (Aquatics)': 'aquatics', 'Boxing': 'combat_sports', 'Badminton': 'racquet_sports', 'Baseball (Baseball/Softball)': 'ball_sports', 'Artistic Swimming (Aquatics)': 'aquatics', 'Modern Pentathlon': 'other_sports', 'Canoe Slalom (Canoeing)': 'watercraft_sports', 'Trampolining (Gymnastics)': 'gymnastics', 'Taekwondo': 'combat_sports', 'Rhythmic Gymnastics (Gymnastics)': 'gymnastics', 'Cycling BMX Racing (Cycling)': 'cycling', 'Skateboarding (Roller Sports)': 'other_sports', 'Golf': 'other_sports', 'Rugby Sevens (Rugby)': 'ball_sports', 'Karate': 'combat_sports', 'Surfing': 'other_sports', 'Cycling BMX Freestyle (Cycling)': 'cycling', 'Sport Climbing': 'strength_and_climbing', '3x3 Basketball (Basketball)': 'ball_sports'}\n"
     ]
    }
   ],
   "source": [
    "# Create a dictionary to map each discipline to its category\n",
    "mapping = {}\n",
    "for i in df1.discipline.unique().tolist():\n",
    "    for j in categories:\n",
    "        if i in categories[j]:\n",
    "            mapping[i] = j\n",
    "\n",
    "print(mapping)"
   ]
  },
  {
   "cell_type": "code",
   "execution_count": 545,
   "id": "ae1fd5c9-bff5-432c-9c0c-9411aa535a13",
   "metadata": {},
   "outputs": [],
   "source": [
    "# Create a new column in df1 using this mapping\n",
    "df1['category'] = df1.discipline.replace(mapping)"
   ]
  },
  {
   "cell_type": "code",
   "execution_count": 547,
   "id": "95b5b895-fb01-4fbb-8936-90c03c321af3",
   "metadata": {},
   "outputs": [
    {
     "data": {
      "text/plain": [
       "category\n",
       "aquatics                 1965\n",
       "athletics                2082\n",
       "ball_sports              2580\n",
       "combat_sports            1115\n",
       "cycling                   718\n",
       "gymnastics                966\n",
       "other_sports              780\n",
       "racquet_sports            582\n",
       "shooting_sports           620\n",
       "strength_and_climbing     216\n",
       "watercraft_sports        1296\n",
       "Name: category, dtype: int64"
      ]
     },
     "execution_count": 547,
     "metadata": {},
     "output_type": "execute_result"
    }
   ],
   "source": [
    "df1.groupby('category')['category'].count()"
   ]
  },
  {
   "cell_type": "code",
   "execution_count": 549,
   "id": "ed463315-3d8e-44fa-9a68-e9b57aa42f97",
   "metadata": {},
   "outputs": [],
   "source": [
    "# Remove entries with nulls in height or weight\n",
    "df1 = df1[df1.height_cm.notnull() & df1.weight_kg.notnull()]"
   ]
  },
  {
   "cell_type": "code",
   "execution_count": 551,
   "id": "12140e9d-9907-4b6c-b7b6-dd314c518ed6",
   "metadata": {},
   "outputs": [],
   "source": [
    "# Relevant feature columns that don't need OHE.\n",
    "feature_cols = ['height_cm', 'weight_kg', 'age', 'male', 'physical', 'team']\n",
    "\n",
    "# Creating X and y\n",
    "X = df1[feature_cols]\n",
    "y = df1['category']\n",
    "\n",
    "# Train Test Split\n",
    "X_train, X_test, y_train, y_test = train_test_split(X,  # X\n",
    "                                                    y,  # y\n",
    "                                                    test_size = 0.3, # Define a training %\n",
    "                                                    random_state = 42)"
   ]
  },
  {
   "cell_type": "code",
   "execution_count": 555,
   "id": "fd5a9661-065d-43d7-a456-cd98b1e5222a",
   "metadata": {},
   "outputs": [],
   "source": [
    "grid = GridSearchCV(estimator = DecisionTreeClassifier(),   # I want to use a Decision Tree!\n",
    "                    param_grid = {'max_depth': [5, 10, 20, 30],  # 4 possible options\n",
    "                                  'min_samples_split': [5, 10, 15, 20, 50, 100],  # 6 possible options\n",
    "                                  'min_samples_leaf': [2, 3, 4, 5, 6, 7],  # 6 possible options\n",
    "                                  'max_features': [5,6]},  # 2 possible options\n",
    "                    cv = 10,   # How many folds we want -- i.e. the value of K: In our case 10-fold CV\n",
    "                    refit = True, # Do we want to refit on each 9 folds?\n",
    "                    verbose = 1, # How much you want the output to print out\n",
    "                    scoring = 'accuracy')  # What metric do I prioritise?"
   ]
  },
  {
   "cell_type": "code",
   "execution_count": 559,
   "id": "21ad541b-795f-413c-8e77-503a46e532b8",
   "metadata": {},
   "outputs": [
    {
     "name": "stdout",
     "output_type": "stream",
     "text": [
      "Fitting 10 folds for each of 288 candidates, totalling 2880 fits\n",
      " Time in seconds: 48.696045875549316\n"
     ]
    },
    {
     "name": "stderr",
     "output_type": "stream",
     "text": [
      "C:\\Users\\josep\\anaconda3\\Lib\\site-packages\\numpy\\ma\\core.py:2820: RuntimeWarning: invalid value encountered in cast\n",
      "  _data = np.array(data, dtype=dtype, copy=copy,\n"
     ]
    }
   ],
   "source": [
    "# Take the gridsearch and fit it on the Training set\n",
    "\n",
    "now = time()   # Start by saving the current time\n",
    "\n",
    "# Fit the gridsearch on our training set\n",
    "grid.fit(X_train,y_train)\n",
    "\n",
    "print(f' Time in seconds: {time() - now}')   # Show the difference in time - i.e. how long this took"
   ]
  },
  {
   "cell_type": "code",
   "execution_count": 571,
   "id": "58200a05-6d14-466a-8c28-bb2db5aba8ad",
   "metadata": {},
   "outputs": [
    {
     "data": {
      "text/plain": [
       "{'max_depth': 30,\n",
       " 'max_features': 5,\n",
       " 'min_samples_leaf': 4,\n",
       " 'min_samples_split': 20}"
      ]
     },
     "execution_count": 571,
     "metadata": {},
     "output_type": "execute_result"
    }
   ],
   "source": [
    "grid.best_params_"
   ]
  },
  {
   "cell_type": "code",
   "execution_count": 579,
   "id": "02daa4ba-4634-41b9-9842-dc231ab16408",
   "metadata": {},
   "outputs": [
    {
     "data": {
      "text/plain": [
       "0.4534583938164539"
      ]
     },
     "execution_count": 579,
     "metadata": {},
     "output_type": "execute_result"
    }
   ],
   "source": [
    "grid.best_score_"
   ]
  },
  {
   "cell_type": "code",
   "execution_count": 581,
   "id": "854815a5-5246-49fe-808b-81ab449c8e20",
   "metadata": {},
   "outputs": [],
   "source": [
    "model = grid.best_estimator_"
   ]
  },
  {
   "cell_type": "code",
   "execution_count": 585,
   "id": "7824c2f2-f87d-4b22-92bd-041c49990029",
   "metadata": {},
   "outputs": [
    {
     "name": "stdout",
     "output_type": "stream",
     "text": [
      "Score on training set: 0.6095072175211548\n",
      "Score on testing set: 0.45005807200929154\n"
     ]
    }
   ],
   "source": [
    "# score - does a predict, and calculates score!\n",
    "# increasing the max_depth increases the score\n",
    "# However, increasing max_depth increases the chance of overfitting\n",
    "print(f'Score on training set: {model.score(X_train,y_train)}')\n",
    "print(f'Score on testing set: {model.score(X_test, y_test)}')\n"
   ]
  },
  {
   "cell_type": "markdown",
   "id": "31bda1f5-c28d-49cf-b13d-8a7b9c962995",
   "metadata": {},
   "source": [
    "Very overfitting but not sure there's a way to fix this without more detailed data.\n",
    "- Maybe try adding data from previous Olympic games if I have time so that the training and testing data is bigger."
   ]
  },
  {
   "cell_type": "code",
   "execution_count": 587,
   "id": "1f7ca3bf-fe3c-4c64-a57b-abd48352549d",
   "metadata": {},
   "outputs": [
    {
     "data": {
      "text/plain": [
       "array([0.25205894, 0.21148655, 0.20939151, 0.0555302 , 0.10665625,\n",
       "       0.16487656])"
      ]
     },
     "execution_count": 587,
     "metadata": {},
     "output_type": "execute_result"
    }
   ],
   "source": [
    "model.feature_importances_\n",
    "# [height_cm, weight_kg, age, male, physical, team]"
   ]
  },
  {
   "cell_type": "code",
   "execution_count": 589,
   "id": "296d5c4e-6d0e-494e-b0bf-7ceca1eae061",
   "metadata": {},
   "outputs": [
    {
     "data": {
      "text/plain": [
       "array(['ball_sports', 'watercraft_sports', 'aquatics', ..., 'ball_sports',\n",
       "       'aquatics', 'aquatics'], dtype=object)"
      ]
     },
     "execution_count": 589,
     "metadata": {},
     "output_type": "execute_result"
    }
   ],
   "source": [
    "model.predict(X_train)"
   ]
  },
  {
   "cell_type": "code",
   "execution_count": 591,
   "id": "39d1a37a-1d55-4704-ae10-38cef3909f03",
   "metadata": {},
   "outputs": [
    {
     "data": {
      "text/html": [
       "<div>\n",
       "<style scoped>\n",
       "    .dataframe tbody tr th:only-of-type {\n",
       "        vertical-align: middle;\n",
       "    }\n",
       "\n",
       "    .dataframe tbody tr th {\n",
       "        vertical-align: top;\n",
       "    }\n",
       "\n",
       "    .dataframe thead th {\n",
       "        text-align: right;\n",
       "    }\n",
       "</style>\n",
       "<table border=\"1\" class=\"dataframe\">\n",
       "  <thead>\n",
       "    <tr style=\"text-align: right;\">\n",
       "      <th></th>\n",
       "      <th>height_cm</th>\n",
       "      <th>weight_kg</th>\n",
       "      <th>age</th>\n",
       "      <th>male</th>\n",
       "      <th>physical</th>\n",
       "      <th>team</th>\n",
       "      <th>y_pred</th>\n",
       "      <th>y_real</th>\n",
       "    </tr>\n",
       "  </thead>\n",
       "  <tbody>\n",
       "    <tr>\n",
       "      <th>481</th>\n",
       "      <td>172.0</td>\n",
       "      <td>56.0</td>\n",
       "      <td>29.147159</td>\n",
       "      <td>False</td>\n",
       "      <td>True</td>\n",
       "      <td>True</td>\n",
       "      <td>ball_sports</td>\n",
       "      <td>aquatics</td>\n",
       "    </tr>\n",
       "    <tr>\n",
       "      <th>4672</th>\n",
       "      <td>183.0</td>\n",
       "      <td>73.0</td>\n",
       "      <td>32.219028</td>\n",
       "      <td>True</td>\n",
       "      <td>True</td>\n",
       "      <td>True</td>\n",
       "      <td>watercraft_sports</td>\n",
       "      <td>athletics</td>\n",
       "    </tr>\n",
       "    <tr>\n",
       "      <th>4336</th>\n",
       "      <td>194.0</td>\n",
       "      <td>83.0</td>\n",
       "      <td>26.924025</td>\n",
       "      <td>True</td>\n",
       "      <td>True</td>\n",
       "      <td>False</td>\n",
       "      <td>aquatics</td>\n",
       "      <td>cycling</td>\n",
       "    </tr>\n",
       "    <tr>\n",
       "      <th>4158</th>\n",
       "      <td>188.0</td>\n",
       "      <td>87.0</td>\n",
       "      <td>26.198494</td>\n",
       "      <td>True</td>\n",
       "      <td>False</td>\n",
       "      <td>False</td>\n",
       "      <td>watercraft_sports</td>\n",
       "      <td>aquatics</td>\n",
       "    </tr>\n",
       "    <tr>\n",
       "      <th>1628</th>\n",
       "      <td>182.0</td>\n",
       "      <td>70.0</td>\n",
       "      <td>28.156057</td>\n",
       "      <td>True</td>\n",
       "      <td>False</td>\n",
       "      <td>False</td>\n",
       "      <td>watercraft_sports</td>\n",
       "      <td>watercraft_sports</td>\n",
       "    </tr>\n",
       "    <tr>\n",
       "      <th>...</th>\n",
       "      <td>...</td>\n",
       "      <td>...</td>\n",
       "      <td>...</td>\n",
       "      <td>...</td>\n",
       "      <td>...</td>\n",
       "      <td>...</td>\n",
       "      <td>...</td>\n",
       "      <td>...</td>\n",
       "    </tr>\n",
       "    <tr>\n",
       "      <th>3827</th>\n",
       "      <td>188.0</td>\n",
       "      <td>84.0</td>\n",
       "      <td>28.569473</td>\n",
       "      <td>True</td>\n",
       "      <td>True</td>\n",
       "      <td>False</td>\n",
       "      <td>athletics</td>\n",
       "      <td>athletics</td>\n",
       "    </tr>\n",
       "    <tr>\n",
       "      <th>7134</th>\n",
       "      <td>190.0</td>\n",
       "      <td>97.0</td>\n",
       "      <td>37.379877</td>\n",
       "      <td>True</td>\n",
       "      <td>True</td>\n",
       "      <td>True</td>\n",
       "      <td>ball_sports</td>\n",
       "      <td>ball_sports</td>\n",
       "    </tr>\n",
       "    <tr>\n",
       "      <th>7342</th>\n",
       "      <td>166.0</td>\n",
       "      <td>68.0</td>\n",
       "      <td>26.261465</td>\n",
       "      <td>False</td>\n",
       "      <td>True</td>\n",
       "      <td>True</td>\n",
       "      <td>ball_sports</td>\n",
       "      <td>ball_sports</td>\n",
       "    </tr>\n",
       "    <tr>\n",
       "      <th>8369</th>\n",
       "      <td>187.0</td>\n",
       "      <td>100.0</td>\n",
       "      <td>31.173169</td>\n",
       "      <td>False</td>\n",
       "      <td>True</td>\n",
       "      <td>True</td>\n",
       "      <td>aquatics</td>\n",
       "      <td>aquatics</td>\n",
       "    </tr>\n",
       "    <tr>\n",
       "      <th>865</th>\n",
       "      <td>176.0</td>\n",
       "      <td>65.0</td>\n",
       "      <td>27.455168</td>\n",
       "      <td>False</td>\n",
       "      <td>True</td>\n",
       "      <td>False</td>\n",
       "      <td>aquatics</td>\n",
       "      <td>combat_sports</td>\n",
       "    </tr>\n",
       "  </tbody>\n",
       "</table>\n",
       "<p>4018 rows × 8 columns</p>\n",
       "</div>"
      ],
      "text/plain": [
       "      height_cm  weight_kg        age   male  physical   team  \\\n",
       "481       172.0       56.0  29.147159  False      True   True   \n",
       "4672      183.0       73.0  32.219028   True      True   True   \n",
       "4336      194.0       83.0  26.924025   True      True  False   \n",
       "4158      188.0       87.0  26.198494   True     False  False   \n",
       "1628      182.0       70.0  28.156057   True     False  False   \n",
       "...         ...        ...        ...    ...       ...    ...   \n",
       "3827      188.0       84.0  28.569473   True      True  False   \n",
       "7134      190.0       97.0  37.379877   True      True   True   \n",
       "7342      166.0       68.0  26.261465  False      True   True   \n",
       "8369      187.0      100.0  31.173169  False      True   True   \n",
       "865       176.0       65.0  27.455168  False      True  False   \n",
       "\n",
       "                 y_pred             y_real  \n",
       "481         ball_sports           aquatics  \n",
       "4672  watercraft_sports          athletics  \n",
       "4336           aquatics            cycling  \n",
       "4158  watercraft_sports           aquatics  \n",
       "1628  watercraft_sports  watercraft_sports  \n",
       "...                 ...                ...  \n",
       "3827          athletics          athletics  \n",
       "7134        ball_sports        ball_sports  \n",
       "7342        ball_sports        ball_sports  \n",
       "8369           aquatics           aquatics  \n",
       "865            aquatics      combat_sports  \n",
       "\n",
       "[4018 rows x 8 columns]"
      ]
     },
     "execution_count": 591,
     "metadata": {},
     "output_type": "execute_result"
    }
   ],
   "source": [
    "train_results = X_train.copy()\n",
    "train_results['y_pred'] = model.predict(X_train)\n",
    "train_results['y_real'] = y_train\n",
    "\n",
    "train_results"
   ]
  },
  {
   "cell_type": "code",
   "execution_count": 593,
   "id": "86a50508-b8da-4d2d-aa67-62231eb775f7",
   "metadata": {},
   "outputs": [
    {
     "data": {
      "text/plain": [
       "2449"
      ]
     },
     "execution_count": 593,
     "metadata": {},
     "output_type": "execute_result"
    }
   ],
   "source": [
    "# Number of correct predictions (bit less than half)\n",
    "len(train_results[train_results['y_pred'] == train_results['y_real']])"
   ]
  },
  {
   "cell_type": "code",
   "execution_count": 595,
   "id": "f770eaba-0c05-4df4-bc7b-a6c2370cc908",
   "metadata": {},
   "outputs": [
    {
     "data": {
      "text/plain": [
       "y_pred\n",
       "aquatics                 762\n",
       "athletics                796\n",
       "ball_sports              815\n",
       "combat_sports            267\n",
       "cycling                  201\n",
       "gymnastics               292\n",
       "other_sports             212\n",
       "racquet_sports            50\n",
       "shooting_sports          229\n",
       "strength_and_climbing     54\n",
       "watercraft_sports        340\n",
       "Name: y_pred, dtype: int64"
      ]
     },
     "execution_count": 595,
     "metadata": {},
     "output_type": "execute_result"
    }
   ],
   "source": [
    "# The model doesn't even predict every sport\n",
    "train_results.groupby('y_pred')['y_pred'].count()"
   ]
  },
  {
   "cell_type": "code",
   "execution_count": 597,
   "id": "33393072-f43b-471e-b547-0b30c2f5e62b",
   "metadata": {},
   "outputs": [
    {
     "data": {
      "text/html": [
       "<div>\n",
       "<style scoped>\n",
       "    .dataframe tbody tr th:only-of-type {\n",
       "        vertical-align: middle;\n",
       "    }\n",
       "\n",
       "    .dataframe tbody tr th {\n",
       "        vertical-align: top;\n",
       "    }\n",
       "\n",
       "    .dataframe thead th {\n",
       "        text-align: right;\n",
       "    }\n",
       "</style>\n",
       "<table border=\"1\" class=\"dataframe\">\n",
       "  <thead>\n",
       "    <tr style=\"text-align: right;\">\n",
       "      <th></th>\n",
       "      <th>height_cm</th>\n",
       "      <th>weight_kg</th>\n",
       "      <th>age</th>\n",
       "      <th>male</th>\n",
       "      <th>physical</th>\n",
       "      <th>team</th>\n",
       "      <th>y_pred</th>\n",
       "      <th>y_real</th>\n",
       "    </tr>\n",
       "  </thead>\n",
       "  <tbody>\n",
       "    <tr>\n",
       "      <th>768</th>\n",
       "      <td>161.0</td>\n",
       "      <td>62.0</td>\n",
       "      <td>28.969199</td>\n",
       "      <td>True</td>\n",
       "      <td>True</td>\n",
       "      <td>False</td>\n",
       "      <td>gymnastics</td>\n",
       "      <td>gymnastics</td>\n",
       "    </tr>\n",
       "    <tr>\n",
       "      <th>3029</th>\n",
       "      <td>186.0</td>\n",
       "      <td>80.0</td>\n",
       "      <td>28.052019</td>\n",
       "      <td>False</td>\n",
       "      <td>True</td>\n",
       "      <td>False</td>\n",
       "      <td>combat_sports</td>\n",
       "      <td>other_sports</td>\n",
       "    </tr>\n",
       "    <tr>\n",
       "      <th>4715</th>\n",
       "      <td>193.0</td>\n",
       "      <td>89.0</td>\n",
       "      <td>28.410678</td>\n",
       "      <td>True</td>\n",
       "      <td>True</td>\n",
       "      <td>False</td>\n",
       "      <td>aquatics</td>\n",
       "      <td>athletics</td>\n",
       "    </tr>\n",
       "    <tr>\n",
       "      <th>3562</th>\n",
       "      <td>184.0</td>\n",
       "      <td>83.0</td>\n",
       "      <td>25.218344</td>\n",
       "      <td>True</td>\n",
       "      <td>True</td>\n",
       "      <td>True</td>\n",
       "      <td>ball_sports</td>\n",
       "      <td>aquatics</td>\n",
       "    </tr>\n",
       "    <tr>\n",
       "      <th>3435</th>\n",
       "      <td>204.0</td>\n",
       "      <td>98.0</td>\n",
       "      <td>28.008214</td>\n",
       "      <td>True</td>\n",
       "      <td>False</td>\n",
       "      <td>False</td>\n",
       "      <td>other_sports</td>\n",
       "      <td>watercraft_sports</td>\n",
       "    </tr>\n",
       "    <tr>\n",
       "      <th>...</th>\n",
       "      <td>...</td>\n",
       "      <td>...</td>\n",
       "      <td>...</td>\n",
       "      <td>...</td>\n",
       "      <td>...</td>\n",
       "      <td>...</td>\n",
       "      <td>...</td>\n",
       "      <td>...</td>\n",
       "    </tr>\n",
       "    <tr>\n",
       "      <th>11679</th>\n",
       "      <td>193.0</td>\n",
       "      <td>85.0</td>\n",
       "      <td>22.910335</td>\n",
       "      <td>True</td>\n",
       "      <td>True</td>\n",
       "      <td>True</td>\n",
       "      <td>aquatics</td>\n",
       "      <td>watercraft_sports</td>\n",
       "    </tr>\n",
       "    <tr>\n",
       "      <th>3135</th>\n",
       "      <td>178.0</td>\n",
       "      <td>72.0</td>\n",
       "      <td>32.027379</td>\n",
       "      <td>False</td>\n",
       "      <td>True</td>\n",
       "      <td>True</td>\n",
       "      <td>ball_sports</td>\n",
       "      <td>ball_sports</td>\n",
       "    </tr>\n",
       "    <tr>\n",
       "      <th>2350</th>\n",
       "      <td>169.0</td>\n",
       "      <td>49.0</td>\n",
       "      <td>22.540726</td>\n",
       "      <td>False</td>\n",
       "      <td>True</td>\n",
       "      <td>True</td>\n",
       "      <td>athletics</td>\n",
       "      <td>athletics</td>\n",
       "    </tr>\n",
       "    <tr>\n",
       "      <th>4582</th>\n",
       "      <td>162.0</td>\n",
       "      <td>62.0</td>\n",
       "      <td>25.681040</td>\n",
       "      <td>True</td>\n",
       "      <td>True</td>\n",
       "      <td>False</td>\n",
       "      <td>combat_sports</td>\n",
       "      <td>gymnastics</td>\n",
       "    </tr>\n",
       "    <tr>\n",
       "      <th>3558</th>\n",
       "      <td>165.0</td>\n",
       "      <td>63.0</td>\n",
       "      <td>34.154689</td>\n",
       "      <td>True</td>\n",
       "      <td>False</td>\n",
       "      <td>True</td>\n",
       "      <td>other_sports</td>\n",
       "      <td>watercraft_sports</td>\n",
       "    </tr>\n",
       "  </tbody>\n",
       "</table>\n",
       "<p>1722 rows × 8 columns</p>\n",
       "</div>"
      ],
      "text/plain": [
       "       height_cm  weight_kg        age   male  physical   team         y_pred  \\\n",
       "768        161.0       62.0  28.969199   True      True  False     gymnastics   \n",
       "3029       186.0       80.0  28.052019  False      True  False  combat_sports   \n",
       "4715       193.0       89.0  28.410678   True      True  False       aquatics   \n",
       "3562       184.0       83.0  25.218344   True      True   True    ball_sports   \n",
       "3435       204.0       98.0  28.008214   True     False  False   other_sports   \n",
       "...          ...        ...        ...    ...       ...    ...            ...   \n",
       "11679      193.0       85.0  22.910335   True      True   True       aquatics   \n",
       "3135       178.0       72.0  32.027379  False      True   True    ball_sports   \n",
       "2350       169.0       49.0  22.540726  False      True   True      athletics   \n",
       "4582       162.0       62.0  25.681040   True      True  False  combat_sports   \n",
       "3558       165.0       63.0  34.154689   True     False   True   other_sports   \n",
       "\n",
       "                  y_real  \n",
       "768           gymnastics  \n",
       "3029        other_sports  \n",
       "4715           athletics  \n",
       "3562            aquatics  \n",
       "3435   watercraft_sports  \n",
       "...                  ...  \n",
       "11679  watercraft_sports  \n",
       "3135         ball_sports  \n",
       "2350           athletics  \n",
       "4582          gymnastics  \n",
       "3558   watercraft_sports  \n",
       "\n",
       "[1722 rows x 8 columns]"
      ]
     },
     "execution_count": 597,
     "metadata": {},
     "output_type": "execute_result"
    }
   ],
   "source": [
    "test_results = X_test.copy()\n",
    "test_results['y_pred'] = model.predict(X_test)\n",
    "test_results['y_real'] = y_test\n",
    "\n",
    "test_results"
   ]
  },
  {
   "cell_type": "code",
   "execution_count": 599,
   "id": "a9279fb0-00e2-4032-b831-8a183014e87b",
   "metadata": {},
   "outputs": [
    {
     "data": {
      "text/plain": [
       "775"
      ]
     },
     "execution_count": 599,
     "metadata": {},
     "output_type": "execute_result"
    }
   ],
   "source": [
    "# Number of correct predictions (bit less than half)\n",
    "len(test_results[test_results['y_pred'] == test_results['y_real']])"
   ]
  },
  {
   "cell_type": "code",
   "execution_count": 601,
   "id": "5de09863-76d1-41f0-a695-67a0e5c6a275",
   "metadata": {},
   "outputs": [
    {
     "data": {
      "text/plain": [
       "y_pred\n",
       "aquatics                 309\n",
       "athletics                346\n",
       "ball_sports              366\n",
       "combat_sports            123\n",
       "cycling                   86\n",
       "gymnastics                94\n",
       "other_sports              84\n",
       "racquet_sports            28\n",
       "shooting_sports          108\n",
       "strength_and_climbing     17\n",
       "watercraft_sports        161\n",
       "Name: y_pred, dtype: int64"
      ]
     },
     "execution_count": 601,
     "metadata": {},
     "output_type": "execute_result"
    }
   ],
   "source": [
    "# The model doesn't even predict every sport\n",
    "test_results.groupby('y_pred')['y_pred'].count()"
   ]
  },
  {
   "cell_type": "code",
   "execution_count": 603,
   "id": "2b4d34b0-0f47-4711-abc8-4532bd054c4c",
   "metadata": {},
   "outputs": [
    {
     "data": {
      "text/html": [
       "<div>\n",
       "<style scoped>\n",
       "    .dataframe tbody tr th:only-of-type {\n",
       "        vertical-align: middle;\n",
       "    }\n",
       "\n",
       "    .dataframe tbody tr th {\n",
       "        vertical-align: top;\n",
       "    }\n",
       "\n",
       "    .dataframe thead th {\n",
       "        text-align: right;\n",
       "    }\n",
       "</style>\n",
       "<table border=\"1\" class=\"dataframe\">\n",
       "  <thead>\n",
       "    <tr style=\"text-align: right;\">\n",
       "      <th></th>\n",
       "      <th>height_cm</th>\n",
       "      <th>weight_kg</th>\n",
       "      <th>age</th>\n",
       "      <th>male</th>\n",
       "      <th>physical</th>\n",
       "      <th>team</th>\n",
       "    </tr>\n",
       "  </thead>\n",
       "  <tbody>\n",
       "    <tr>\n",
       "      <th>0</th>\n",
       "      <td>170</td>\n",
       "      <td>70</td>\n",
       "      <td>23</td>\n",
       "      <td>True</td>\n",
       "      <td>False</td>\n",
       "      <td>False</td>\n",
       "    </tr>\n",
       "  </tbody>\n",
       "</table>\n",
       "</div>"
      ],
      "text/plain": [
       "   height_cm  weight_kg  age  male  physical   team\n",
       "0        170         70   23  True     False  False"
      ]
     },
     "execution_count": 603,
     "metadata": {},
     "output_type": "execute_result"
    }
   ],
   "source": [
    "# Example input to the model using my own data entry\n",
    "my_data = pd.DataFrame({'height_cm' : [170], 'weight_kg' : [70], 'age' : [23], 'male' : [True],\n",
    "               'physical' : [False], 'team' : [False]})\n",
    "my_data"
   ]
  },
  {
   "cell_type": "code",
   "execution_count": 605,
   "id": "fa9f16f7-5c06-4be1-ad72-7e3229c775bd",
   "metadata": {},
   "outputs": [
    {
     "data": {
      "text/plain": [
       "array(['aquatics'], dtype=object)"
      ]
     },
     "execution_count": 605,
     "metadata": {},
     "output_type": "execute_result"
    }
   ],
   "source": [
    "# The results using my data\n",
    "model.predict(my_data)"
   ]
  },
  {
   "cell_type": "markdown",
   "id": "91ad4481-8df7-48d8-8983-97cd426e891d",
   "metadata": {},
   "source": [
    "**Pros**\n",
    "- It doesn't look too bad to be fair, the predictions for me make sense I think.\n",
    "- Could make more models that use the category prediction and then predict the specific discipline from that category\n",
    "\n",
    "**Cons**\n",
    "- 43% accuracy on test set isn't great (although might not be too bad considering the number of targets)\n",
    "- The model doesn't seem to predict every category (only 9/13)"
   ]
  },
  {
   "cell_type": "markdown",
   "id": "70a0ad5e-e30c-4aff-8740-7fa394e165f3",
   "metadata": {},
   "source": [
    "### Basic Attempt"
   ]
  },
  {
   "cell_type": "code",
   "execution_count": 491,
   "id": "c044bef9-e096-4b5e-9437-71b27149dabf",
   "metadata": {},
   "outputs": [],
   "source": [
    "df3 = df.copy()"
   ]
  },
  {
   "cell_type": "code",
   "execution_count": 493,
   "id": "0baec236-a56a-40ec-ba05-00e33387fcd4",
   "metadata": {},
   "outputs": [],
   "source": [
    "df3 = df3[df3.height_cm.notnull() & df3.weight_kg.notnull()]"
   ]
  },
  {
   "cell_type": "code",
   "execution_count": 507,
   "id": "f5f34046-4eb5-42a1-820d-8200218d73b3",
   "metadata": {},
   "outputs": [],
   "source": [
    "# Convert boolean columns to integer (True = 1, False = 0\n",
    "df3[['male', 'physical', 'team']] = df3[['male', 'physical', 'team']].astype(int)"
   ]
  },
  {
   "cell_type": "code",
   "execution_count": 505,
   "id": "5246a4d6-24e5-47ff-a7f8-91e1dccbc35e",
   "metadata": {},
   "outputs": [
    {
     "name": "stdout",
     "output_type": "stream",
     "text": [
      "<class 'pandas.core.frame.DataFrame'>\n",
      "Index: 5740 entries, 0 to 12915\n",
      "Data columns (total 14 columns):\n",
      " #   Column        Non-Null Count  Dtype  \n",
      "---  ------        --------------  -----  \n",
      " 0   height_cm     5740 non-null   float64\n",
      " 1   weight_kg     5740 non-null   float64\n",
      " 2   age           5740 non-null   float64\n",
      " 3   country_name  5740 non-null   object \n",
      " 4   country_code  5740 non-null   object \n",
      " 5   born_country  5339 non-null   object \n",
      " 6   discipline    5740 non-null   object \n",
      " 7   event         5740 non-null   object \n",
      " 8   position      5524 non-null   float64\n",
      " 9   medal         1079 non-null   object \n",
      " 10  male          5740 non-null   int32  \n",
      " 11  age_rounded   5740 non-null   float64\n",
      " 12  physical      5740 non-null   int32  \n",
      " 13  team          5740 non-null   int32  \n",
      "dtypes: float64(5), int32(3), object(6)\n",
      "memory usage: 605.4+ KB\n"
     ]
    }
   ],
   "source": [
    "df3.info()"
   ]
  },
  {
   "cell_type": "code",
   "execution_count": 511,
   "id": "1def82af-9cdf-4ae4-a677-d8867f694201",
   "metadata": {},
   "outputs": [],
   "source": [
    "def feature_eng(df):\n",
    "        df = df.copy()     # This is just good practice!\n",
    "    # Making columns numerical\n",
    "    # 1. OHE\n",
    "        df = pd.get_dummies(df, columns = ['discipline'], drop_first = True, dtype = int)\n",
    "\n",
    "        df = sm.add_constant(df) \n",
    "        return df"
   ]
  },
  {
   "cell_type": "code",
   "execution_count": 531,
   "id": "86919112-617e-4c4c-b959-4739a60cbc17",
   "metadata": {},
   "outputs": [],
   "source": [
    "feature_cols = ['height_cm', 'weight_kg', 'male', 'physical', 'team', 'discipline']"
   ]
  },
  {
   "cell_type": "code",
   "execution_count": 533,
   "id": "bc032cac-3922-4f0b-9551-a22553013de1",
   "metadata": {},
   "outputs": [],
   "source": [
    "X = df3[feature_cols]\n",
    "y = df3['age']"
   ]
  },
  {
   "cell_type": "code",
   "execution_count": 535,
   "id": "28e19678-7000-4a92-950f-4e1a6dacec79",
   "metadata": {},
   "outputs": [],
   "source": [
    "# Use the train-test split function from sklearn to do it\n",
    "X_train, X_test, y_train, y_test = train_test_split(X,  # The features\n",
    "                                                    y,  # The target\n",
    "                                                    test_size = 0.3,    # What %  of the whole dataset to reserve for testing\n",
    "                                                    random_state = 42)  # Add a random state"
   ]
  },
  {
   "cell_type": "code",
   "execution_count": 537,
   "id": "0f2ca2e4-7479-46b3-a224-78b0b63b85e6",
   "metadata": {},
   "outputs": [],
   "source": [
    "X_train_fe = feature_eng(X_train)\n",
    "feature_cols = X_train_fe.columns.tolist()"
   ]
  },
  {
   "cell_type": "markdown",
   "id": "c3983030-311d-4373-b0ed-fd6ea513f146",
   "metadata": {},
   "source": [
    "The results below are pretty awful! Probably not worth doing this model."
   ]
  },
  {
   "cell_type": "code",
   "execution_count": 539,
   "id": "23b1ac4e-d1fa-45a9-8c14-dd7c1575c481",
   "metadata": {},
   "outputs": [
    {
     "data": {
      "text/html": [
       "<table class=\"simpletable\">\n",
       "<caption>OLS Regression Results</caption>\n",
       "<tr>\n",
       "  <th>Dep. Variable:</th>           <td>age</td>       <th>  R-squared:         </th> <td>   0.205</td> \n",
       "</tr>\n",
       "<tr>\n",
       "  <th>Model:</th>                   <td>OLS</td>       <th>  Adj. R-squared:    </th> <td>   0.195</td> \n",
       "</tr>\n",
       "<tr>\n",
       "  <th>Method:</th>             <td>Least Squares</td>  <th>  F-statistic:       </th> <td>   21.29</td> \n",
       "</tr>\n",
       "<tr>\n",
       "  <th>Date:</th>             <td>Tue, 28 Jan 2025</td> <th>  Prob (F-statistic):</th> <td>1.65e-160</td>\n",
       "</tr>\n",
       "<tr>\n",
       "  <th>Time:</th>                 <td>16:56:27</td>     <th>  Log-Likelihood:    </th> <td> -11577.</td> \n",
       "</tr>\n",
       "<tr>\n",
       "  <th>No. Observations:</th>      <td>  4018</td>      <th>  AIC:               </th> <td>2.325e+04</td>\n",
       "</tr>\n",
       "<tr>\n",
       "  <th>Df Residuals:</th>          <td>  3969</td>      <th>  BIC:               </th> <td>2.356e+04</td>\n",
       "</tr>\n",
       "<tr>\n",
       "  <th>Df Model:</th>              <td>    48</td>      <th>                     </th>     <td> </td>    \n",
       "</tr>\n",
       "<tr>\n",
       "  <th>Covariance Type:</th>      <td>nonrobust</td>    <th>                     </th>     <td> </td>    \n",
       "</tr>\n",
       "</table>\n",
       "<table class=\"simpletable\">\n",
       "<tr>\n",
       "                       <td></td>                          <th>coef</th>     <th>std err</th>      <th>t</th>      <th>P>|t|</th>  <th>[0.025</th>    <th>0.975]</th>  \n",
       "</tr>\n",
       "<tr>\n",
       "  <th>const</th>                                       <td>   30.3963</td> <td>    1.822</td> <td>   16.686</td> <td> 0.000</td> <td>   26.825</td> <td>   33.968</td>\n",
       "</tr>\n",
       "<tr>\n",
       "  <th>height_cm</th>                                   <td>   -0.0343</td> <td>    0.013</td> <td>   -2.629</td> <td> 0.009</td> <td>   -0.060</td> <td>   -0.009</td>\n",
       "</tr>\n",
       "<tr>\n",
       "  <th>weight_kg</th>                                   <td>    0.0420</td> <td>    0.008</td> <td>    5.007</td> <td> 0.000</td> <td>    0.026</td> <td>    0.058</td>\n",
       "</tr>\n",
       "<tr>\n",
       "  <th>male</th>                                        <td>    0.4678</td> <td>    0.188</td> <td>    2.485</td> <td> 0.013</td> <td>    0.099</td> <td>    0.837</td>\n",
       "</tr>\n",
       "<tr>\n",
       "  <th>physical</th>                                    <td>   -1.1869</td> <td>    2.392</td> <td>   -0.496</td> <td> 0.620</td> <td>   -5.877</td> <td>    3.503</td>\n",
       "</tr>\n",
       "<tr>\n",
       "  <th>team</th>                                        <td>   -0.2625</td> <td>    0.209</td> <td>   -1.254</td> <td> 0.210</td> <td>   -0.673</td> <td>    0.148</td>\n",
       "</tr>\n",
       "<tr>\n",
       "  <th>discipline_Archery</th>                          <td>    2.8995</td> <td>    0.565</td> <td>    5.129</td> <td> 0.000</td> <td>    1.791</td> <td>    4.008</td>\n",
       "</tr>\n",
       "<tr>\n",
       "  <th>discipline_Artistic Gymnastics (Gymnastics)</th> <td>   -0.1860</td> <td>    2.549</td> <td>   -0.073</td> <td> 0.942</td> <td>   -5.183</td> <td>    4.811</td>\n",
       "</tr>\n",
       "<tr>\n",
       "  <th>discipline_Artistic Swimming (Aquatics)</th>     <td>   -0.5987</td> <td>    0.700</td> <td>   -0.855</td> <td> 0.392</td> <td>   -1.971</td> <td>    0.774</td>\n",
       "</tr>\n",
       "<tr>\n",
       "  <th>discipline_Athletics</th>                        <td>    3.4243</td> <td>    2.525</td> <td>    1.356</td> <td> 0.175</td> <td>   -1.527</td> <td>    8.375</td>\n",
       "</tr>\n",
       "<tr>\n",
       "  <th>discipline_Badminton</th>                        <td>    3.2137</td> <td>    2.633</td> <td>    1.220</td> <td> 0.222</td> <td>   -1.949</td> <td>    8.376</td>\n",
       "</tr>\n",
       "<tr>\n",
       "  <th>discipline_Baseball (Baseball/Softball)</th>     <td>    3.4297</td> <td>    2.378</td> <td>    1.442</td> <td> 0.149</td> <td>   -1.233</td> <td>    8.092</td>\n",
       "</tr>\n",
       "<tr>\n",
       "  <th>discipline_Basketball (Basketball)</th>          <td>    3.7111</td> <td>    2.553</td> <td>    1.454</td> <td> 0.146</td> <td>   -1.294</td> <td>    8.716</td>\n",
       "</tr>\n",
       "<tr>\n",
       "  <th>discipline_Beach Volleyball (Volleyball)</th>    <td>    7.2525</td> <td>    2.626</td> <td>    2.761</td> <td> 0.006</td> <td>    2.103</td> <td>   12.402</td>\n",
       "</tr>\n",
       "<tr>\n",
       "  <th>discipline_Boxing</th>                           <td>    3.3658</td> <td>    2.599</td> <td>    1.295</td> <td> 0.195</td> <td>   -1.729</td> <td>    8.461</td>\n",
       "</tr>\n",
       "<tr>\n",
       "  <th>discipline_Canoe Slalom (Canoeing)</th>          <td>    3.0201</td> <td>    2.663</td> <td>    1.134</td> <td> 0.257</td> <td>   -2.202</td> <td>    8.242</td>\n",
       "</tr>\n",
       "<tr>\n",
       "  <th>discipline_Canoe Sprint (Canoeing)</th>          <td>    3.2547</td> <td>    2.544</td> <td>    1.279</td> <td> 0.201</td> <td>   -1.733</td> <td>    8.242</td>\n",
       "</tr>\n",
       "<tr>\n",
       "  <th>discipline_Cycling BMX Racing (Cycling)</th>     <td>    2.2533</td> <td>    2.762</td> <td>    0.816</td> <td> 0.415</td> <td>   -3.161</td> <td>    7.668</td>\n",
       "</tr>\n",
       "<tr>\n",
       "  <th>discipline_Cycling Mountain Bike (Cycling)</th>  <td>    6.4403</td> <td>    2.638</td> <td>    2.442</td> <td> 0.015</td> <td>    1.269</td> <td>   11.611</td>\n",
       "</tr>\n",
       "<tr>\n",
       "  <th>discipline_Cycling Road (Cycling)</th>           <td>    6.4731</td> <td>    2.578</td> <td>    2.511</td> <td> 0.012</td> <td>    1.419</td> <td>   11.527</td>\n",
       "</tr>\n",
       "<tr>\n",
       "  <th>discipline_Cycling Track (Cycling)</th>          <td>    3.3662</td> <td>    2.551</td> <td>    1.320</td> <td> 0.187</td> <td>   -1.634</td> <td>    8.367</td>\n",
       "</tr>\n",
       "<tr>\n",
       "  <th>discipline_Diving (Aquatics)</th>                <td>    0.1462</td> <td>    0.581</td> <td>    0.252</td> <td> 0.801</td> <td>   -0.992</td> <td>    1.285</td>\n",
       "</tr>\n",
       "<tr>\n",
       "  <th>discipline_Fencing</th>                          <td>    4.4004</td> <td>    0.483</td> <td>    9.103</td> <td> 0.000</td> <td>    3.453</td> <td>    5.348</td>\n",
       "</tr>\n",
       "<tr>\n",
       "  <th>discipline_Football (Football)</th>              <td>    1.5701</td> <td>    2.548</td> <td>    0.616</td> <td> 0.538</td> <td>   -3.426</td> <td>    6.566</td>\n",
       "</tr>\n",
       "<tr>\n",
       "  <th>discipline_Golf</th>                             <td>    2.8143</td> <td>    0.835</td> <td>    3.372</td> <td> 0.001</td> <td>    1.178</td> <td>    4.451</td>\n",
       "</tr>\n",
       "<tr>\n",
       "  <th>discipline_Handball</th>                         <td>    3.4600</td> <td>    2.532</td> <td>    1.366</td> <td> 0.172</td> <td>   -1.505</td> <td>    8.425</td>\n",
       "</tr>\n",
       "<tr>\n",
       "  <th>discipline_Hockey</th>                           <td>    3.6048</td> <td>    2.547</td> <td>    1.416</td> <td> 0.157</td> <td>   -1.388</td> <td>    8.598</td>\n",
       "</tr>\n",
       "<tr>\n",
       "  <th>discipline_Judo</th>                             <td>    3.3122</td> <td>    2.559</td> <td>    1.294</td> <td> 0.196</td> <td>   -1.704</td> <td>    8.329</td>\n",
       "</tr>\n",
       "<tr>\n",
       "  <th>discipline_Karate</th>                           <td>    3.6948</td> <td>    5.026</td> <td>    0.735</td> <td> 0.462</td> <td>   -6.158</td> <td>   13.548</td>\n",
       "</tr>\n",
       "<tr>\n",
       "  <th>discipline_Marathon Swimming (Aquatics)</th>     <td>    0.8142</td> <td>    2.735</td> <td>    0.298</td> <td> 0.766</td> <td>   -4.548</td> <td>    6.176</td>\n",
       "</tr>\n",
       "<tr>\n",
       "  <th>discipline_Modern Pentathlon</th>                <td>    3.9336</td> <td>    2.658</td> <td>    1.480</td> <td> 0.139</td> <td>   -1.278</td> <td>    9.145</td>\n",
       "</tr>\n",
       "<tr>\n",
       "  <th>discipline_Rhythmic Gymnastics (Gymnastics)</th> <td>   -4.2680</td> <td>    0.996</td> <td>   -4.285</td> <td> 0.000</td> <td>   -6.221</td> <td>   -2.315</td>\n",
       "</tr>\n",
       "<tr>\n",
       "  <th>discipline_Rowing</th>                           <td>    3.9406</td> <td>    2.534</td> <td>    1.555</td> <td> 0.120</td> <td>   -1.028</td> <td>    8.909</td>\n",
       "</tr>\n",
       "<tr>\n",
       "  <th>discipline_Rugby Sevens (Rugby)</th>             <td>    1.5272</td> <td>    2.559</td> <td>    0.597</td> <td> 0.551</td> <td>   -3.490</td> <td>    6.544</td>\n",
       "</tr>\n",
       "<tr>\n",
       "  <th>discipline_Sailing</th>                          <td>    4.3916</td> <td>    0.495</td> <td>    8.876</td> <td> 0.000</td> <td>    3.422</td> <td>    5.362</td>\n",
       "</tr>\n",
       "<tr>\n",
       "  <th>discipline_Shooting</th>                         <td>    6.6528</td> <td>    0.463</td> <td>   14.358</td> <td> 0.000</td> <td>    5.744</td> <td>    7.561</td>\n",
       "</tr>\n",
       "<tr>\n",
       "  <th>discipline_Skateboarding (Roller Sports)</th>    <td>   -5.0591</td> <td>    1.269</td> <td>   -3.987</td> <td> 0.000</td> <td>   -7.547</td> <td>   -2.571</td>\n",
       "</tr>\n",
       "<tr>\n",
       "  <th>discipline_Softball (Baseball/Softball)</th>     <td>    8.9592</td> <td>    1.712</td> <td>    5.235</td> <td> 0.000</td> <td>    5.604</td> <td>   12.315</td>\n",
       "</tr>\n",
       "<tr>\n",
       "  <th>discipline_Sport Climbing</th>                   <td>   -7.7816</td> <td>    5.028</td> <td>   -1.548</td> <td> 0.122</td> <td>  -17.639</td> <td>    2.075</td>\n",
       "</tr>\n",
       "<tr>\n",
       "  <th>discipline_Surfing</th>                          <td>   -0.4740</td> <td>    1.395</td> <td>   -0.340</td> <td> 0.734</td> <td>   -3.210</td> <td>    2.262</td>\n",
       "</tr>\n",
       "<tr>\n",
       "  <th>discipline_Swimming (Aquatics)</th>              <td>    0.2112</td> <td>    2.524</td> <td>    0.084</td> <td> 0.933</td> <td>   -4.737</td> <td>    5.160</td>\n",
       "</tr>\n",
       "<tr>\n",
       "  <th>discipline_Table Tennis</th>                     <td>    4.4283</td> <td>    0.507</td> <td>    8.726</td> <td> 0.000</td> <td>    3.433</td> <td>    5.423</td>\n",
       "</tr>\n",
       "<tr>\n",
       "  <th>discipline_Taekwondo</th>                        <td>    1.5382</td> <td>    2.631</td> <td>    0.585</td> <td> 0.559</td> <td>   -3.620</td> <td>    6.696</td>\n",
       "</tr>\n",
       "<tr>\n",
       "  <th>discipline_Tennis</th>                           <td>    4.6963</td> <td>    2.562</td> <td>    1.833</td> <td> 0.067</td> <td>   -0.327</td> <td>    9.720</td>\n",
       "</tr>\n",
       "<tr>\n",
       "  <th>discipline_Trampolining (Gymnastics)</th>        <td>    0.7201</td> <td>    1.270</td> <td>    0.567</td> <td> 0.571</td> <td>   -1.771</td> <td>    3.211</td>\n",
       "</tr>\n",
       "<tr>\n",
       "  <th>discipline_Triathlon</th>                        <td>    5.2096</td> <td>    2.644</td> <td>    1.970</td> <td> 0.049</td> <td>    0.026</td> <td>   10.393</td>\n",
       "</tr>\n",
       "<tr>\n",
       "  <th>discipline_Volleyball (Volleyball)</th>          <td>    3.1408</td> <td>    0.585</td> <td>    5.373</td> <td> 0.000</td> <td>    1.995</td> <td>    4.287</td>\n",
       "</tr>\n",
       "<tr>\n",
       "  <th>discipline_Water Polo (Aquatics)</th>            <td>    3.2431</td> <td>    2.546</td> <td>    1.274</td> <td> 0.203</td> <td>   -1.748</td> <td>    8.235</td>\n",
       "</tr>\n",
       "<tr>\n",
       "  <th>discipline_Weightlifting</th>                    <td>    1.7985</td> <td>    2.587</td> <td>    0.695</td> <td> 0.487</td> <td>   -3.273</td> <td>    6.870</td>\n",
       "</tr>\n",
       "<tr>\n",
       "  <th>discipline_Wrestling</th>                        <td>    3.6356</td> <td>    2.572</td> <td>    1.414</td> <td> 0.158</td> <td>   -1.407</td> <td>    8.678</td>\n",
       "</tr>\n",
       "</table>\n",
       "<table class=\"simpletable\">\n",
       "<tr>\n",
       "  <th>Omnibus:</th>       <td>350.050</td> <th>  Durbin-Watson:     </th> <td>   2.015</td> \n",
       "</tr>\n",
       "<tr>\n",
       "  <th>Prob(Omnibus):</th> <td> 0.000</td>  <th>  Jarque-Bera (JB):  </th> <td> 665.577</td> \n",
       "</tr>\n",
       "<tr>\n",
       "  <th>Skew:</th>          <td> 0.593</td>  <th>  Prob(JB):          </th> <td>2.96e-145</td>\n",
       "</tr>\n",
       "<tr>\n",
       "  <th>Kurtosis:</th>      <td> 4.603</td>  <th>  Cond. No.          </th> <td>3.13e+16</td> \n",
       "</tr>\n",
       "</table><br/><br/>Notes:<br/>[1] Standard Errors assume that the covariance matrix of the errors is correctly specified.<br/>[2] The smallest eigenvalue is 1.49e-25. This might indicate that there are<br/>strong multicollinearity problems or that the design matrix is singular."
      ],
      "text/latex": [
       "\\begin{center}\n",
       "\\begin{tabular}{lclc}\n",
       "\\toprule\n",
       "\\textbf{Dep. Variable:}                               &       age        & \\textbf{  R-squared:         } &     0.205   \\\\\n",
       "\\textbf{Model:}                                       &       OLS        & \\textbf{  Adj. R-squared:    } &     0.195   \\\\\n",
       "\\textbf{Method:}                                      &  Least Squares   & \\textbf{  F-statistic:       } &     21.29   \\\\\n",
       "\\textbf{Date:}                                        & Tue, 28 Jan 2025 & \\textbf{  Prob (F-statistic):} & 1.65e-160   \\\\\n",
       "\\textbf{Time:}                                        &     16:56:27     & \\textbf{  Log-Likelihood:    } &   -11577.   \\\\\n",
       "\\textbf{No. Observations:}                            &        4018      & \\textbf{  AIC:               } & 2.325e+04   \\\\\n",
       "\\textbf{Df Residuals:}                                &        3969      & \\textbf{  BIC:               } & 2.356e+04   \\\\\n",
       "\\textbf{Df Model:}                                    &          48      & \\textbf{                     } &             \\\\\n",
       "\\textbf{Covariance Type:}                             &    nonrobust     & \\textbf{                     } &             \\\\\n",
       "\\bottomrule\n",
       "\\end{tabular}\n",
       "\\begin{tabular}{lcccccc}\n",
       "                                                      & \\textbf{coef} & \\textbf{std err} & \\textbf{t} & \\textbf{P$> |$t$|$} & \\textbf{[0.025} & \\textbf{0.975]}  \\\\\n",
       "\\midrule\n",
       "\\textbf{const}                                        &      30.3963  &        1.822     &    16.686  &         0.000        &       26.825    &       33.968     \\\\\n",
       "\\textbf{height\\_cm}                                   &      -0.0343  &        0.013     &    -2.629  &         0.009        &       -0.060    &       -0.009     \\\\\n",
       "\\textbf{weight\\_kg}                                   &       0.0420  &        0.008     &     5.007  &         0.000        &        0.026    &        0.058     \\\\\n",
       "\\textbf{male}                                         &       0.4678  &        0.188     &     2.485  &         0.013        &        0.099    &        0.837     \\\\\n",
       "\\textbf{physical}                                     &      -1.1869  &        2.392     &    -0.496  &         0.620        &       -5.877    &        3.503     \\\\\n",
       "\\textbf{team}                                         &      -0.2625  &        0.209     &    -1.254  &         0.210        &       -0.673    &        0.148     \\\\\n",
       "\\textbf{discipline\\_Archery}                          &       2.8995  &        0.565     &     5.129  &         0.000        &        1.791    &        4.008     \\\\\n",
       "\\textbf{discipline\\_Artistic Gymnastics (Gymnastics)} &      -0.1860  &        2.549     &    -0.073  &         0.942        &       -5.183    &        4.811     \\\\\n",
       "\\textbf{discipline\\_Artistic Swimming (Aquatics)}     &      -0.5987  &        0.700     &    -0.855  &         0.392        &       -1.971    &        0.774     \\\\\n",
       "\\textbf{discipline\\_Athletics}                        &       3.4243  &        2.525     &     1.356  &         0.175        &       -1.527    &        8.375     \\\\\n",
       "\\textbf{discipline\\_Badminton}                        &       3.2137  &        2.633     &     1.220  &         0.222        &       -1.949    &        8.376     \\\\\n",
       "\\textbf{discipline\\_Baseball (Baseball/Softball)}     &       3.4297  &        2.378     &     1.442  &         0.149        &       -1.233    &        8.092     \\\\\n",
       "\\textbf{discipline\\_Basketball (Basketball)}          &       3.7111  &        2.553     &     1.454  &         0.146        &       -1.294    &        8.716     \\\\\n",
       "\\textbf{discipline\\_Beach Volleyball (Volleyball)}    &       7.2525  &        2.626     &     2.761  &         0.006        &        2.103    &       12.402     \\\\\n",
       "\\textbf{discipline\\_Boxing}                           &       3.3658  &        2.599     &     1.295  &         0.195        &       -1.729    &        8.461     \\\\\n",
       "\\textbf{discipline\\_Canoe Slalom (Canoeing)}          &       3.0201  &        2.663     &     1.134  &         0.257        &       -2.202    &        8.242     \\\\\n",
       "\\textbf{discipline\\_Canoe Sprint (Canoeing)}          &       3.2547  &        2.544     &     1.279  &         0.201        &       -1.733    &        8.242     \\\\\n",
       "\\textbf{discipline\\_Cycling BMX Racing (Cycling)}     &       2.2533  &        2.762     &     0.816  &         0.415        &       -3.161    &        7.668     \\\\\n",
       "\\textbf{discipline\\_Cycling Mountain Bike (Cycling)}  &       6.4403  &        2.638     &     2.442  &         0.015        &        1.269    &       11.611     \\\\\n",
       "\\textbf{discipline\\_Cycling Road (Cycling)}           &       6.4731  &        2.578     &     2.511  &         0.012        &        1.419    &       11.527     \\\\\n",
       "\\textbf{discipline\\_Cycling Track (Cycling)}          &       3.3662  &        2.551     &     1.320  &         0.187        &       -1.634    &        8.367     \\\\\n",
       "\\textbf{discipline\\_Diving (Aquatics)}                &       0.1462  &        0.581     &     0.252  &         0.801        &       -0.992    &        1.285     \\\\\n",
       "\\textbf{discipline\\_Fencing}                          &       4.4004  &        0.483     &     9.103  &         0.000        &        3.453    &        5.348     \\\\\n",
       "\\textbf{discipline\\_Football (Football)}              &       1.5701  &        2.548     &     0.616  &         0.538        &       -3.426    &        6.566     \\\\\n",
       "\\textbf{discipline\\_Golf}                             &       2.8143  &        0.835     &     3.372  &         0.001        &        1.178    &        4.451     \\\\\n",
       "\\textbf{discipline\\_Handball}                         &       3.4600  &        2.532     &     1.366  &         0.172        &       -1.505    &        8.425     \\\\\n",
       "\\textbf{discipline\\_Hockey}                           &       3.6048  &        2.547     &     1.416  &         0.157        &       -1.388    &        8.598     \\\\\n",
       "\\textbf{discipline\\_Judo}                             &       3.3122  &        2.559     &     1.294  &         0.196        &       -1.704    &        8.329     \\\\\n",
       "\\textbf{discipline\\_Karate}                           &       3.6948  &        5.026     &     0.735  &         0.462        &       -6.158    &       13.548     \\\\\n",
       "\\textbf{discipline\\_Marathon Swimming (Aquatics)}     &       0.8142  &        2.735     &     0.298  &         0.766        &       -4.548    &        6.176     \\\\\n",
       "\\textbf{discipline\\_Modern Pentathlon}                &       3.9336  &        2.658     &     1.480  &         0.139        &       -1.278    &        9.145     \\\\\n",
       "\\textbf{discipline\\_Rhythmic Gymnastics (Gymnastics)} &      -4.2680  &        0.996     &    -4.285  &         0.000        &       -6.221    &       -2.315     \\\\\n",
       "\\textbf{discipline\\_Rowing}                           &       3.9406  &        2.534     &     1.555  &         0.120        &       -1.028    &        8.909     \\\\\n",
       "\\textbf{discipline\\_Rugby Sevens (Rugby)}             &       1.5272  &        2.559     &     0.597  &         0.551        &       -3.490    &        6.544     \\\\\n",
       "\\textbf{discipline\\_Sailing}                          &       4.3916  &        0.495     &     8.876  &         0.000        &        3.422    &        5.362     \\\\\n",
       "\\textbf{discipline\\_Shooting}                         &       6.6528  &        0.463     &    14.358  &         0.000        &        5.744    &        7.561     \\\\\n",
       "\\textbf{discipline\\_Skateboarding (Roller Sports)}    &      -5.0591  &        1.269     &    -3.987  &         0.000        &       -7.547    &       -2.571     \\\\\n",
       "\\textbf{discipline\\_Softball (Baseball/Softball)}     &       8.9592  &        1.712     &     5.235  &         0.000        &        5.604    &       12.315     \\\\\n",
       "\\textbf{discipline\\_Sport Climbing}                   &      -7.7816  &        5.028     &    -1.548  &         0.122        &      -17.639    &        2.075     \\\\\n",
       "\\textbf{discipline\\_Surfing}                          &      -0.4740  &        1.395     &    -0.340  &         0.734        &       -3.210    &        2.262     \\\\\n",
       "\\textbf{discipline\\_Swimming (Aquatics)}              &       0.2112  &        2.524     &     0.084  &         0.933        &       -4.737    &        5.160     \\\\\n",
       "\\textbf{discipline\\_Table Tennis}                     &       4.4283  &        0.507     &     8.726  &         0.000        &        3.433    &        5.423     \\\\\n",
       "\\textbf{discipline\\_Taekwondo}                        &       1.5382  &        2.631     &     0.585  &         0.559        &       -3.620    &        6.696     \\\\\n",
       "\\textbf{discipline\\_Tennis}                           &       4.6963  &        2.562     &     1.833  &         0.067        &       -0.327    &        9.720     \\\\\n",
       "\\textbf{discipline\\_Trampolining (Gymnastics)}        &       0.7201  &        1.270     &     0.567  &         0.571        &       -1.771    &        3.211     \\\\\n",
       "\\textbf{discipline\\_Triathlon}                        &       5.2096  &        2.644     &     1.970  &         0.049        &        0.026    &       10.393     \\\\\n",
       "\\textbf{discipline\\_Volleyball (Volleyball)}          &       3.1408  &        0.585     &     5.373  &         0.000        &        1.995    &        4.287     \\\\\n",
       "\\textbf{discipline\\_Water Polo (Aquatics)}            &       3.2431  &        2.546     &     1.274  &         0.203        &       -1.748    &        8.235     \\\\\n",
       "\\textbf{discipline\\_Weightlifting}                    &       1.7985  &        2.587     &     0.695  &         0.487        &       -3.273    &        6.870     \\\\\n",
       "\\textbf{discipline\\_Wrestling}                        &       3.6356  &        2.572     &     1.414  &         0.158        &       -1.407    &        8.678     \\\\\n",
       "\\bottomrule\n",
       "\\end{tabular}\n",
       "\\begin{tabular}{lclc}\n",
       "\\textbf{Omnibus:}       & 350.050 & \\textbf{  Durbin-Watson:     } &     2.015  \\\\\n",
       "\\textbf{Prob(Omnibus):} &   0.000 & \\textbf{  Jarque-Bera (JB):  } &   665.577  \\\\\n",
       "\\textbf{Skew:}          &   0.593 & \\textbf{  Prob(JB):          } & 2.96e-145  \\\\\n",
       "\\textbf{Kurtosis:}      &   4.603 & \\textbf{  Cond. No.          } &  3.13e+16  \\\\\n",
       "\\bottomrule\n",
       "\\end{tabular}\n",
       "%\\caption{OLS Regression Results}\n",
       "\\end{center}\n",
       "\n",
       "Notes: \\newline\n",
       " [1] Standard Errors assume that the covariance matrix of the errors is correctly specified. \\newline\n",
       " [2] The smallest eigenvalue is 1.49e-25. This might indicate that there are \\newline\n",
       " strong multicollinearity problems or that the design matrix is singular."
      ],
      "text/plain": [
       "<class 'statsmodels.iolib.summary.Summary'>\n",
       "\"\"\"\n",
       "                            OLS Regression Results                            \n",
       "==============================================================================\n",
       "Dep. Variable:                    age   R-squared:                       0.205\n",
       "Model:                            OLS   Adj. R-squared:                  0.195\n",
       "Method:                 Least Squares   F-statistic:                     21.29\n",
       "Date:                Tue, 28 Jan 2025   Prob (F-statistic):          1.65e-160\n",
       "Time:                        16:56:27   Log-Likelihood:                -11577.\n",
       "No. Observations:                4018   AIC:                         2.325e+04\n",
       "Df Residuals:                    3969   BIC:                         2.356e+04\n",
       "Df Model:                          48                                         \n",
       "Covariance Type:            nonrobust                                         \n",
       "===============================================================================================================\n",
       "                                                  coef    std err          t      P>|t|      [0.025      0.975]\n",
       "---------------------------------------------------------------------------------------------------------------\n",
       "const                                          30.3963      1.822     16.686      0.000      26.825      33.968\n",
       "height_cm                                      -0.0343      0.013     -2.629      0.009      -0.060      -0.009\n",
       "weight_kg                                       0.0420      0.008      5.007      0.000       0.026       0.058\n",
       "male                                            0.4678      0.188      2.485      0.013       0.099       0.837\n",
       "physical                                       -1.1869      2.392     -0.496      0.620      -5.877       3.503\n",
       "team                                           -0.2625      0.209     -1.254      0.210      -0.673       0.148\n",
       "discipline_Archery                              2.8995      0.565      5.129      0.000       1.791       4.008\n",
       "discipline_Artistic Gymnastics (Gymnastics)    -0.1860      2.549     -0.073      0.942      -5.183       4.811\n",
       "discipline_Artistic Swimming (Aquatics)        -0.5987      0.700     -0.855      0.392      -1.971       0.774\n",
       "discipline_Athletics                            3.4243      2.525      1.356      0.175      -1.527       8.375\n",
       "discipline_Badminton                            3.2137      2.633      1.220      0.222      -1.949       8.376\n",
       "discipline_Baseball (Baseball/Softball)         3.4297      2.378      1.442      0.149      -1.233       8.092\n",
       "discipline_Basketball (Basketball)              3.7111      2.553      1.454      0.146      -1.294       8.716\n",
       "discipline_Beach Volleyball (Volleyball)        7.2525      2.626      2.761      0.006       2.103      12.402\n",
       "discipline_Boxing                               3.3658      2.599      1.295      0.195      -1.729       8.461\n",
       "discipline_Canoe Slalom (Canoeing)              3.0201      2.663      1.134      0.257      -2.202       8.242\n",
       "discipline_Canoe Sprint (Canoeing)              3.2547      2.544      1.279      0.201      -1.733       8.242\n",
       "discipline_Cycling BMX Racing (Cycling)         2.2533      2.762      0.816      0.415      -3.161       7.668\n",
       "discipline_Cycling Mountain Bike (Cycling)      6.4403      2.638      2.442      0.015       1.269      11.611\n",
       "discipline_Cycling Road (Cycling)               6.4731      2.578      2.511      0.012       1.419      11.527\n",
       "discipline_Cycling Track (Cycling)              3.3662      2.551      1.320      0.187      -1.634       8.367\n",
       "discipline_Diving (Aquatics)                    0.1462      0.581      0.252      0.801      -0.992       1.285\n",
       "discipline_Fencing                              4.4004      0.483      9.103      0.000       3.453       5.348\n",
       "discipline_Football (Football)                  1.5701      2.548      0.616      0.538      -3.426       6.566\n",
       "discipline_Golf                                 2.8143      0.835      3.372      0.001       1.178       4.451\n",
       "discipline_Handball                             3.4600      2.532      1.366      0.172      -1.505       8.425\n",
       "discipline_Hockey                               3.6048      2.547      1.416      0.157      -1.388       8.598\n",
       "discipline_Judo                                 3.3122      2.559      1.294      0.196      -1.704       8.329\n",
       "discipline_Karate                               3.6948      5.026      0.735      0.462      -6.158      13.548\n",
       "discipline_Marathon Swimming (Aquatics)         0.8142      2.735      0.298      0.766      -4.548       6.176\n",
       "discipline_Modern Pentathlon                    3.9336      2.658      1.480      0.139      -1.278       9.145\n",
       "discipline_Rhythmic Gymnastics (Gymnastics)    -4.2680      0.996     -4.285      0.000      -6.221      -2.315\n",
       "discipline_Rowing                               3.9406      2.534      1.555      0.120      -1.028       8.909\n",
       "discipline_Rugby Sevens (Rugby)                 1.5272      2.559      0.597      0.551      -3.490       6.544\n",
       "discipline_Sailing                              4.3916      0.495      8.876      0.000       3.422       5.362\n",
       "discipline_Shooting                             6.6528      0.463     14.358      0.000       5.744       7.561\n",
       "discipline_Skateboarding (Roller Sports)       -5.0591      1.269     -3.987      0.000      -7.547      -2.571\n",
       "discipline_Softball (Baseball/Softball)         8.9592      1.712      5.235      0.000       5.604      12.315\n",
       "discipline_Sport Climbing                      -7.7816      5.028     -1.548      0.122     -17.639       2.075\n",
       "discipline_Surfing                             -0.4740      1.395     -0.340      0.734      -3.210       2.262\n",
       "discipline_Swimming (Aquatics)                  0.2112      2.524      0.084      0.933      -4.737       5.160\n",
       "discipline_Table Tennis                         4.4283      0.507      8.726      0.000       3.433       5.423\n",
       "discipline_Taekwondo                            1.5382      2.631      0.585      0.559      -3.620       6.696\n",
       "discipline_Tennis                               4.6963      2.562      1.833      0.067      -0.327       9.720\n",
       "discipline_Trampolining (Gymnastics)            0.7201      1.270      0.567      0.571      -1.771       3.211\n",
       "discipline_Triathlon                            5.2096      2.644      1.970      0.049       0.026      10.393\n",
       "discipline_Volleyball (Volleyball)              3.1408      0.585      5.373      0.000       1.995       4.287\n",
       "discipline_Water Polo (Aquatics)                3.2431      2.546      1.274      0.203      -1.748       8.235\n",
       "discipline_Weightlifting                        1.7985      2.587      0.695      0.487      -3.273       6.870\n",
       "discipline_Wrestling                            3.6356      2.572      1.414      0.158      -1.407       8.678\n",
       "==============================================================================\n",
       "Omnibus:                      350.050   Durbin-Watson:                   2.015\n",
       "Prob(Omnibus):                  0.000   Jarque-Bera (JB):              665.577\n",
       "Skew:                           0.593   Prob(JB):                    2.96e-145\n",
       "Kurtosis:                       4.603   Cond. No.                     3.13e+16\n",
       "==============================================================================\n",
       "\n",
       "Notes:\n",
       "[1] Standard Errors assume that the covariance matrix of the errors is correctly specified.\n",
       "[2] The smallest eigenvalue is 1.49e-25. This might indicate that there are\n",
       "strong multicollinearity problems or that the design matrix is singular.\n",
       "\"\"\""
      ]
     },
     "execution_count": 539,
     "metadata": {},
     "output_type": "execute_result"
    }
   ],
   "source": [
    "lin_reg = sm.OLS(y_train, X_train_fe[feature_cols]) # First parameter: y, Second parameter: X\n",
    "results = lin_reg.fit()\n",
    "results.summary()"
   ]
  }
 ],
 "metadata": {
  "kernelspec": {
   "display_name": "Python 3 (ipykernel)",
   "language": "python",
   "name": "python3"
  },
  "language_info": {
   "codemirror_mode": {
    "name": "ipython",
    "version": 3
   },
   "file_extension": ".py",
   "mimetype": "text/x-python",
   "name": "python",
   "nbconvert_exporter": "python",
   "pygments_lexer": "ipython3",
   "version": "3.12.7"
  }
 },
 "nbformat": 4,
 "nbformat_minor": 5
}
